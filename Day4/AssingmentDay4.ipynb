{
 "cells": [
  {
   "cell_type": "code",
   "execution_count": 11,
   "metadata": {},
   "outputs": [
    {
     "name": "stdout",
     "output_type": "stream",
     "text": [
      "Two complex numbers a= (1+1j) b= (2+2j)\n",
      "a + b = (3+3j)\n",
      "a - b = (-1-1j)\n",
      "a / b = (0.5+0j)\n"
     ]
    }
   ],
   "source": [
    "\"\"\"Question 1 :\n",
    "1) Research on whether addition, subtraction, multiplication, division, floor division \n",
    "and modulo operations be performed on complex numbers.\"\"\"\n",
    "# Research is performed and observed that:\n",
    "\n",
    "# Two complex numbers can be Added, subtracted, multiplied and divided directly.\n",
    "# But Floor and modulo divisions on Complex numbers cannot be performed.\n",
    "\n",
    "\"\"\"2)Based on your study, implement a Python program to demonstrate these operations.\"\"\"\n",
    "a = 1+1j\n",
    "b = 2+2j\n",
    "print(\"Two complex numbers a= {0} b= {1}\".format(a,b))\n",
    "\n",
    "c= a+b\n",
    "print(\"a + b = {}\".format(c))\n",
    "d= a-b\n",
    "print(\"a - b = {}\".format(d))\n",
    "\n",
    "e = a/b\n",
    "print(\"a / b = {}\".format(e))"
   ]
  },
  {
   "cell_type": "code",
   "execution_count": 14,
   "metadata": {},
   "outputs": [
    {
     "ename": "TypeError",
     "evalue": "can't take floor of complex number.",
     "output_type": "error",
     "traceback": [
      "\u001b[1;31m---------------------------------------------------------------------------\u001b[0m",
      "\u001b[1;31mTypeError\u001b[0m                                 Traceback (most recent call last)",
      "\u001b[1;32m<ipython-input-14-f3d2e02d95a8>\u001b[0m in \u001b[0;36m<module>\u001b[1;34m\u001b[0m\n\u001b[0;32m      5\u001b[0m \u001b[0ma\u001b[0m \u001b[1;33m=\u001b[0m \u001b[1;36m1\u001b[0m\u001b[1;33m+\u001b[0m\u001b[1;36m1j\u001b[0m\u001b[1;33m\u001b[0m\u001b[1;33m\u001b[0m\u001b[0m\n\u001b[0;32m      6\u001b[0m \u001b[0mb\u001b[0m \u001b[1;33m=\u001b[0m \u001b[1;36m2\u001b[0m\u001b[1;33m+\u001b[0m\u001b[1;36m2j\u001b[0m\u001b[1;33m\u001b[0m\u001b[1;33m\u001b[0m\u001b[0m\n\u001b[1;32m----> 7\u001b[1;33m \u001b[0me\u001b[0m \u001b[1;33m=\u001b[0m \u001b[0ma\u001b[0m\u001b[1;33m//\u001b[0m\u001b[0mb\u001b[0m\u001b[1;33m\u001b[0m\u001b[1;33m\u001b[0m\u001b[0m\n\u001b[0m",
      "\u001b[1;31mTypeError\u001b[0m: can't take floor of complex number."
     ]
    }
   ],
   "source": [
    "\"\"\"Question 1 - continued\"\"\"\n",
    "\n",
    "# Error while Floor division of two complex numbers\n",
    "\n",
    "a = 1+1j\n",
    "b = 2+2j\n",
    "e = a//b"
   ]
  },
  {
   "cell_type": "code",
   "execution_count": 15,
   "metadata": {},
   "outputs": [
    {
     "ename": "TypeError",
     "evalue": "can't mod complex numbers.",
     "output_type": "error",
     "traceback": [
      "\u001b[1;31m---------------------------------------------------------------------------\u001b[0m",
      "\u001b[1;31mTypeError\u001b[0m                                 Traceback (most recent call last)",
      "\u001b[1;32m<ipython-input-15-a6899a3b2fe8>\u001b[0m in \u001b[0;36m<module>\u001b[1;34m\u001b[0m\n\u001b[0;32m      5\u001b[0m \u001b[0ma\u001b[0m \u001b[1;33m=\u001b[0m \u001b[1;36m1\u001b[0m\u001b[1;33m+\u001b[0m\u001b[1;36m1j\u001b[0m\u001b[1;33m\u001b[0m\u001b[1;33m\u001b[0m\u001b[0m\n\u001b[0;32m      6\u001b[0m \u001b[0mb\u001b[0m \u001b[1;33m=\u001b[0m \u001b[1;36m2\u001b[0m\u001b[1;33m+\u001b[0m\u001b[1;36m2j\u001b[0m\u001b[1;33m\u001b[0m\u001b[1;33m\u001b[0m\u001b[0m\n\u001b[1;32m----> 7\u001b[1;33m \u001b[0me\u001b[0m \u001b[1;33m=\u001b[0m \u001b[0ma\u001b[0m\u001b[1;33m%\u001b[0m\u001b[0mb\u001b[0m\u001b[1;33m\u001b[0m\u001b[1;33m\u001b[0m\u001b[0m\n\u001b[0m",
      "\u001b[1;31mTypeError\u001b[0m: can't mod complex numbers."
     ]
    }
   ],
   "source": [
    "\"\"\"Question 1 - continued\"\"\"\n",
    "\n",
    "# Error while Modulo division of two complex numbers\n",
    "\n",
    "a = 1+1j\n",
    "b = 2+2j\n",
    "e = a%b"
   ]
  },
  {
   "cell_type": "markdown",
   "metadata": {},
   "source": [
    "# Question 2 : Research on range() functions and its parameters. Create a markdown cell and write in your ownwords (no copy-paste from google please) what you understand about it. \n",
    "\n",
    "### 1. Range() function, is a built-in function in python, which by default returns a sequence of numbers starting from \"0\" by default  to a limit \"n-1\" if n is given as single parameter.\n",
    "### 2. Range function mainly takes 3 arguments: range(start, stop, step)\n",
    "### 3. Uses: Range function is commonly used for looping to iterate sequence type (List, string etc.. ) with for and while loop.\n"
   ]
  },
  {
   "cell_type": "code",
   "execution_count": 73,
   "metadata": {},
   "outputs": [
    {
     "name": "stdout",
     "output_type": "stream",
     "text": [
      "0\n",
      "1\n",
      "2\n",
      "3\n",
      "4\n",
      "5\n",
      "6\n",
      "7\n",
      "8\n",
      "9\n",
      "10\n"
     ]
    }
   ],
   "source": [
    "\"\"\"Question 2- contd:\"\"\"\n",
    "# Implement a small program of your choice on the same.\n",
    "\n",
    "# Printing a sequence of first ten natural numbers.\n",
    "\n",
    "for i in range(11):\n",
    "    print(i)\n"
   ]
  },
  {
   "cell_type": "code",
   "execution_count": 39,
   "metadata": {},
   "outputs": [
    {
     "name": "stdout",
     "output_type": "stream",
     "text": [
      "a/b = 0.5555555555555556\n"
     ]
    }
   ],
   "source": [
    "\"\"\"Question 3:\n",
    "Consider two numbers. Perform their subtraction and if the result of subtraction is greater than\n",
    "25, print their multiplication result else print their division result.\"\"\"\n",
    "\n",
    "a = 10\n",
    "b = 18\n",
    "\n",
    "c= abs(a-b)\n",
    "\n",
    "if c>25:\n",
    "    print(\"a*b = \",a*b)\n",
    "else: print(\"a/b =\",a/b)\n"
   ]
  },
  {
   "cell_type": "code",
   "execution_count": 65,
   "metadata": {},
   "outputs": [
    {
     "name": "stdout",
     "output_type": "stream",
     "text": [
      "list is  [1, 2, 3, 4, 5, 6, 7, 8, 9, 10]\n",
      "Square of 2 minus 2 is 2\n",
      "Square of 4 minus 2 is 14\n",
      "Square of 6 minus 2 is 34\n",
      "Square of 8 minus 2 is 62\n",
      "Square of 10 minus 2 is 98\n"
     ]
    }
   ],
   "source": [
    "\"\"\"Question 4:\n",
    "Consider a list of 10 elements of integer values. If the number in the list is divisible by 2, print the\n",
    "result as \"square of that number minus 2\".  \"\"\"\n",
    "\n",
    "list = [1,2,3,4,5,6,7,8,9,10]\n",
    "print(\"list is \",list)\n",
    "i = 0\n",
    "for i in range(0,10):\n",
    "    if list[i]%2==0:\n",
    "        print(\"Square of {0} minus 2 is {1}\".format(list[i],list[i]**2-2))"
   ]
  },
  {
   "cell_type": "code",
   "execution_count": 72,
   "metadata": {},
   "outputs": [
    {
     "name": "stdout",
     "output_type": "stream",
     "text": [
      "list is  [10, 20, 30, 40, 50, 60, 70, 80, 90, 100]\n",
      "Elements in the list which are greater than 7 when that number is divided by 2 :\n",
      "20\n",
      "30\n",
      "40\n",
      "50\n",
      "60\n",
      "70\n",
      "80\n",
      "90\n",
      "100\n"
     ]
    }
   ],
   "source": [
    "\"\"\"Question 5:\n",
    "Consider a list of 10 elements. Print all the elements in the list which are greater than 7 when that\n",
    "number is divided 2.\"\"\"\n",
    "\n",
    "list = [10,20,30,40,50,60,70,80,90,100]\n",
    "print(\"list is \",list)\n",
    "i = 0\n",
    "print(\"Elements in the list which are greater than 7 when that number is divided by 2 :\")\n",
    "for i in range(0,10):\n",
    "    if list[i]/2>7:\n",
    "        print(list[i])"
   ]
  }
 ],
 "metadata": {
  "kernelspec": {
   "display_name": "Python 3",
   "language": "python",
   "name": "python3"
  },
  "language_info": {
   "codemirror_mode": {
    "name": "ipython",
    "version": 3
   },
   "file_extension": ".py",
   "mimetype": "text/x-python",
   "name": "python",
   "nbconvert_exporter": "python",
   "pygments_lexer": "ipython3",
   "version": "3.7.6"
  }
 },
 "nbformat": 4,
 "nbformat_minor": 4
}
