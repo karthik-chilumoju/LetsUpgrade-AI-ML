{
 "cells": [
  {
   "cell_type": "code",
   "execution_count": 16,
   "metadata": {
    "scrolled": true
   },
   "outputs": [
    {
     "name": "stdout",
     "output_type": "stream",
     "text": [
      "First 20 non-even prime natural numbers are as follows:\n",
      "1. 3\n",
      "2. 5\n",
      "3. 7\n",
      "4. 11\n",
      "5. 13\n",
      "6. 17\n",
      "7. 19\n",
      "8. 23\n",
      "9. 29\n",
      "10. 31\n",
      "11. 37\n",
      "12. 41\n",
      "13. 43\n",
      "14. 47\n",
      "15. 53\n",
      "16. 59\n",
      "17. 61\n",
      "18. 67\n",
      "19. 71\n",
      "20. 73\n"
     ]
    }
   ],
   "source": [
    "'''Question 1 :\n",
    "Write a Python program to find the first 20 non-even prime natural numbers.'''\n",
    "\n",
    "i = 2\n",
    "count = 1\n",
    "\n",
    "print(\"First 20 non-even prime natural numbers are as follows:\")\n",
    "\n",
    "while count <= 20:\n",
    "        for j in range(2,i):\n",
    "            if i%j == 0:\n",
    "                break\n",
    "            if i%j != 0:\n",
    "                if j == i-1:\n",
    "                    print(\"{}.\".format(count),i,end=\"\\n\")\n",
    "                    count = count +1\n",
    "                    continue\n",
    "        i = i+1"
   ]
  },
  {
   "cell_type": "code",
   "execution_count": 106,
   "metadata": {},
   "outputs": [
    {
     "name": "stdout",
     "output_type": "stream",
     "text": [
      "steve\n",
      "STEVE\n",
      "True\n",
      "Robs\n",
      "5\n",
      "3\n",
      "Steve\n",
      "True\n",
      "True\n",
      "sTEVE\n",
      "Steve\n",
      "00000Steve\n",
      "3\n",
      "('St', 'e', 've')\n",
      "['St', 've']\n"
     ]
    }
   ],
   "source": [
    "'''Question 2 :\n",
    "Write a Python program to implement 15 functions of string.'''\n",
    "\n",
    "a = 'Steve'\n",
    "b= 'Jobs'\n",
    "c= '1234'\n",
    "d= '   '\n",
    "\n",
    "\n",
    "# 1. lower case the alphabets\n",
    "print(a.lower())\n",
    "\n",
    "# 2. Upper case the alphabets\n",
    "print(a.upper())\n",
    "\n",
    "# 3. Check if only alphabets present in string\n",
    "print(a.isalpha())\n",
    "\n",
    "# 4. Replace letter \"j\" with \"R\" in string: b\n",
    "print(b.replace('J','R'))\n",
    "\n",
    "# 5. Find the length of the String\n",
    "print(len(a))\n",
    "\n",
    "# 6. Find the index position of character in string.\n",
    "print(a.find(\"v\"))\n",
    "\n",
    "# 7. Capitalize first letter of string\n",
    "print(a.capitalize())\n",
    "\n",
    "# 8. Check if all characters in the string are alphanumeric\n",
    "print(c.isalnum())\n",
    "\n",
    "# 9. Check if string contains all whitespaces only\n",
    "print(d.isspace())\n",
    "\n",
    "# 10. convert lower case to upper case and vice versa\n",
    "print(a.swapcase())\n",
    "\n",
    "# 11. Make titlecased version of string\n",
    "print((a).title())\n",
    "\n",
    "# 12. make a numeric string left filled with zeros in string of length\n",
    "print(a.zfill(10))\n",
    "\n",
    "#13. find the letter in string between specific positions\n",
    "print(a.find('v',1,4))\n",
    "\n",
    "# 14. Return a tuple made by partition of string at specified characters a separators\n",
    "print(a.partition(\"e\"))\n",
    "\n",
    "# 15. Split a string in to a list with set of 2 words only by a specified separater\n",
    "print(a.split(\"e\",1))"
   ]
  },
  {
   "cell_type": "code",
   "execution_count": 10,
   "metadata": {},
   "outputs": [
    {
     "name": "stdout",
     "output_type": "stream",
     "text": [
      "Yes! String Rotator is Palindrome\n",
      "Yes! String Silent & Listen are an Anagrams\n"
     ]
    }
   ],
   "source": [
    "'''Question 3:\n",
    "Write a Python program to check if the given string is a Palindrome or Anagram or None of them.\n",
    "Display the message accordingly to the user.'''\n",
    "\n",
    "\n",
    "\n",
    "def palindrome(X):\n",
    "    x = X.lower()\n",
    "    import math\n",
    "    l = len(x)\n",
    "    compar = math.ceil(l/2)\n",
    "    le = len(x)-1\n",
    "    for i in range(0,compar):\n",
    "        if x[i] != x[le-i]:\n",
    "            print(\"No! String {} is not Palindrome\".format(X))\n",
    "            return\n",
    "        else:\n",
    "            continue\n",
    "        \n",
    "    print(\"Yes! String {} is Palindrome\".format(X))\n",
    "    \n",
    "def anagram(X,Y):\n",
    "    x = X.lower()\n",
    "    y = Y.lower()\n",
    "    l = 0\n",
    "    if len(x) != len(y):\n",
    "        print(\"No! String {} is not an Anagram\".format(X))\n",
    "        \n",
    "    else:\n",
    "        for i in range(0,len(x)):\n",
    "            \n",
    "            for j in range(0,len(y)):\n",
    "                if x[i] == y[j]:\n",
    "                    if i == len(x)-1:\n",
    "                        print(\"Yes! String {} & {} are an Anagrams\".format(X,Y))\n",
    "                        return\n",
    "                    else:\n",
    "                        break\n",
    "                        \n",
    "                if j == len(y)-1:\n",
    "                    print(\"No! String {} & {} are not Anagrams\".format(X,Y))\n",
    "                    return               \n",
    "                \n",
    "        print(\"No! String {} & {} are not Anagrams\".format(X,Y))\n",
    "        return\n",
    "\n",
    "a = \"Rotator\"\n",
    "palindrome(a)\n",
    "\n",
    "b= \"Silent\" # Checking word : \"Listen\" and \"Silent\" are Anagrams are not\n",
    "c= \"Listen\"\n",
    "anagram(b,c)\n"
   ]
  },
  {
   "cell_type": "code",
   "execution_count": 5,
   "metadata": {},
   "outputs": [
    {
     "name": "stdout",
     "output_type": "stream",
     "text": [
      "drdarshaningleaimltrainer\n"
     ]
    }
   ],
   "source": [
    "'''Question 4:\n",
    "Write a Python's user defined function that removes all the additional characters from the string\n",
    "and converts it finally to lower case using built-in lower(). eg: If the string is \"Dr. Darshan Ingle\n",
    "@AI-ML Trainer\", then the output be \"drdarshaningleaimltrainer\".'''\n",
    "\n",
    "def UD(I):\n",
    "    x = I.lower()\n",
    "    y = ''\n",
    "    l = len(x)\n",
    "        \n",
    "    for i in x:\n",
    "        if ord(i) >= 97 and ord(i) <= 122:\n",
    "            y = y+i\n",
    "    \n",
    "    print(y)\n",
    "\n",
    "    \n",
    "I = \"Dr. Darshan Ingle@AI-ML Trainer\"\n",
    "UD(I)"
   ]
  }
 ],
 "metadata": {
  "kernelspec": {
   "display_name": "Python 3",
   "language": "python",
   "name": "python3"
  },
  "language_info": {
   "codemirror_mode": {
    "name": "ipython",
    "version": 3
   },
   "file_extension": ".py",
   "mimetype": "text/x-python",
   "name": "python",
   "nbconvert_exporter": "python",
   "pygments_lexer": "ipython3",
   "version": "3.7.6"
  }
 },
 "nbformat": 4,
 "nbformat_minor": 4
}
