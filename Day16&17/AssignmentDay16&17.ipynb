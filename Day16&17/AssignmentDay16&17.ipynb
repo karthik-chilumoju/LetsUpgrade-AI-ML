{
 "cells": [
  {
   "cell_type": "code",
   "execution_count": 2,
   "metadata": {},
   "outputs": [],
   "source": [
    "%matplotlib inline\n",
    "import pandas as pd"
   ]
  },
  {
   "cell_type": "code",
   "execution_count": 259,
   "metadata": {},
   "outputs": [
    {
     "data": {
      "text/html": [
       "<div>\n",
       "<style scoped>\n",
       "    .dataframe tbody tr th:only-of-type {\n",
       "        vertical-align: middle;\n",
       "    }\n",
       "\n",
       "    .dataframe tbody tr th {\n",
       "        vertical-align: top;\n",
       "    }\n",
       "\n",
       "    .dataframe thead th {\n",
       "        text-align: right;\n",
       "    }\n",
       "</style>\n",
       "<table border=\"1\" class=\"dataframe\">\n",
       "  <thead>\n",
       "    <tr style=\"text-align: right;\">\n",
       "      <th></th>\n",
       "      <th>title</th>\n",
       "      <th>year</th>\n",
       "    </tr>\n",
       "  </thead>\n",
       "  <tbody>\n",
       "    <tr>\n",
       "      <th>0</th>\n",
       "      <td>Tasveer Mere Sanam</td>\n",
       "      <td>1996</td>\n",
       "    </tr>\n",
       "    <tr>\n",
       "      <th>1</th>\n",
       "      <td>Only You</td>\n",
       "      <td>1994</td>\n",
       "    </tr>\n",
       "    <tr>\n",
       "      <th>2</th>\n",
       "      <td>El pueblo del terror</td>\n",
       "      <td>1970</td>\n",
       "    </tr>\n",
       "    <tr>\n",
       "      <th>3</th>\n",
       "      <td>Machine</td>\n",
       "      <td>2007</td>\n",
       "    </tr>\n",
       "    <tr>\n",
       "      <th>4</th>\n",
       "      <td>MARy</td>\n",
       "      <td>2008</td>\n",
       "    </tr>\n",
       "  </tbody>\n",
       "</table>\n",
       "</div>"
      ],
      "text/plain": [
       "                  title  year\n",
       "0    Tasveer Mere Sanam  1996\n",
       "1              Only You  1994\n",
       "2  El pueblo del terror  1970\n",
       "3               Machine  2007\n",
       "4                  MARy  2008"
      ]
     },
     "execution_count": 259,
     "metadata": {},
     "output_type": "execute_result"
    }
   ],
   "source": [
    "df = pd.read_csv('C:/Users/karth/Assignments/Day16&17/Dataset/titles.csv')\n",
    "df.head()"
   ]
  },
  {
   "cell_type": "code",
   "execution_count": 260,
   "metadata": {},
   "outputs": [
    {
     "data": {
      "text/html": [
       "<div>\n",
       "<style scoped>\n",
       "    .dataframe tbody tr th:only-of-type {\n",
       "        vertical-align: middle;\n",
       "    }\n",
       "\n",
       "    .dataframe tbody tr th {\n",
       "        vertical-align: top;\n",
       "    }\n",
       "\n",
       "    .dataframe thead th {\n",
       "        text-align: right;\n",
       "    }\n",
       "</style>\n",
       "<table border=\"1\" class=\"dataframe\">\n",
       "  <thead>\n",
       "    <tr style=\"text-align: right;\">\n",
       "      <th></th>\n",
       "      <th>title</th>\n",
       "    </tr>\n",
       "  </thead>\n",
       "  <tbody>\n",
       "    <tr>\n",
       "      <th>0</th>\n",
       "      <td>Tasveer Mere Sanam</td>\n",
       "    </tr>\n",
       "    <tr>\n",
       "      <th>1</th>\n",
       "      <td>Only You</td>\n",
       "    </tr>\n",
       "    <tr>\n",
       "      <th>2</th>\n",
       "      <td>El pueblo del terror</td>\n",
       "    </tr>\n",
       "    <tr>\n",
       "      <th>3</th>\n",
       "      <td>Machine</td>\n",
       "    </tr>\n",
       "    <tr>\n",
       "      <th>4</th>\n",
       "      <td>MARy</td>\n",
       "    </tr>\n",
       "    <tr>\n",
       "      <th>...</th>\n",
       "      <td>...</td>\n",
       "    </tr>\n",
       "    <tr>\n",
       "      <th>244909</th>\n",
       "      <td>Black Butterfly in a Colorful World</td>\n",
       "    </tr>\n",
       "    <tr>\n",
       "      <th>244910</th>\n",
       "      <td>Hua fei hua wu chun man cheng</td>\n",
       "    </tr>\n",
       "    <tr>\n",
       "      <th>244911</th>\n",
       "      <td>Nippon dabi katsukyu</td>\n",
       "    </tr>\n",
       "    <tr>\n",
       "      <th>244912</th>\n",
       "      <td>Under Siege 2: Dark Territory</td>\n",
       "    </tr>\n",
       "    <tr>\n",
       "      <th>244913</th>\n",
       "      <td>She Must Be Seeing Things</td>\n",
       "    </tr>\n",
       "  </tbody>\n",
       "</table>\n",
       "<p>244914 rows × 1 columns</p>\n",
       "</div>"
      ],
      "text/plain": [
       "                                      title\n",
       "0                        Tasveer Mere Sanam\n",
       "1                                  Only You\n",
       "2                      El pueblo del terror\n",
       "3                                   Machine\n",
       "4                                      MARy\n",
       "...                                     ...\n",
       "244909  Black Butterfly in a Colorful World\n",
       "244910        Hua fei hua wu chun man cheng\n",
       "244911                 Nippon dabi katsukyu\n",
       "244912        Under Siege 2: Dark Territory\n",
       "244913            She Must Be Seeing Things\n",
       "\n",
       "[244914 rows x 1 columns]"
      ]
     },
     "execution_count": 260,
     "metadata": {},
     "output_type": "execute_result"
    }
   ],
   "source": [
    "titles = df.drop(columns='year')\n",
    "titles"
   ]
  },
  {
   "cell_type": "markdown",
   "metadata": {
    "collapsed": true
   },
   "source": [
    "### How many movies are listed in the titles dataframe?"
   ]
  },
  {
   "cell_type": "code",
   "execution_count": 261,
   "metadata": {},
   "outputs": [
    {
     "name": "stdout",
     "output_type": "stream",
     "text": [
      "Total no.of Titles:  244914\n"
     ]
    }
   ],
   "source": [
    "x = int(titles.count())\n",
    "print(\"Total no.of Titles: \",x)"
   ]
  },
  {
   "cell_type": "markdown",
   "metadata": {
    "collapsed": true
   },
   "source": [
    "### What are the earliest two films listed in the titles dataframe?"
   ]
  },
  {
   "cell_type": "code",
   "execution_count": 262,
   "metadata": {},
   "outputs": [
    {
     "data": {
      "text/html": [
       "<div>\n",
       "<style scoped>\n",
       "    .dataframe tbody tr th:only-of-type {\n",
       "        vertical-align: middle;\n",
       "    }\n",
       "\n",
       "    .dataframe tbody tr th {\n",
       "        vertical-align: top;\n",
       "    }\n",
       "\n",
       "    .dataframe thead th {\n",
       "        text-align: right;\n",
       "    }\n",
       "</style>\n",
       "<table border=\"1\" class=\"dataframe\">\n",
       "  <thead>\n",
       "    <tr style=\"text-align: right;\">\n",
       "      <th></th>\n",
       "      <th>title</th>\n",
       "      <th>year</th>\n",
       "    </tr>\n",
       "  </thead>\n",
       "  <tbody>\n",
       "    <tr>\n",
       "      <th>193222</th>\n",
       "      <td>Miss Jerry</td>\n",
       "      <td>1894</td>\n",
       "    </tr>\n",
       "    <tr>\n",
       "      <th>51388</th>\n",
       "      <td>The Startled Lover</td>\n",
       "      <td>1898</td>\n",
       "    </tr>\n",
       "  </tbody>\n",
       "</table>\n",
       "</div>"
      ],
      "text/plain": [
       "                     title  year\n",
       "193222          Miss Jerry  1894\n",
       "51388   The Startled Lover  1898"
      ]
     },
     "execution_count": 262,
     "metadata": {},
     "output_type": "execute_result"
    }
   ],
   "source": [
    "df.sort_values(by=['year']).head(2)"
   ]
  },
  {
   "cell_type": "markdown",
   "metadata": {
    "collapsed": true
   },
   "source": [
    "### How many movies have the title \"Hamlet\"?"
   ]
  },
  {
   "cell_type": "code",
   "execution_count": 263,
   "metadata": {},
   "outputs": [
    {
     "name": "stdout",
     "output_type": "stream",
     "text": [
      "No. of Movies having title 'Hamlet' is:  20\n"
     ]
    }
   ],
   "source": [
    "count = 0\n",
    "for x in df['title']:\n",
    "    if(x == \"Hamlet\"):\n",
    "        count = count+1\n",
    "\n",
    "print(\"No. of Movies having title 'Hamlet' is: \",count)"
   ]
  },
  {
   "cell_type": "markdown",
   "metadata": {
    "collapsed": true
   },
   "source": [
    "### How many movies are titled \"North by Northwest\"?"
   ]
  },
  {
   "cell_type": "code",
   "execution_count": 264,
   "metadata": {},
   "outputs": [
    {
     "name": "stdout",
     "output_type": "stream",
     "text": [
      "No. of Movies having title 'North by Northwest' is:  1\n"
     ]
    }
   ],
   "source": [
    "count = 0\n",
    "for x in df['title']:\n",
    "    if(x == \"North by Northwest\"):\n",
    "        count = count+1\n",
    "\n",
    "print(\"No. of Movies having title 'North by Northwest' is: \",count)"
   ]
  },
  {
   "cell_type": "markdown",
   "metadata": {
    "collapsed": true
   },
   "source": [
    "### When was the first movie titled \"Hamlet\" made?"
   ]
  },
  {
   "cell_type": "code",
   "execution_count": 265,
   "metadata": {},
   "outputs": [
    {
     "name": "stdout",
     "output_type": "stream",
     "text": [
      "The Year of first movie title 'Hamlet' made is:  1910\n"
     ]
    }
   ],
   "source": [
    "df.sort_values(by=['year'],inplace=True)\n",
    "print(\"The Year of first movie title 'Hamlet' made is: \",df.loc[df['title'] == 'Hamlet', 'year'].iloc[0])"
   ]
  },
  {
   "cell_type": "markdown",
   "metadata": {
    "collapsed": true
   },
   "source": [
    "### List all of the \"Treasure Island\" movies from earliest to most recent."
   ]
  },
  {
   "cell_type": "code",
   "execution_count": 266,
   "metadata": {},
   "outputs": [
    {
     "data": {
      "text/html": [
       "<div>\n",
       "<style scoped>\n",
       "    .dataframe tbody tr th:only-of-type {\n",
       "        vertical-align: middle;\n",
       "    }\n",
       "\n",
       "    .dataframe tbody tr th {\n",
       "        vertical-align: top;\n",
       "    }\n",
       "\n",
       "    .dataframe thead th {\n",
       "        text-align: right;\n",
       "    }\n",
       "</style>\n",
       "<table border=\"1\" class=\"dataframe\">\n",
       "  <thead>\n",
       "    <tr style=\"text-align: right;\">\n",
       "      <th></th>\n",
       "      <th>title</th>\n",
       "      <th>year</th>\n",
       "    </tr>\n",
       "  </thead>\n",
       "  <tbody>\n",
       "    <tr>\n",
       "      <th>55686</th>\n",
       "      <td>Treasure Island</td>\n",
       "      <td>1918</td>\n",
       "    </tr>\n",
       "    <tr>\n",
       "      <th>196514</th>\n",
       "      <td>Treasure Island</td>\n",
       "      <td>1920</td>\n",
       "    </tr>\n",
       "    <tr>\n",
       "      <th>141822</th>\n",
       "      <td>Treasure Island</td>\n",
       "      <td>1934</td>\n",
       "    </tr>\n",
       "    <tr>\n",
       "      <th>64173</th>\n",
       "      <td>The Secret of Treasure Island</td>\n",
       "      <td>1938</td>\n",
       "    </tr>\n",
       "    <tr>\n",
       "      <th>79701</th>\n",
       "      <td>Charlie Chan at Treasure Island</td>\n",
       "      <td>1939</td>\n",
       "    </tr>\n",
       "    <tr>\n",
       "      <th>77354</th>\n",
       "      <td>Treasure Island</td>\n",
       "      <td>1950</td>\n",
       "    </tr>\n",
       "    <tr>\n",
       "      <th>34341</th>\n",
       "      <td>Return to Treasure Island</td>\n",
       "      <td>1954</td>\n",
       "    </tr>\n",
       "    <tr>\n",
       "      <th>34288</th>\n",
       "      <td>Five on a Treasure Island</td>\n",
       "      <td>1957</td>\n",
       "    </tr>\n",
       "    <tr>\n",
       "      <th>65051</th>\n",
       "      <td>Treasure Island</td>\n",
       "      <td>1972</td>\n",
       "    </tr>\n",
       "    <tr>\n",
       "      <th>37238</th>\n",
       "      <td>Treasure Island</td>\n",
       "      <td>1973</td>\n",
       "    </tr>\n",
       "    <tr>\n",
       "      <th>173051</th>\n",
       "      <td>Treasure Island</td>\n",
       "      <td>1985</td>\n",
       "    </tr>\n",
       "    <tr>\n",
       "      <th>26111</th>\n",
       "      <td>Muppet Treasure Island</td>\n",
       "      <td>1996</td>\n",
       "    </tr>\n",
       "    <tr>\n",
       "      <th>216970</th>\n",
       "      <td>Treasure Island (II)</td>\n",
       "      <td>1999</td>\n",
       "    </tr>\n",
       "    <tr>\n",
       "      <th>27076</th>\n",
       "      <td>Treasure Island</td>\n",
       "      <td>1999</td>\n",
       "    </tr>\n",
       "    <tr>\n",
       "      <th>2830</th>\n",
       "      <td>Pirates of Treasure Island</td>\n",
       "      <td>2006</td>\n",
       "    </tr>\n",
       "    <tr>\n",
       "      <th>112591</th>\n",
       "      <td>Treasure Island Kids: The Mystery of Treasure ...</td>\n",
       "      <td>2006</td>\n",
       "    </tr>\n",
       "    <tr>\n",
       "      <th>244541</th>\n",
       "      <td>Treasure Island Kids: The Monster of Treasure ...</td>\n",
       "      <td>2006</td>\n",
       "    </tr>\n",
       "    <tr>\n",
       "      <th>209707</th>\n",
       "      <td>Treasure Island Kids: The Battle of Treasure I...</td>\n",
       "      <td>2006</td>\n",
       "    </tr>\n",
       "    <tr>\n",
       "      <th>155317</th>\n",
       "      <td>National Theatre Live: Treasure Island</td>\n",
       "      <td>2015</td>\n",
       "    </tr>\n",
       "  </tbody>\n",
       "</table>\n",
       "</div>"
      ],
      "text/plain": [
       "                                                    title  year\n",
       "55686                                     Treasure Island  1918\n",
       "196514                                    Treasure Island  1920\n",
       "141822                                    Treasure Island  1934\n",
       "64173                       The Secret of Treasure Island  1938\n",
       "79701                     Charlie Chan at Treasure Island  1939\n",
       "77354                                     Treasure Island  1950\n",
       "34341                           Return to Treasure Island  1954\n",
       "34288                           Five on a Treasure Island  1957\n",
       "65051                                     Treasure Island  1972\n",
       "37238                                     Treasure Island  1973\n",
       "173051                                    Treasure Island  1985\n",
       "26111                              Muppet Treasure Island  1996\n",
       "216970                               Treasure Island (II)  1999\n",
       "27076                                     Treasure Island  1999\n",
       "2830                           Pirates of Treasure Island  2006\n",
       "112591  Treasure Island Kids: The Mystery of Treasure ...  2006\n",
       "244541  Treasure Island Kids: The Monster of Treasure ...  2006\n",
       "209707  Treasure Island Kids: The Battle of Treasure I...  2006\n",
       "155317             National Theatre Live: Treasure Island  2015"
      ]
     },
     "execution_count": 266,
     "metadata": {},
     "output_type": "execute_result"
    }
   ],
   "source": [
    "df.sort_values(by=['year'],inplace=True)\n",
    "df[df['title'].str.contains(\"Treasure Island\")]"
   ]
  },
  {
   "cell_type": "markdown",
   "metadata": {
    "collapsed": true
   },
   "source": [
    "### How many movies were made in the year 1950?"
   ]
  },
  {
   "cell_type": "code",
   "execution_count": 267,
   "metadata": {},
   "outputs": [
    {
     "name": "stdout",
     "output_type": "stream",
     "text": [
      "No. of movies made in year 1950:  1113\n"
     ]
    }
   ],
   "source": [
    "df.sort_values(by=['year'],inplace=True)\n",
    "df1 = df[(df['year'] >= 1950) & (df['year'] <= 1950)]\n",
    "print(\"No. of movies made in year 1950: \",df1['year'].count())"
   ]
  },
  {
   "cell_type": "markdown",
   "metadata": {
    "collapsed": true
   },
   "source": [
    "### How many movies were made in the year 1960?"
   ]
  },
  {
   "cell_type": "code",
   "execution_count": 268,
   "metadata": {},
   "outputs": [
    {
     "name": "stdout",
     "output_type": "stream",
     "text": [
      "No. of movies made in year 1960:  1549\n"
     ]
    }
   ],
   "source": [
    "df.sort_values(by=['year'],inplace=True)\n",
    "df1 = df[(df['year'] >= 1960) & (df['year'] <= 1960)]\n",
    "print(\"No. of movies made in year 1960: \",df1['year'].count())"
   ]
  },
  {
   "cell_type": "markdown",
   "metadata": {
    "collapsed": true
   },
   "source": [
    "### How many movies were made from 1950 through 1959?"
   ]
  },
  {
   "cell_type": "markdown",
   "metadata": {},
   "source": []
  },
  {
   "cell_type": "code",
   "execution_count": 269,
   "metadata": {},
   "outputs": [
    {
     "name": "stdout",
     "output_type": "stream",
     "text": [
      "No. of movies made in year from 1950 through 1959:  12934\n"
     ]
    }
   ],
   "source": [
    "df.sort_values(by=['year'],inplace=True)\n",
    "df1 = df[(df['year'] >= 1950) & (df['year'] <= 1959)]\n",
    "print(\"No. of movies made in year from 1950 through 1959: \",df1['year'].count())"
   ]
  },
  {
   "cell_type": "markdown",
   "metadata": {
    "collapsed": true
   },
   "source": [
    "### In what years has a movie titled \"Batman\" been released?"
   ]
  },
  {
   "cell_type": "code",
   "execution_count": 270,
   "metadata": {},
   "outputs": [
    {
     "name": "stdout",
     "output_type": "stream",
     "text": [
      "The Year of first movie title 'Batman' made is: \n",
      "1943\n",
      "1949\n",
      "1964\n",
      "1965\n",
      "1966\n",
      "1966\n",
      "1967\n",
      "1973\n",
      "1989\n",
      "1991\n",
      "1992\n",
      "1993\n",
      "1995\n",
      "1997\n",
      "2005\n",
      "2010\n",
      "2010\n",
      "2010\n",
      "2012\n",
      "2014\n",
      "2014\n",
      "2016\n",
      "2016\n",
      "2016\n",
      "2016\n",
      "2016\n",
      "2016\n",
      "2017\n",
      "2017\n",
      "2017\n",
      "2018\n",
      "2018\n",
      "2018\n",
      "2018\n",
      "2018\n"
     ]
    }
   ],
   "source": [
    "df.sort_values(by=['year'],inplace=True)\n",
    "print(\"The Year of first movie title 'Batman' made is: \")\n",
    "df1 = df[df['title'].str.contains(\"Batman\")]\n",
    "for x in df1['year']:\n",
    "    print(x)"
   ]
  },
  {
   "cell_type": "markdown",
   "metadata": {
    "collapsed": true
   },
   "source": [
    "### How many roles were there in the movie \"Inception\"?"
   ]
  },
  {
   "cell_type": "code",
   "execution_count": 3,
   "metadata": {},
   "outputs": [
    {
     "name": "stdout",
     "output_type": "stream",
     "text": [
      "No. of roles having title 'Inception' is:  80\n"
     ]
    }
   ],
   "source": [
    "dfc = pd.read_csv('C:/Users/karth/Assignments/Day16&17/Dataset/cast.csv')\n",
    "dfc.head()\n",
    "\n",
    "dfc1 = dfc[dfc['title'].str.match(\"Inception\")]\n",
    "\n",
    "print(\"No. of roles having title 'Inception' is: \",dfc1['title'].count())"
   ]
  },
  {
   "cell_type": "markdown",
   "metadata": {
    "collapsed": true
   },
   "source": [
    "### How many roles in the movie \"Inception\" are NOT ranked by an \"n\" value?"
   ]
  },
  {
   "cell_type": "code",
   "execution_count": 4,
   "metadata": {},
   "outputs": [
    {
     "name": "stdout",
     "output_type": "stream",
     "text": [
      "the no. of roles in the movie 'Inception' are NOT ranked by an 'n' value is \n"
     ]
    },
    {
     "data": {
      "text/plain": [
       "29"
      ]
     },
     "execution_count": 4,
     "metadata": {},
     "output_type": "execute_result"
    }
   ],
   "source": [
    "dfc1 = dfc[dfc['title'].str.match(\"Inception\")]\n",
    "print(\"the no. of roles in the movie 'Inception' are NOT ranked by an 'n' value is \")\n",
    "dfc1['n'].isnull().sum()"
   ]
  },
  {
   "cell_type": "markdown",
   "metadata": {
    "collapsed": true
   },
   "source": [
    "### But how many roles in the movie \"Inception\" did receive an \"n\" value?"
   ]
  },
  {
   "cell_type": "code",
   "execution_count": 5,
   "metadata": {},
   "outputs": [
    {
     "name": "stdout",
     "output_type": "stream",
     "text": [
      "the no. of roles in the movie 'Inception' are ranked by an 'n' value is \n",
      "51\n"
     ]
    }
   ],
   "source": [
    "dfc1 = dfc[dfc['title'].str.contains(\"Inception\")]\n",
    "print(\"the no. of roles in the movie 'Inception' are ranked by an 'n' value is \")\n",
    "print(dfc1['n'].notnull().sum())"
   ]
  },
  {
   "cell_type": "markdown",
   "metadata": {
    "collapsed": true
   },
   "source": [
    "### Display the cast of \"North by Northwest\" in their correct \"n\"-value order, ignoring roles that did not earn a numeric \"n\" value."
   ]
  },
  {
   "cell_type": "code",
   "execution_count": 6,
   "metadata": {},
   "outputs": [
    {
     "name": "stdout",
     "output_type": "stream",
     "text": [
      "Cary Grant\n",
      "Eva Marie Saint\n",
      "James Mason\n",
      "Jessie Royce Landis\n",
      "Leo G. Carroll\n",
      "Josephine Hutchinson\n",
      "Philip Ober\n",
      "Martin Landau\n",
      "Adam Williams\n",
      "Edward Platt\n",
      "Robert Ellenstein\n",
      "Les Tremayne\n",
      "Philip Coolidge\n",
      "Patrick McVey\n",
      "Edward Binns\n",
      "Ken Lynch\n",
      "Stanley Adams\n",
      "Andy Albin\n",
      "Don Anderson\n",
      "Ernest Anderson\n",
      "Malcolm Atterbury\n",
      "Tol Avery\n",
      "Sam Bagley\n",
      "Frank Baker\n",
      "Alex Ball\n",
      "Baynes Barron\n",
      "Brandon Beach\n",
      "John Beradino\n",
      "Stephen Bolster\n",
      "Steve Carruthers\n",
      "Taggart Casey\n",
      "Bill Catching\n",
      "Bob (II) Coe\n",
      "David A. Cox\n",
      "Walter Coy\n",
      "Jimmy Cross\n",
      "Jack Daly\n",
      "John Damler\n",
      "Lawrence Dobkin\n",
      "Daniel Elam\n",
      "Tommy Farrell\n",
      "Adolph Faylauer\n",
      "Paul Genge\n",
      "Ned Glass\n",
      "James Gonzalez\n",
      "Tom Greenway\n",
      "Robert Haines\n",
      "Stuart Hall\n",
      "Len Hendry\n",
      "Alfred Hitchcock\n",
      "Stuart Holmes\n",
      "Hideo Inamura\n",
      "Eugene Jackson\n",
      "Bobby Johnson\n",
      "Dick Johnstone\n",
      "Sid Kane\n",
      "Kenner G. Kemp\n",
      "Colin Kenny\n",
      "Larry Leverett\n",
      "Carl M. Leviness\n",
      "Alexander Lockwood\n",
      "Frank Marlowe\n",
      "Tom (III) Marshall\n",
      "Thomas Martin\n",
      "James McCallion\n",
      "Carl Milletaire\n",
      "Hans Moebus\n",
      "Howard Negley\n",
      "Monty O'Grady\n",
      "Henry O'Neill\n",
      "Murray Pollack\n",
      "Charles Postal\n",
      "Hugh Pryor\n",
      "Ralph Reed\n",
      "John Roy\n",
      "Cosmo Sardo\n",
      "Jeffrey Sayre\n",
      "Jeffrey Sayre\n",
      "Scott Seaton\n",
      "Harry Seymour\n",
      "Robert Shayne\n",
      "Larry Sherman\n",
      "Jeremy Slate\n",
      "Olan Soule\n",
      "Harvey Stephens\n",
      "Bert Stevens\n",
      "Harry Strang\n",
      "Joe Szorentini\n",
      "Paul Togawa\n",
      "Arthur Tovey\n",
      "Dale Van Sickel\n",
      "Ray Weaver\n",
      "Frank Wilcox\n",
      "Lloyd (VI) Williams\n",
      "Robert Williams\n",
      "Wilson Wood\n",
      "Carleton Young\n",
      "Ernesto Zambrano\n",
      "Anne (II) Anderson\n",
      "Rama Bai\n",
      "Audrey Betz\n",
      "Lucille Curtis\n",
      "Patricia Cutts\n",
      "Jesslyn Fax\n",
      "Bess Flowers\n",
      "Josephine Forsberg\n",
      "Sally Fraser\n",
      "Madge Kennedy\n",
      "Doreen Lang\n",
      "Nora Marlowe\n",
      "Maura McGiveney\n",
      "Maudie Prickett\n",
      "Doris Singh\n",
      "Helen Spring\n",
      "Susan Whitney\n",
      "Paula Winslowe\n"
     ]
    },
    {
     "name": "stderr",
     "output_type": "stream",
     "text": [
      "C:\\ProgramData\\Anaconda3\\lib\\site-packages\\ipykernel_launcher.py:2: SettingWithCopyWarning: \n",
      "A value is trying to be set on a copy of a slice from a DataFrame\n",
      "\n",
      "See the caveats in the documentation: https://pandas.pydata.org/pandas-docs/stable/user_guide/indexing.html#returning-a-view-versus-a-copy\n",
      "  \n"
     ]
    }
   ],
   "source": [
    "dfc1 = dfc[dfc['title'].str.match(\"North by Northwest\")]\n",
    "dfc1.sort_values(by=['n'],inplace = True)\n",
    "for x in dfc1['name']:\n",
    "    print(x)"
   ]
  },
  {
   "cell_type": "markdown",
   "metadata": {
    "collapsed": true
   },
   "source": [
    "### Display the entire cast, in \"n\"-order, of the 1972 film \"Sleuth\"."
   ]
  },
  {
   "cell_type": "code",
   "execution_count": 7,
   "metadata": {},
   "outputs": [
    {
     "name": "stdout",
     "output_type": "stream",
     "text": [
      "Laurence Olivier\n",
      "Michael Caine\n",
      "Alec Cawthorne\n",
      "John (II) Matthews\n",
      "Eve (III) Channing\n",
      "Teddy Martin\n"
     ]
    },
    {
     "name": "stderr",
     "output_type": "stream",
     "text": [
      "C:\\ProgramData\\Anaconda3\\lib\\site-packages\\ipykernel_launcher.py:4: SettingWithCopyWarning: \n",
      "A value is trying to be set on a copy of a slice from a DataFrame\n",
      "\n",
      "See the caveats in the documentation: https://pandas.pydata.org/pandas-docs/stable/user_guide/indexing.html#returning-a-view-versus-a-copy\n",
      "  after removing the cwd from sys.path.\n"
     ]
    }
   ],
   "source": [
    "dfc.sort_values(by=['year'],inplace=True)\n",
    "dfc1 = dfc[(dfc['year'] >= 1972) & (dfc['year'] <= 1972)]\n",
    "dfc2 = dfc1[dfc1['title'].str.match(\"Sleuth\")]\n",
    "dfc2.sort_values(by=['n'],inplace = True)\n",
    "\n",
    "for x in dfc2['name']:\n",
    "    print(x)"
   ]
  },
  {
   "cell_type": "markdown",
   "metadata": {
    "collapsed": true
   },
   "source": [
    "### Now display the entire cast, in \"n\"-order, of the 2007 version of \"Sleuth\"."
   ]
  },
  {
   "cell_type": "code",
   "execution_count": 8,
   "metadata": {},
   "outputs": [
    {
     "name": "stdout",
     "output_type": "stream",
     "text": [
      "Michael Caine\n",
      "Jude Law\n",
      "Harold Pinter\n",
      "Kenneth Branagh\n",
      "Eve (II) Channing\n",
      "Alec (II) Cawthorne\n",
      "Carmel O'Sullivan\n"
     ]
    },
    {
     "name": "stderr",
     "output_type": "stream",
     "text": [
      "C:\\ProgramData\\Anaconda3\\lib\\site-packages\\ipykernel_launcher.py:4: SettingWithCopyWarning: \n",
      "A value is trying to be set on a copy of a slice from a DataFrame\n",
      "\n",
      "See the caveats in the documentation: https://pandas.pydata.org/pandas-docs/stable/user_guide/indexing.html#returning-a-view-versus-a-copy\n",
      "  after removing the cwd from sys.path.\n"
     ]
    }
   ],
   "source": [
    "dfc.sort_values(by=['year'],inplace=True)\n",
    "dfc1 = dfc[(dfc['year'] >= 2007) & (dfc['year'] <= 2007)]\n",
    "dfc2 = dfc1[dfc1['title'].str.match(\"Sleuth\")]\n",
    "dfc2.sort_values(by=['n'],inplace = True)\n",
    "\n",
    "for x in dfc2['name']:\n",
    "    print(x)"
   ]
  },
  {
   "cell_type": "markdown",
   "metadata": {
    "collapsed": true
   },
   "source": [
    "### How many roles were credited in the silent 1921 version of Hamlet?"
   ]
  },
  {
   "cell_type": "code",
   "execution_count": 9,
   "metadata": {},
   "outputs": [
    {
     "name": "stdout",
     "output_type": "stream",
     "text": [
      "Asta Nielsen\n",
      "Paul Conradi\n",
      "Mathilde Brandt\n",
      "Eduard von Winterstein\n",
      "Heinz Stieda\n",
      "Hans Junkermann\n",
      "Anton De Verdier\n",
      "Lilly Jacobson\n",
      "Fritz Achterberg\n"
     ]
    },
    {
     "name": "stderr",
     "output_type": "stream",
     "text": [
      "C:\\ProgramData\\Anaconda3\\lib\\site-packages\\ipykernel_launcher.py:4: SettingWithCopyWarning: \n",
      "A value is trying to be set on a copy of a slice from a DataFrame\n",
      "\n",
      "See the caveats in the documentation: https://pandas.pydata.org/pandas-docs/stable/user_guide/indexing.html#returning-a-view-versus-a-copy\n",
      "  after removing the cwd from sys.path.\n"
     ]
    }
   ],
   "source": [
    "dfc.sort_values(by=['year'],inplace=True)\n",
    "dfc1 = dfc[(dfc['year'] >= 1921) & (dfc['year'] <= 1921)]\n",
    "dfc2 = dfc1[dfc1['title'].str.match(\"Hamlet\")]\n",
    "dfc2.sort_values(by=['n'],inplace = True)\n",
    "\n",
    "for x in dfc2['name']:\n",
    "    print(x)"
   ]
  },
  {
   "cell_type": "markdown",
   "metadata": {
    "collapsed": true
   },
   "source": [
    "### How many roles were credited in Branagh’s 1996 Hamlet?"
   ]
  },
  {
   "cell_type": "code",
   "execution_count": 10,
   "metadata": {
    "scrolled": true
   },
   "outputs": [
    {
     "data": {
      "text/plain": [
       "54"
      ]
     },
     "execution_count": 10,
     "metadata": {},
     "output_type": "execute_result"
    }
   ],
   "source": [
    "dfc.sort_values(by=['year'],inplace=True)\n",
    "dfc1 = dfc[(dfc['year'] >= 1996) & (dfc['year'] <= 1996)]\n",
    "dfc2 = dfc1[dfc1['title'].str.match(\"Hamlet\")]\n",
    "\n",
    "dfc2['character'].count()"
   ]
  },
  {
   "cell_type": "markdown",
   "metadata": {
    "collapsed": true
   },
   "source": [
    "### How many \"Hamlet\" roles have been listed in all film credits through history?"
   ]
  },
  {
   "cell_type": "code",
   "execution_count": 11,
   "metadata": {},
   "outputs": [
    {
     "data": {
      "text/plain": [
       "125"
      ]
     },
     "execution_count": 11,
     "metadata": {},
     "output_type": "execute_result"
    }
   ],
   "source": [
    "dfc1 = dfc[dfc['character'].str.match(\"Hamlet\")]\n",
    "\n",
    "dfc1['character'].count()"
   ]
  },
  {
   "cell_type": "markdown",
   "metadata": {
    "collapsed": true
   },
   "source": [
    "### How many people have played an \"Ophelia\"?"
   ]
  },
  {
   "cell_type": "code",
   "execution_count": 13,
   "metadata": {},
   "outputs": [
    {
     "name": "stdout",
     "output_type": "stream",
     "text": [
      "146\n"
     ]
    }
   ],
   "source": [
    "dfc1 = dfc[dfc['character'].str.match(\"Ophelia\")]\n",
    "\n",
    "dfc1['name'].drop_duplicates()\n",
    "print(dfc1['name'].count())"
   ]
  },
  {
   "cell_type": "markdown",
   "metadata": {
    "collapsed": true
   },
   "source": [
    "### How many people have played a role called \"The Dude\"?"
   ]
  },
  {
   "cell_type": "code",
   "execution_count": 14,
   "metadata": {},
   "outputs": [
    {
     "name": "stdout",
     "output_type": "stream",
     "text": [
      "23\n"
     ]
    }
   ],
   "source": [
    "dfc1 = dfc[dfc['character'].str.match(\"The Dude\")]\n",
    "\n",
    "dfc1['name'].drop_duplicates()\n",
    "print(dfc1['name'].count())"
   ]
  },
  {
   "cell_type": "markdown",
   "metadata": {
    "collapsed": true
   },
   "source": [
    "### How many people have played a role called \"The Stranger\"?"
   ]
  },
  {
   "cell_type": "code",
   "execution_count": 15,
   "metadata": {},
   "outputs": [
    {
     "name": "stdout",
     "output_type": "stream",
     "text": [
      "224\n"
     ]
    }
   ],
   "source": [
    "dfc1 = dfc[dfc['character'].str.match(\"The Stranger\")]\n",
    "\n",
    "dfc1['name'].drop_duplicates()\n",
    "print(dfc1['name'].count())"
   ]
  },
  {
   "cell_type": "markdown",
   "metadata": {
    "collapsed": true
   },
   "source": [
    "### How many roles has Sidney Poitier played throughout his career?"
   ]
  },
  {
   "cell_type": "code",
   "execution_count": 16,
   "metadata": {},
   "outputs": [
    {
     "name": "stdout",
     "output_type": "stream",
     "text": [
      "43\n"
     ]
    }
   ],
   "source": [
    "dfc1 = dfc[dfc['name'].str.match(\"Sidney Poitier\")]\n",
    "\n",
    "print(dfc1['character'].count())"
   ]
  },
  {
   "cell_type": "markdown",
   "metadata": {
    "collapsed": true
   },
   "source": [
    "### How many roles has Judi Dench played?"
   ]
  },
  {
   "cell_type": "code",
   "execution_count": 17,
   "metadata": {},
   "outputs": [
    {
     "name": "stdout",
     "output_type": "stream",
     "text": [
      "55\n"
     ]
    }
   ],
   "source": [
    "dfc1 = dfc[dfc['name'].str.match(\"Judi Dench\")]\n",
    "\n",
    "print(dfc1['character'].count())"
   ]
  },
  {
   "cell_type": "markdown",
   "metadata": {
    "collapsed": true
   },
   "source": [
    "### List the supporting roles (having n=2) played by Cary Grant in the 1940s, in order by year."
   ]
  },
  {
   "cell_type": "code",
   "execution_count": 19,
   "metadata": {},
   "outputs": [
    {
     "name": "stdout",
     "output_type": "stream",
     "text": [
      "Nick Arden\n",
      "Roger Adams\n"
     ]
    }
   ],
   "source": [
    "dfc = pd.read_csv('C:/Users/karth/Assignments/Day16&17/Dataset/cast.csv')\n",
    "\n",
    "\n",
    "dfc.sort_values(by=['year'],inplace=True)\n",
    "dfc1 = dfc[(dfc['year'] >= 1940) & (dfc['year'] <= 1949)]\n",
    "\n",
    "dfc1 = dfc1[dfc1['name'].str.match(\"Cary Grant\")]\n",
    "\n",
    "dfc1 = dfc1[(dfc1['n'] >= 2) & (dfc1['n'] <= 2)]\n",
    "\n",
    "for x in dfc1['character']:\n",
    "    print(x)"
   ]
  },
  {
   "cell_type": "markdown",
   "metadata": {
    "collapsed": true
   },
   "source": [
    "### List the leading roles that Cary Grant played in the 1940s in order by year."
   ]
  },
  {
   "cell_type": "code",
   "execution_count": 21,
   "metadata": {
    "scrolled": true
   },
   "outputs": [
    {
     "name": "stdout",
     "output_type": "stream",
     "text": [
      "C. K. Dexter Haven\n",
      "Matt Howard\n",
      "Walter Burns\n",
      "Johnnie Aysgarth\n",
      "Leopold Dilg\n",
      "Patrick 'Pat' O'Toole\n",
      "Capt. Cassidy\n",
      "Joe Adams -posing as Joe Bascopolous\n",
      "Jerry Flynn\n",
      "Mortimer Brewster\n",
      "Ernie Mott\n",
      "Devlin\n",
      "Cole Porter\n",
      "Dick Nugent\n",
      "Dudley\n",
      "Dr. Madison Brown\n",
      "Jim Blandings\n",
      "Captain Henri Rochard\n"
     ]
    }
   ],
   "source": [
    "dfc.sort_values(by=['year'],inplace=True)\n",
    "dfc1 = dfc[(dfc['year'] >= 1940) & (dfc['year'] <= 1949)]\n",
    "\n",
    "dfc1 = dfc1[dfc1['name'].str.match(\"Cary Grant\")]\n",
    "\n",
    "dfc1 = dfc1[(dfc1['n'] >= 1) & (dfc1['n'] <= 1)]\n",
    "\n",
    "for x in dfc1['character']:\n",
    "    print(x)"
   ]
  },
  {
   "cell_type": "markdown",
   "metadata": {
    "collapsed": true
   },
   "source": [
    "### How many roles were available for actors in the 1950s?"
   ]
  },
  {
   "cell_type": "code",
   "execution_count": 23,
   "metadata": {},
   "outputs": [
    {
     "data": {
      "text/plain": [
       "157738"
      ]
     },
     "execution_count": 23,
     "metadata": {},
     "output_type": "execute_result"
    }
   ],
   "source": [
    "dfc.sort_values(by=['year'],inplace=True)\n",
    "dfc1 = dfc[(dfc['year'] >= 1950) & (dfc['year'] <= 1959)]\n",
    "dfc1 = dfc1[dfc1['type'].str.match(\"actor\")]\n",
    "\n",
    "\n",
    "dfc1['character'].count()"
   ]
  },
  {
   "cell_type": "markdown",
   "metadata": {
    "collapsed": true
   },
   "source": [
    "### How many roles were available for actresses in the 1950s?"
   ]
  },
  {
   "cell_type": "code",
   "execution_count": 26,
   "metadata": {},
   "outputs": [
    {
     "data": {
      "text/plain": [
       "57733"
      ]
     },
     "execution_count": 26,
     "metadata": {},
     "output_type": "execute_result"
    }
   ],
   "source": [
    "dfc.sort_values(by=['year'],inplace=True)\n",
    "dfc1 = dfc[(dfc['year'] >= 1950) & (dfc['year'] <= 1959)]\n",
    "dfc1 = dfc1[dfc1['type'].str.match(\"actress\")]\n",
    "\n",
    "\n",
    "dfc1['character'].count()"
   ]
  },
  {
   "cell_type": "markdown",
   "metadata": {
    "collapsed": true
   },
   "source": [
    "### How many leading roles (n=1) were available from the beginning of film history through 1980?"
   ]
  },
  {
   "cell_type": "code",
   "execution_count": 27,
   "metadata": {},
   "outputs": [
    {
     "data": {
      "text/plain": [
       "65140"
      ]
     },
     "execution_count": 27,
     "metadata": {},
     "output_type": "execute_result"
    }
   ],
   "source": [
    "dfc.sort_values(by=['year'],inplace=True)\n",
    "dfc1 = dfc[(dfc['year'] >= 0) & (dfc['year'] <= 1980)]\n",
    "dfc1 = dfc1[(dfc1['n'] >= 1) & (dfc1['n'] <= 1)]\n",
    "\n",
    "\n",
    "dfc1['character'].count()"
   ]
  },
  {
   "cell_type": "markdown",
   "metadata": {
    "collapsed": true
   },
   "source": [
    "### How many non-leading roles were available through from the beginning of film history through 1980?"
   ]
  },
  {
   "cell_type": "code",
   "execution_count": 30,
   "metadata": {},
   "outputs": [
    {
     "data": {
      "text/plain": [
       "1117667"
      ]
     },
     "execution_count": 30,
     "metadata": {},
     "output_type": "execute_result"
    }
   ],
   "source": [
    "dfc.sort_values(by=['year'],inplace=True)\n",
    "dfc1 = dfc[(dfc['year'] >= 0) & (dfc['year'] <= 1980)]\n",
    "dfc1 = dfc1[(dfc1['n'] != 1)]\n",
    "\n",
    "\n",
    "dfc1['character'].count()"
   ]
  },
  {
   "cell_type": "markdown",
   "metadata": {
    "collapsed": true
   },
   "source": [
    "### How many roles through 1980 were minor enough that they did not warrant a numeric \"n\" rank?"
   ]
  },
  {
   "cell_type": "code",
   "execution_count": 31,
   "metadata": {},
   "outputs": [
    {
     "data": {
      "text/plain": [
       "448347"
      ]
     },
     "execution_count": 31,
     "metadata": {},
     "output_type": "execute_result"
    }
   ],
   "source": [
    "dfc.sort_values(by=['year'],inplace=True)\n",
    "dfc1 = dfc[(dfc['year'] >= 0) & (dfc['year'] <= 1980)]\n",
    "\n",
    "dfc1 = dfc1[dfc1['n'].isna()]\n",
    "\n",
    "dfc1['character'].count()"
   ]
  }
 ],
 "metadata": {
  "kernelspec": {
   "display_name": "Python 3",
   "language": "python",
   "name": "python3"
  },
  "language_info": {
   "codemirror_mode": {
    "name": "ipython",
    "version": 3
   },
   "file_extension": ".py",
   "mimetype": "text/x-python",
   "name": "python",
   "nbconvert_exporter": "python",
   "pygments_lexer": "ipython3",
   "version": "3.7.6"
  }
 },
 "nbformat": 4,
 "nbformat_minor": 1
}
