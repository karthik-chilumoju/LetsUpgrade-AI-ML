{
 "cells": [
  {
   "cell_type": "markdown",
   "metadata": {},
   "source": [
    "# 1. Create a 3x3x3 array with random values "
   ]
  },
  {
   "cell_type": "code",
   "execution_count": 1,
   "metadata": {},
   "outputs": [
    {
     "name": "stdout",
     "output_type": "stream",
     "text": [
      "[[[0.9302299  0.86019068 0.32642793]\n",
      "  [0.23275933 0.01679573 0.0163154 ]\n",
      "  [0.54338347 0.0285219  0.98764612]]\n",
      "\n",
      " [[0.2825609  0.32190453 0.80900072]\n",
      "  [0.69936081 0.21514055 0.4568329 ]\n",
      "  [0.33071276 0.3855032  0.82734396]]\n",
      "\n",
      " [[0.31025351 0.1458404  0.19496587]\n",
      "  [0.32011634 0.24466475 0.24852995]\n",
      "  [0.26892426 0.29259499 0.15725231]]]\n"
     ]
    }
   ],
   "source": [
    "import numpy as np\n",
    "x = np.random.random((3,3,3))\n",
    "print(x)"
   ]
  },
  {
   "cell_type": "markdown",
   "metadata": {},
   "source": [
    "# 2.Create a 5x5 matrix with values 1,2,3,4 just below the diagonal"
   ]
  },
  {
   "cell_type": "code",
   "execution_count": 2,
   "metadata": {},
   "outputs": [
    {
     "name": "stdout",
     "output_type": "stream",
     "text": [
      "[[0 0 0 0 0]\n",
      " [1 0 0 0 0]\n",
      " [0 2 0 0 0]\n",
      " [0 0 3 0 0]\n",
      " [0 0 0 4 0]]\n"
     ]
    }
   ],
   "source": [
    "x = np.diag([1,2,3,4],k=-1)\n",
    "print(x)"
   ]
  },
  {
   "cell_type": "markdown",
   "metadata": {},
   "source": [
    "# 3.Create a 8x8 matrix and fill it with a checkerboard pattern"
   ]
  },
  {
   "cell_type": "code",
   "execution_count": 3,
   "metadata": {},
   "outputs": [
    {
     "name": "stdout",
     "output_type": "stream",
     "text": [
      "Checkerboard pattern with 1's and 0's:\n",
      "[[0 1 0 1 0 1 0 1]\n",
      " [1 0 1 0 1 0 1 0]\n",
      " [0 1 0 1 0 1 0 1]\n",
      " [1 0 1 0 1 0 1 0]\n",
      " [0 1 0 1 0 1 0 1]\n",
      " [1 0 1 0 1 0 1 0]\n",
      " [0 1 0 1 0 1 0 1]\n",
      " [1 0 1 0 1 0 1 0]]\n"
     ]
    }
   ],
   "source": [
    "print(\"Checkerboard pattern with 1's and 0's:\")\n",
    "x = np.zeros((8,8),dtype=int)\n",
    "x[1::2,::2] = 1\n",
    "x[::2,1::2] = 1\n",
    "print(x)"
   ]
  },
  {
   "cell_type": "markdown",
   "metadata": {},
   "source": [
    "# 4. Normalize a 5x5 random matrix"
   ]
  },
  {
   "cell_type": "code",
   "execution_count": 4,
   "metadata": {},
   "outputs": [
    {
     "name": "stdout",
     "output_type": "stream",
     "text": [
      "[[ 0.02341032  0.66888611  0.43618879  0.53767548  0.19045116]\n",
      " [-0.2492326   1.1557276  -1.63814484  0.09688264  0.93468885]\n",
      " [ 0.56918302  1.34000555  0.71489078  1.58341516 -1.3707688 ]\n",
      " [-0.12719569  0.15398066  0.11375769  0.23862848 -0.12196779]\n",
      " [-2.27927148  0.3025545   0.32345844 -1.6123892  -1.98481483]]\n"
     ]
    }
   ],
   "source": [
    "x = np.random.random((5,5))\n",
    "x = (x - np.mean(x)) / (np.std(x))\n",
    "\n",
    "print(x)"
   ]
  },
  {
   "cell_type": "markdown",
   "metadata": {},
   "source": [
    "# 5.  How to find common values between two arrays?"
   ]
  },
  {
   "cell_type": "code",
   "execution_count": 5,
   "metadata": {},
   "outputs": [
    {
     "name": "stdout",
     "output_type": "stream",
     "text": [
      "Array1:  [ 0 10 20 40 60]\n",
      "Array2:  [10, 30, 40, 50, 60]\n",
      "Common values between two arrays:\n",
      "[10 40 60]\n"
     ]
    }
   ],
   "source": [
    "#using intersect1d function\n",
    "\n",
    "array1 = np.array([0, 10, 20, 40, 60])\n",
    "print(\"Array1: \",array1)\n",
    "array2 = [10, 30, 40, 50, 60]\n",
    "print(\"Array2: \",array2)\n",
    "print(\"Common values between two arrays:\")\n",
    "print(np.intersect1d(array1, array2))"
   ]
  },
  {
   "cell_type": "markdown",
   "metadata": {},
   "source": [
    "# 6.How to get the dates of yesterday, today and tomorrow?"
   ]
  },
  {
   "cell_type": "code",
   "execution_count": 6,
   "metadata": {},
   "outputs": [
    {
     "name": "stdout",
     "output_type": "stream",
     "text": [
      "Yesterday date:  2020-08-01\n",
      "Today date:  2020-08-02\n",
      "Tomorrow date:  2020-08-03\n"
     ]
    }
   ],
   "source": [
    "#using datetime64 function\n",
    "\n",
    "yesterday = np.datetime64('today', 'D') - np.timedelta64(1, 'D')\n",
    "print(\"Yesterday date: \",yesterday)\n",
    "today     = np.datetime64('today', 'D')\n",
    "print(\"Today date: \",today)\n",
    "tomorrow  = np.datetime64('today', 'D') + np.timedelta64(1, 'D')\n",
    "print(\"Tomorrow date: \",tomorrow)\n",
    "\n"
   ]
  },
  {
   "cell_type": "markdown",
   "metadata": {},
   "source": [
    "# 7. Consider two random array A and B, check if they are equal"
   ]
  },
  {
   "cell_type": "code",
   "execution_count": 7,
   "metadata": {},
   "outputs": [
    {
     "name": "stdout",
     "output_type": "stream",
     "text": [
      "x:  [1 1 2 3 3 3 1 3 1]\n",
      "y:  [1 2 3 1 2 3 2 2 2]\n",
      "Both the arrays are not equal\n"
     ]
    }
   ],
   "source": [
    "x = np.random.randint(1,4,9)\n",
    "y = np.random.randint(1,4,9)\n",
    "\n",
    "print(\"x: \",x)\n",
    "print(\"y: \",y)\n",
    "if np.array_equal(x,y) == True:\n",
    "    print(\"Both the arrays are equal\")\n",
    "\n",
    "else:\n",
    "    print(\"Both the arrays are not equal\")"
   ]
  },
  {
   "cell_type": "markdown",
   "metadata": {},
   "source": [
    "# 8.Create random vector of size 10 and replace the maximum value by 0 "
   ]
  },
  {
   "cell_type": "code",
   "execution_count": 8,
   "metadata": {},
   "outputs": [
    {
     "name": "stdout",
     "output_type": "stream",
     "text": [
      "Random vector:  [0.95012054 0.86515306 0.5692882  0.95271348 0.5749213  0.75446908\n",
      " 0.15187419 0.29587576 0.70641847 0.55198809]\n",
      "Max value in vector:  3\n",
      "Random vector with Max value as 0:  [0.95012054 0.86515306 0.5692882  0.         0.5749213  0.75446908\n",
      " 0.15187419 0.29587576 0.70641847 0.55198809]\n"
     ]
    }
   ],
   "source": [
    "x = np.random.random(10)\n",
    "print(\"Random vector: \",x)\n",
    "print(\"Max value in vector: \",x.argmax())\n",
    "\n",
    "x[x.argmax()] = 0\n",
    "print(\"Random vector with Max value as 0: \",x)\n"
   ]
  },
  {
   "cell_type": "markdown",
   "metadata": {},
   "source": [
    "# 9. How to print all the values of an array?"
   ]
  },
  {
   "cell_type": "code",
   "execution_count": 9,
   "metadata": {},
   "outputs": [
    {
     "data": {
      "text/plain": [
       "array([[[0.25725524, 0.39080351, 0.5169044 ],\n",
       "        [0.08563924, 0.69386898, 0.40979106],\n",
       "        [0.88768911, 0.64700816, 0.14519211]],\n",
       "\n",
       "       [[0.65908289, 0.60016323, 0.38630748],\n",
       "        [0.03056859, 0.78147231, 0.82602529],\n",
       "        [0.2659999 , 0.68521175, 0.36412403]],\n",
       "\n",
       "       [[0.74849375, 0.08982107, 0.10278082],\n",
       "        [0.67147518, 0.18125888, 0.05869534],\n",
       "        [0.15396858, 0.4177397 , 0.37481603]]])"
      ]
     },
     "execution_count": 9,
     "metadata": {},
     "output_type": "execute_result"
    }
   ],
   "source": [
    "x = np.random.random((3,3,3))\n",
    "\n",
    "x"
   ]
  },
  {
   "cell_type": "markdown",
   "metadata": {},
   "source": [
    "# 10.Subtract the mean of each row of a matrix"
   ]
  },
  {
   "cell_type": "code",
   "execution_count": 20,
   "metadata": {},
   "outputs": [
    {
     "name": "stdout",
     "output_type": "stream",
     "text": [
      "[[5 4 9 5]\n",
      " [5 6 3 7]\n",
      " [7 6 6 9]\n",
      " [5 3 2 4]]\n",
      "[[-0.75 -1.75  3.25 -0.75]\n",
      " [-0.25  0.75 -2.25  1.75]\n",
      " [ 0.   -1.   -1.    2.  ]\n",
      " [ 1.5  -0.5  -1.5   0.5 ]]\n"
     ]
    }
   ],
   "source": [
    "X = np.random.randint(2, 10, size = 16, dtype='l').reshape(4,4)\n",
    "print(X)\n",
    "\n",
    "Y = X - X.mean(axis=1, keepdims=True)\n",
    "print(Y)"
   ]
  },
  {
   "cell_type": "markdown",
   "metadata": {},
   "source": [
    "# 11.Consider a given vector, how to add 1 to each element indexed by a second vector (be careful with repeated indices)? "
   ]
  },
  {
   "cell_type": "code",
   "execution_count": 32,
   "metadata": {},
   "outputs": [
    {
     "name": "stdout",
     "output_type": "stream",
     "text": [
      "[8 5 0 2 7 5 6 9 2 1 8 2 8 5 1 6 7 0 7 9]\n",
      "[5. 5. 7. 1. 1. 7. 5. 7. 7. 5.]\n"
     ]
    }
   ],
   "source": [
    "Z = np.ones(10)\n",
    "\n",
    "I = np.random.randint(0,len(Z),20)\n",
    "\n",
    "print(I)\n",
    "\n",
    "Z += np.bincount(I, minlength=len(Z))\n",
    "\n",
    "\n",
    "\n",
    "np.add.at(Z, I, 1)\n",
    "\n",
    "print(Z)"
   ]
  },
  {
   "cell_type": "markdown",
   "metadata": {},
   "source": [
    "# 12.How to get the diagonal of a dot product?"
   ]
  },
  {
   "cell_type": "code",
   "execution_count": 39,
   "metadata": {},
   "outputs": [
    {
     "name": "stdout",
     "output_type": "stream",
     "text": [
      "A:  [[6.985926   3.79865602 4.03950159 3.97199994 2.89266025]\n",
      " [8.07517472 9.06587092 7.59668789 7.49493311 3.73984627]\n",
      " [8.84527184 2.77545599 8.67438775 6.84125644 7.92637608]\n",
      " [2.39870201 7.0461711  7.31314925 4.14268884 0.41609017]\n",
      " [4.30967778 9.36116309 4.5316149  7.58270759 3.73714684]]\n",
      "B:  [[7.01805997 4.40696266 0.04849416 3.52744492 3.30074576]\n",
      " [2.18289517 4.18915775 7.31154192 1.25391137 1.02351003]\n",
      " [4.64365184 8.93391602 2.48504788 8.3512244  4.72010269]\n",
      " [0.72044039 0.31821441 5.40380588 4.49139589 9.38831559]\n",
      " [6.37059113 9.35850505 7.52400048 3.64292976 9.28384759]]\n",
      "A.B : [[ 97.36729938 111.12337553  81.37945791  91.51801371 110.15899636]\n",
      " [140.96296395 178.81789445 154.19499588 150.58088693 176.87521562]\n",
      " [163.84043285 204.4598743  138.8849548  166.72516594 210.79584341]\n",
      " [ 71.81030702 110.63581887  95.32517331  98.49255658  92.40393563]\n",
      " [100.99397994 136.08007927 149.00858498 112.45585785 151.08003615]]\n",
      "diagonal of a dot product method 1 is.... [ 97.36729938 178.81789445 138.8849548   98.49255658 151.08003615]\n"
     ]
    }
   ],
   "source": [
    "A = np.random.uniform(0,10,(5,5))\n",
    "B = np.random.uniform(0,10,(5,5))\n",
    "print(\"A: \", A)\n",
    "print(\"B: \",B)\n",
    "\n",
    "C = np.dot(A,B)\n",
    "\n",
    "print(\"A.B :\",C)\n",
    "Diagdot =np.diag(np.dot(A, B))\n",
    "\n",
    "print(\"diagonal of a dot product method 1 is....\",Diagdot)\n"
   ]
  },
  {
   "cell_type": "markdown",
   "metadata": {},
   "source": [
    "# 13.How to find the most frequent value in an array?"
   ]
  },
  {
   "cell_type": "code",
   "execution_count": 40,
   "metadata": {},
   "outputs": [
    {
     "name": "stdout",
     "output_type": "stream",
     "text": [
      "[1 4 4 6 6 3 7 4 6 9 0 3 1 2 4 3 3 8 0 8 7 7 2 3 1 8 9 8 0 2 4 9 3 9 1 3 7\n",
      " 4 3 5 5 1 8 1 7 7 2 1 5 8]\n",
      "3\n"
     ]
    }
   ],
   "source": [
    "Z = np.random.randint(0,10,50)\n",
    "print(Z)\n",
    "print(np.bincount(Z).argmax())"
   ]
  },
  {
   "cell_type": "markdown",
   "metadata": {},
   "source": [
    "# 14.How to get the n largest values of an array"
   ]
  },
  {
   "cell_type": "code",
   "execution_count": 47,
   "metadata": {},
   "outputs": [
    {
     "name": "stdout",
     "output_type": "stream",
     "text": [
      "[9990 9991 9992 9993 9994 9995 9996 9997 9998 9999]\n"
     ]
    }
   ],
   "source": [
    "Z = np.arange(10000)\n",
    "np.random.shuffle(Z)\n",
    "n = 10\n",
    "\n",
    "\n",
    "print (Z[np.argsort(Z)[-n:]])"
   ]
  },
  {
   "cell_type": "markdown",
   "metadata": {},
   "source": [
    "# 15.How to create a record array from a regular array?"
   ]
  },
  {
   "cell_type": "code",
   "execution_count": 54,
   "metadata": {},
   "outputs": [
    {
     "name": "stdout",
     "output_type": "stream",
     "text": [
      "[(b'karthik', 5.6, 1) (b'Messi', 4.6, 2)]\n"
     ]
    }
   ],
   "source": [
    "Z = np.array([(\"karthik\", 5.6, 1),\n",
    "              (\"Messi\", 4.6, 2)])\n",
    "R = np.core.records.fromarrays(Z.T,names='Name, Value, Rank',formats = 'S8, f8, i8')\n",
    "print(R)"
   ]
  }
 ],
 "metadata": {
  "kernelspec": {
   "display_name": "Python 3",
   "language": "python",
   "name": "python3"
  },
  "language_info": {
   "codemirror_mode": {
    "name": "ipython",
    "version": 3
   },
   "file_extension": ".py",
   "mimetype": "text/x-python",
   "name": "python",
   "nbconvert_exporter": "python",
   "pygments_lexer": "ipython3",
   "version": "3.7.6"
  }
 },
 "nbformat": 4,
 "nbformat_minor": 2
}
