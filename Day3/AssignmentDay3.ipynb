{
 "cells": [
  {
   "cell_type": "code",
   "execution_count": 6,
   "metadata": {},
   "outputs": [
    {
     "name": "stdout",
     "output_type": "stream",
     "text": [
      "a = please enter a complex number:\n",
      "3+3j\n",
      "b = please enter a complex number:\n",
      "2+2j\n",
      "Difference between two complex numbers:\n",
      "(1+1j)\n"
     ]
    }
   ],
   "source": [
    "\"\"\"Question 1 :\n",
    "Write a program to subtract two complex numbers in Python.\"\"\"\n",
    "\n",
    "print(\"a = please enter a complex number:\")\n",
    "a= complex(input())\n",
    "print(\"b = please enter a complex number:\")\n",
    "b= complex(input())\n",
    "print(\"Difference between two complex numbers:\")\n",
    "c = a-b\n",
    "print(c)"
   ]
  },
  {
   "cell_type": "code",
   "execution_count": 5,
   "metadata": {},
   "outputs": [
    {
     "name": "stdout",
     "output_type": "stream",
     "text": [
      "Please enter a number:\n",
      "6561\n",
      "9.0\n"
     ]
    }
   ],
   "source": [
    "\"\"\"Question 2 :\n",
    "Write a program to find the fourth root of a number.\"\"\"\n",
    "\n",
    "print(\"Please enter a number:\")\n",
    "a = float(input())\n",
    "b = a**(1/float(4))\n",
    "print(b)"
   ]
  },
  {
   "cell_type": "code",
   "execution_count": 7,
   "metadata": {},
   "outputs": [
    {
     "name": "stdout",
     "output_type": "stream",
     "text": [
      "a = please enter a number:\n",
      "1\n",
      "b = please enter a number:\n",
      "2\n",
      "Values before swaping are 1  &  2\n",
      "Values after swaping are 2  &  1\n"
     ]
    }
   ],
   "source": [
    "\"\"\"Question 3:\n",
    "Write a program to swap two numbers in Python with the help of a temporary variable.\"\"\"\n",
    "\n",
    "print(\"a = please enter a number:\")\n",
    "a= int(input())\n",
    "print(\"b = please enter a number:\")\n",
    "b= int(input())\n",
    "print(\"Values before swaping are\",a,\" & \",b)\n",
    "c= a\n",
    "a= b\n",
    "b= c\n",
    "print(\"Values after swaping are\",a,\" & \",b)"
   ]
  },
  {
   "cell_type": "code",
   "execution_count": 8,
   "metadata": {},
   "outputs": [
    {
     "name": "stdout",
     "output_type": "stream",
     "text": [
      "a = please enter a number:\n",
      "1\n",
      "b = please enter a number:\n",
      "2\n",
      "Values before swaping are 1  &  2\n",
      "Values after swaping are 2  &  1\n"
     ]
    }
   ],
   "source": [
    "\"\"\"Question 4:\n",
    "Write a program to swap two numbers in Python without using a temporary variable.\"\"\"\n",
    "\n",
    "\n",
    "print(\"a = please enter a number:\")\n",
    "a= int(input())\n",
    "print(\"b = please enter a number:\")\n",
    "b= int(input())\n",
    "print(\"Values before swaping are\",a,\" & \",b)\n",
    "a = a + b\n",
    "b = a - b\n",
    "a = a - b\n",
    "print(\"Values after swaping are\",a,\" & \",b)"
   ]
  },
  {
   "cell_type": "code",
   "execution_count": 9,
   "metadata": {},
   "outputs": [
    {
     "name": "stdout",
     "output_type": "stream",
     "text": [
      "Please enter temperature in Farenheit:\n",
      "100\n",
      "Temperature in Celsius is 37 degrees\n",
      "Temperature in Kelvin is 310.1 degrees\n"
     ]
    }
   ],
   "source": [
    "\"\"\"Question 5:\n",
    "Write a program to convert fahrenheit to kelvin and celsius both.\"\"\"\n",
    "\n",
    "print(\"Please enter temperature in Farenheit:\")\n",
    "a = int(input())\n",
    "b = int((a - 32)*(5/9))\n",
    "print(\"Temperature in Celsius is\",b,\"degrees\")\n",
    "c = b + 273.1\n",
    "print(\"Temperature in Kelvin is\",c,\"degrees\")"
   ]
  },
  {
   "cell_type": "code",
   "execution_count": 10,
   "metadata": {},
   "outputs": [
    {
     "name": "stdout",
     "output_type": "stream",
     "text": [
      "karthik is <class 'str'>\n",
      "6 is <class 'int'>\n",
      "7.5 is <class 'float'>\n",
      "(3+3j) is <class 'complex'>\n",
      "['a', 635, (3+3j)] is <class 'list'>\n",
      "('a', 635, (3+3j)) is <class 'tuple'>\n",
      "{'a', 635, (3+3j)} is <class 'set'>\n",
      "{'a': 100, 'b': 200, 'c': 300} is <class 'dict'>\n"
     ]
    }
   ],
   "source": [
    "\"\"\"Question 6:\n",
    "Write a program to demonstrate all the available data types in Python. Hint: Use type() function.\"\"\"\n",
    "\n",
    "a = \"karthik\"\n",
    "print(a,\"is\",type(a))\n",
    "\n",
    "b = 6\n",
    "print(b,\"is\",type(b))\n",
    "\n",
    "c = 7.5\n",
    "print(c,\"is\",type(c))\n",
    "\n",
    "d = 3+3j\n",
    "print(d,\"is\",type(d))\n",
    "\n",
    "e = [\"a\",635,d]\n",
    "print(e,\"is\",type(e))\n",
    "\n",
    "f = (\"a\",635,d)\n",
    "print(f,\"is\",type(f))\n",
    "\n",
    "f = {\"a\",635,d}\n",
    "print(f,\"is\",type(f))\n",
    "\n",
    "f = {\"a\":100,\"b\":200,\"c\":300}\n",
    "print(f,\"is\",type(f))\n"
   ]
  },
  {
   "cell_type": "markdown",
   "metadata": {},
   "source": [
    "## Question 7: Create a Markdown cell in jupyter and list the steps discussed in the session by Dr. Darshan Ingle sir to create Github profile and upload Githubs Assignment link.\n",
    "\n",
    "# *Steps to create Github profile*\n",
    "\n",
    "### 1. Open www.github.com\n",
    "### 2. Sign up or Sign in\n",
    "### 3. Create New Repositary\n",
    "### 4. Name it as \"LetsUpgrade AI/ML\"\n",
    "### 5. Click \"upload new file\"\n",
    "### 6. Upload the Assignment folder in drop down\n",
    "\n",
    "# **Steps to submit assignment**\n",
    "\n",
    "### 1. Copy the URL of the Folder of that day and paste in the Assignment Submission Form (Google Form)\n",
    "### 2. Make sure you are filling correct details in the Assignment Submission Form.\n",
    "### 3. Submit assignment.\n"
   ]
  }
 ],
 "metadata": {
  "kernelspec": {
   "display_name": "Python 3",
   "language": "python",
   "name": "python3"
  },
  "language_info": {
   "codemirror_mode": {
    "name": "ipython",
    "version": 3
   },
   "file_extension": ".py",
   "mimetype": "text/x-python",
   "name": "python",
   "nbconvert_exporter": "python",
   "pygments_lexer": "ipython3",
   "version": "3.7.6"
  }
 },
 "nbformat": 4,
 "nbformat_minor": 4
}
