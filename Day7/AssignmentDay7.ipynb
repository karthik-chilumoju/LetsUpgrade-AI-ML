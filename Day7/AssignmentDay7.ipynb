{
  "nbformat": 4,
  "nbformat_minor": 0,
  "metadata": {
    "colab": {
      "name": "AssignmentDay7.ipynb",
      "provenance": [],
      "collapsed_sections": [
        "ZAFfNAvUgFyc",
        "URRJ4ixrQA84"
      ],
      "toc_visible": true
    },
    "kernelspec": {
      "name": "python3",
      "display_name": "Python 3"
    }
  },
  "cells": [
    {
      "cell_type": "markdown",
      "metadata": {
        "id": "nK5VbLFiZ8BT",
        "colab_type": "text"
      },
      "source": [
        "**Question (Problem Statement):** \n",
        "\n",
        "● A sizable department has to be maintained, for the purposes of recruiting new talent <br>\n",
        "● More often than not, the new employees have to be trained for the job and/or given time to acclimatize themselves to the company <br>\n",
        "● Hence, the management has contracted an HR analytics firm to understand what factors they should focus on, in order to curb attrition. <br>\n",
        "● In other words, they want to know what changes they should make to their workplace, in order to get most of their employees to stay. <br>\n",
        "● Also, they want to know which of these variables is most important and needs to be addressed right away. <br>\n",
        "\n",
        "Data set :It is same as that given on day 7 of Company XYZ"
      ]
    },
    {
      "cell_type": "markdown",
      "metadata": {
        "id": "PTr-F2FwaECq",
        "colab_type": "text"
      },
      "source": [
        "# 1. Exploratory Data Analysis on Attributes of Associates of Company XYZ :\n",
        "(Performing Descriptive statistical tests on the data)"
      ]
    },
    {
      "cell_type": "markdown",
      "metadata": {
        "id": "H9tJFr2EdnCs",
        "colab_type": "text"
      },
      "source": [
        "## **Data preparation :**"
      ]
    },
    {
      "cell_type": "code",
      "metadata": {
        "id": "HZK923ZfaeAK",
        "colab_type": "code",
        "colab": {}
      },
      "source": [
        "import pandas as pd\n",
        "\n",
        "dataset = pd.read_csv('general_data.csv')"
      ],
      "execution_count": 54,
      "outputs": []
    },
    {
      "cell_type": "code",
      "metadata": {
        "id": "gkodSF7GSxs_",
        "colab_type": "code",
        "colab": {
          "base_uri": "https://localhost:8080/",
          "height": 277
        },
        "outputId": "1f82113f-8110-49e0-fa39-fe26747e024a"
      },
      "source": [
        "# Descripition of selected variables \n",
        "summary = dataset[['Age','DistanceFromHome','MonthlyIncome','StandardHours','PercentSalaryHike','TotalWorkingYears','NumCompaniesWorked','TrainingTimesLastYear','YearsSinceLastPromotion','YearsWithCurrManager','YearsAtCompany',]].describe()\n",
        "summary"
      ],
      "execution_count": 55,
      "outputs": [
        {
          "output_type": "execute_result",
          "data": {
            "text/html": [
              "<div>\n",
              "<style scoped>\n",
              "    .dataframe tbody tr th:only-of-type {\n",
              "        vertical-align: middle;\n",
              "    }\n",
              "\n",
              "    .dataframe tbody tr th {\n",
              "        vertical-align: top;\n",
              "    }\n",
              "\n",
              "    .dataframe thead th {\n",
              "        text-align: right;\n",
              "    }\n",
              "</style>\n",
              "<table border=\"1\" class=\"dataframe\">\n",
              "  <thead>\n",
              "    <tr style=\"text-align: right;\">\n",
              "      <th></th>\n",
              "      <th>Age</th>\n",
              "      <th>DistanceFromHome</th>\n",
              "      <th>MonthlyIncome</th>\n",
              "      <th>StandardHours</th>\n",
              "      <th>PercentSalaryHike</th>\n",
              "      <th>TotalWorkingYears</th>\n",
              "      <th>NumCompaniesWorked</th>\n",
              "      <th>TrainingTimesLastYear</th>\n",
              "      <th>YearsSinceLastPromotion</th>\n",
              "      <th>YearsWithCurrManager</th>\n",
              "      <th>YearsAtCompany</th>\n",
              "    </tr>\n",
              "  </thead>\n",
              "  <tbody>\n",
              "    <tr>\n",
              "      <th>count</th>\n",
              "      <td>4410.000000</td>\n",
              "      <td>4410.000000</td>\n",
              "      <td>4410.000000</td>\n",
              "      <td>4410.0</td>\n",
              "      <td>4410.000000</td>\n",
              "      <td>4401.000000</td>\n",
              "      <td>4391.000000</td>\n",
              "      <td>4410.000000</td>\n",
              "      <td>4410.000000</td>\n",
              "      <td>4410.000000</td>\n",
              "      <td>4410.000000</td>\n",
              "    </tr>\n",
              "    <tr>\n",
              "      <th>mean</th>\n",
              "      <td>36.923810</td>\n",
              "      <td>9.192517</td>\n",
              "      <td>65029.312925</td>\n",
              "      <td>8.0</td>\n",
              "      <td>15.209524</td>\n",
              "      <td>11.279936</td>\n",
              "      <td>2.694830</td>\n",
              "      <td>2.799320</td>\n",
              "      <td>2.187755</td>\n",
              "      <td>4.123129</td>\n",
              "      <td>7.008163</td>\n",
              "    </tr>\n",
              "    <tr>\n",
              "      <th>std</th>\n",
              "      <td>9.133301</td>\n",
              "      <td>8.105026</td>\n",
              "      <td>47068.888559</td>\n",
              "      <td>0.0</td>\n",
              "      <td>3.659108</td>\n",
              "      <td>7.782222</td>\n",
              "      <td>2.498887</td>\n",
              "      <td>1.288978</td>\n",
              "      <td>3.221699</td>\n",
              "      <td>3.567327</td>\n",
              "      <td>6.125135</td>\n",
              "    </tr>\n",
              "    <tr>\n",
              "      <th>min</th>\n",
              "      <td>18.000000</td>\n",
              "      <td>1.000000</td>\n",
              "      <td>10090.000000</td>\n",
              "      <td>8.0</td>\n",
              "      <td>11.000000</td>\n",
              "      <td>0.000000</td>\n",
              "      <td>0.000000</td>\n",
              "      <td>0.000000</td>\n",
              "      <td>0.000000</td>\n",
              "      <td>0.000000</td>\n",
              "      <td>0.000000</td>\n",
              "    </tr>\n",
              "    <tr>\n",
              "      <th>25%</th>\n",
              "      <td>30.000000</td>\n",
              "      <td>2.000000</td>\n",
              "      <td>29110.000000</td>\n",
              "      <td>8.0</td>\n",
              "      <td>12.000000</td>\n",
              "      <td>6.000000</td>\n",
              "      <td>1.000000</td>\n",
              "      <td>2.000000</td>\n",
              "      <td>0.000000</td>\n",
              "      <td>2.000000</td>\n",
              "      <td>3.000000</td>\n",
              "    </tr>\n",
              "    <tr>\n",
              "      <th>50%</th>\n",
              "      <td>36.000000</td>\n",
              "      <td>7.000000</td>\n",
              "      <td>49190.000000</td>\n",
              "      <td>8.0</td>\n",
              "      <td>14.000000</td>\n",
              "      <td>10.000000</td>\n",
              "      <td>2.000000</td>\n",
              "      <td>3.000000</td>\n",
              "      <td>1.000000</td>\n",
              "      <td>3.000000</td>\n",
              "      <td>5.000000</td>\n",
              "    </tr>\n",
              "    <tr>\n",
              "      <th>75%</th>\n",
              "      <td>43.000000</td>\n",
              "      <td>14.000000</td>\n",
              "      <td>83800.000000</td>\n",
              "      <td>8.0</td>\n",
              "      <td>18.000000</td>\n",
              "      <td>15.000000</td>\n",
              "      <td>4.000000</td>\n",
              "      <td>3.000000</td>\n",
              "      <td>3.000000</td>\n",
              "      <td>7.000000</td>\n",
              "      <td>9.000000</td>\n",
              "    </tr>\n",
              "    <tr>\n",
              "      <th>max</th>\n",
              "      <td>60.000000</td>\n",
              "      <td>29.000000</td>\n",
              "      <td>199990.000000</td>\n",
              "      <td>8.0</td>\n",
              "      <td>25.000000</td>\n",
              "      <td>40.000000</td>\n",
              "      <td>9.000000</td>\n",
              "      <td>6.000000</td>\n",
              "      <td>15.000000</td>\n",
              "      <td>17.000000</td>\n",
              "      <td>40.000000</td>\n",
              "    </tr>\n",
              "  </tbody>\n",
              "</table>\n",
              "</div>"
            ],
            "text/plain": [
              "               Age  DistanceFromHome  ...  YearsWithCurrManager  YearsAtCompany\n",
              "count  4410.000000       4410.000000  ...           4410.000000     4410.000000\n",
              "mean     36.923810          9.192517  ...              4.123129        7.008163\n",
              "std       9.133301          8.105026  ...              3.567327        6.125135\n",
              "min      18.000000          1.000000  ...              0.000000        0.000000\n",
              "25%      30.000000          2.000000  ...              2.000000        3.000000\n",
              "50%      36.000000          7.000000  ...              3.000000        5.000000\n",
              "75%      43.000000         14.000000  ...              7.000000        9.000000\n",
              "max      60.000000         29.000000  ...             17.000000       40.000000\n",
              "\n",
              "[8 rows x 11 columns]"
            ]
          },
          "metadata": {
            "tags": []
          },
          "execution_count": 55
        }
      ]
    },
    {
      "cell_type": "code",
      "metadata": {
        "id": "yKinPMzFcZ_y",
        "colab_type": "code",
        "colab": {
          "base_uri": "https://localhost:8080/",
          "height": 580
        },
        "outputId": "2ad49345-f503-4c80-d84d-86120a76ed32"
      },
      "source": [
        "dataset"
      ],
      "execution_count": 56,
      "outputs": [
        {
          "output_type": "execute_result",
          "data": {
            "text/html": [
              "<div>\n",
              "<style scoped>\n",
              "    .dataframe tbody tr th:only-of-type {\n",
              "        vertical-align: middle;\n",
              "    }\n",
              "\n",
              "    .dataframe tbody tr th {\n",
              "        vertical-align: top;\n",
              "    }\n",
              "\n",
              "    .dataframe thead th {\n",
              "        text-align: right;\n",
              "    }\n",
              "</style>\n",
              "<table border=\"1\" class=\"dataframe\">\n",
              "  <thead>\n",
              "    <tr style=\"text-align: right;\">\n",
              "      <th></th>\n",
              "      <th>Age</th>\n",
              "      <th>Attrition</th>\n",
              "      <th>BusinessTravel</th>\n",
              "      <th>Department</th>\n",
              "      <th>DistanceFromHome</th>\n",
              "      <th>Education</th>\n",
              "      <th>EducationField</th>\n",
              "      <th>EmployeeCount</th>\n",
              "      <th>EmployeeID</th>\n",
              "      <th>Gender</th>\n",
              "      <th>JobLevel</th>\n",
              "      <th>JobRole</th>\n",
              "      <th>MaritalStatus</th>\n",
              "      <th>MonthlyIncome</th>\n",
              "      <th>NumCompaniesWorked</th>\n",
              "      <th>Over18</th>\n",
              "      <th>PercentSalaryHike</th>\n",
              "      <th>StandardHours</th>\n",
              "      <th>StockOptionLevel</th>\n",
              "      <th>TotalWorkingYears</th>\n",
              "      <th>TrainingTimesLastYear</th>\n",
              "      <th>YearsAtCompany</th>\n",
              "      <th>YearsSinceLastPromotion</th>\n",
              "      <th>YearsWithCurrManager</th>\n",
              "    </tr>\n",
              "  </thead>\n",
              "  <tbody>\n",
              "    <tr>\n",
              "      <th>0</th>\n",
              "      <td>51</td>\n",
              "      <td>No</td>\n",
              "      <td>Travel_Rarely</td>\n",
              "      <td>Sales</td>\n",
              "      <td>6</td>\n",
              "      <td>2</td>\n",
              "      <td>Life Sciences</td>\n",
              "      <td>1</td>\n",
              "      <td>1</td>\n",
              "      <td>Female</td>\n",
              "      <td>1</td>\n",
              "      <td>Healthcare Representative</td>\n",
              "      <td>Married</td>\n",
              "      <td>131160</td>\n",
              "      <td>1.0</td>\n",
              "      <td>Y</td>\n",
              "      <td>11</td>\n",
              "      <td>8</td>\n",
              "      <td>0</td>\n",
              "      <td>1.0</td>\n",
              "      <td>6</td>\n",
              "      <td>1</td>\n",
              "      <td>0</td>\n",
              "      <td>0</td>\n",
              "    </tr>\n",
              "    <tr>\n",
              "      <th>1</th>\n",
              "      <td>31</td>\n",
              "      <td>Yes</td>\n",
              "      <td>Travel_Frequently</td>\n",
              "      <td>Research &amp; Development</td>\n",
              "      <td>10</td>\n",
              "      <td>1</td>\n",
              "      <td>Life Sciences</td>\n",
              "      <td>1</td>\n",
              "      <td>2</td>\n",
              "      <td>Female</td>\n",
              "      <td>1</td>\n",
              "      <td>Research Scientist</td>\n",
              "      <td>Single</td>\n",
              "      <td>41890</td>\n",
              "      <td>0.0</td>\n",
              "      <td>Y</td>\n",
              "      <td>23</td>\n",
              "      <td>8</td>\n",
              "      <td>1</td>\n",
              "      <td>6.0</td>\n",
              "      <td>3</td>\n",
              "      <td>5</td>\n",
              "      <td>1</td>\n",
              "      <td>4</td>\n",
              "    </tr>\n",
              "    <tr>\n",
              "      <th>2</th>\n",
              "      <td>32</td>\n",
              "      <td>No</td>\n",
              "      <td>Travel_Frequently</td>\n",
              "      <td>Research &amp; Development</td>\n",
              "      <td>17</td>\n",
              "      <td>4</td>\n",
              "      <td>Other</td>\n",
              "      <td>1</td>\n",
              "      <td>3</td>\n",
              "      <td>Male</td>\n",
              "      <td>4</td>\n",
              "      <td>Sales Executive</td>\n",
              "      <td>Married</td>\n",
              "      <td>193280</td>\n",
              "      <td>1.0</td>\n",
              "      <td>Y</td>\n",
              "      <td>15</td>\n",
              "      <td>8</td>\n",
              "      <td>3</td>\n",
              "      <td>5.0</td>\n",
              "      <td>2</td>\n",
              "      <td>5</td>\n",
              "      <td>0</td>\n",
              "      <td>3</td>\n",
              "    </tr>\n",
              "    <tr>\n",
              "      <th>3</th>\n",
              "      <td>38</td>\n",
              "      <td>No</td>\n",
              "      <td>Non-Travel</td>\n",
              "      <td>Research &amp; Development</td>\n",
              "      <td>2</td>\n",
              "      <td>5</td>\n",
              "      <td>Life Sciences</td>\n",
              "      <td>1</td>\n",
              "      <td>4</td>\n",
              "      <td>Male</td>\n",
              "      <td>3</td>\n",
              "      <td>Human Resources</td>\n",
              "      <td>Married</td>\n",
              "      <td>83210</td>\n",
              "      <td>3.0</td>\n",
              "      <td>Y</td>\n",
              "      <td>11</td>\n",
              "      <td>8</td>\n",
              "      <td>3</td>\n",
              "      <td>13.0</td>\n",
              "      <td>5</td>\n",
              "      <td>8</td>\n",
              "      <td>7</td>\n",
              "      <td>5</td>\n",
              "    </tr>\n",
              "    <tr>\n",
              "      <th>4</th>\n",
              "      <td>32</td>\n",
              "      <td>No</td>\n",
              "      <td>Travel_Rarely</td>\n",
              "      <td>Research &amp; Development</td>\n",
              "      <td>10</td>\n",
              "      <td>1</td>\n",
              "      <td>Medical</td>\n",
              "      <td>1</td>\n",
              "      <td>5</td>\n",
              "      <td>Male</td>\n",
              "      <td>1</td>\n",
              "      <td>Sales Executive</td>\n",
              "      <td>Single</td>\n",
              "      <td>23420</td>\n",
              "      <td>4.0</td>\n",
              "      <td>Y</td>\n",
              "      <td>12</td>\n",
              "      <td>8</td>\n",
              "      <td>2</td>\n",
              "      <td>9.0</td>\n",
              "      <td>2</td>\n",
              "      <td>6</td>\n",
              "      <td>0</td>\n",
              "      <td>4</td>\n",
              "    </tr>\n",
              "    <tr>\n",
              "      <th>...</th>\n",
              "      <td>...</td>\n",
              "      <td>...</td>\n",
              "      <td>...</td>\n",
              "      <td>...</td>\n",
              "      <td>...</td>\n",
              "      <td>...</td>\n",
              "      <td>...</td>\n",
              "      <td>...</td>\n",
              "      <td>...</td>\n",
              "      <td>...</td>\n",
              "      <td>...</td>\n",
              "      <td>...</td>\n",
              "      <td>...</td>\n",
              "      <td>...</td>\n",
              "      <td>...</td>\n",
              "      <td>...</td>\n",
              "      <td>...</td>\n",
              "      <td>...</td>\n",
              "      <td>...</td>\n",
              "      <td>...</td>\n",
              "      <td>...</td>\n",
              "      <td>...</td>\n",
              "      <td>...</td>\n",
              "      <td>...</td>\n",
              "    </tr>\n",
              "    <tr>\n",
              "      <th>4405</th>\n",
              "      <td>42</td>\n",
              "      <td>No</td>\n",
              "      <td>Travel_Rarely</td>\n",
              "      <td>Research &amp; Development</td>\n",
              "      <td>5</td>\n",
              "      <td>4</td>\n",
              "      <td>Medical</td>\n",
              "      <td>1</td>\n",
              "      <td>4406</td>\n",
              "      <td>Female</td>\n",
              "      <td>1</td>\n",
              "      <td>Research Scientist</td>\n",
              "      <td>Single</td>\n",
              "      <td>60290</td>\n",
              "      <td>3.0</td>\n",
              "      <td>Y</td>\n",
              "      <td>17</td>\n",
              "      <td>8</td>\n",
              "      <td>1</td>\n",
              "      <td>10.0</td>\n",
              "      <td>5</td>\n",
              "      <td>3</td>\n",
              "      <td>0</td>\n",
              "      <td>2</td>\n",
              "    </tr>\n",
              "    <tr>\n",
              "      <th>4406</th>\n",
              "      <td>29</td>\n",
              "      <td>No</td>\n",
              "      <td>Travel_Rarely</td>\n",
              "      <td>Research &amp; Development</td>\n",
              "      <td>2</td>\n",
              "      <td>4</td>\n",
              "      <td>Medical</td>\n",
              "      <td>1</td>\n",
              "      <td>4407</td>\n",
              "      <td>Male</td>\n",
              "      <td>1</td>\n",
              "      <td>Laboratory Technician</td>\n",
              "      <td>Divorced</td>\n",
              "      <td>26790</td>\n",
              "      <td>2.0</td>\n",
              "      <td>Y</td>\n",
              "      <td>15</td>\n",
              "      <td>8</td>\n",
              "      <td>0</td>\n",
              "      <td>10.0</td>\n",
              "      <td>2</td>\n",
              "      <td>3</td>\n",
              "      <td>0</td>\n",
              "      <td>2</td>\n",
              "    </tr>\n",
              "    <tr>\n",
              "      <th>4407</th>\n",
              "      <td>25</td>\n",
              "      <td>No</td>\n",
              "      <td>Travel_Rarely</td>\n",
              "      <td>Research &amp; Development</td>\n",
              "      <td>25</td>\n",
              "      <td>2</td>\n",
              "      <td>Life Sciences</td>\n",
              "      <td>1</td>\n",
              "      <td>4408</td>\n",
              "      <td>Male</td>\n",
              "      <td>2</td>\n",
              "      <td>Sales Executive</td>\n",
              "      <td>Married</td>\n",
              "      <td>37020</td>\n",
              "      <td>0.0</td>\n",
              "      <td>Y</td>\n",
              "      <td>20</td>\n",
              "      <td>8</td>\n",
              "      <td>0</td>\n",
              "      <td>5.0</td>\n",
              "      <td>4</td>\n",
              "      <td>4</td>\n",
              "      <td>1</td>\n",
              "      <td>2</td>\n",
              "    </tr>\n",
              "    <tr>\n",
              "      <th>4408</th>\n",
              "      <td>42</td>\n",
              "      <td>No</td>\n",
              "      <td>Travel_Rarely</td>\n",
              "      <td>Sales</td>\n",
              "      <td>18</td>\n",
              "      <td>2</td>\n",
              "      <td>Medical</td>\n",
              "      <td>1</td>\n",
              "      <td>4409</td>\n",
              "      <td>Male</td>\n",
              "      <td>1</td>\n",
              "      <td>Laboratory Technician</td>\n",
              "      <td>Divorced</td>\n",
              "      <td>23980</td>\n",
              "      <td>0.0</td>\n",
              "      <td>Y</td>\n",
              "      <td>14</td>\n",
              "      <td>8</td>\n",
              "      <td>1</td>\n",
              "      <td>10.0</td>\n",
              "      <td>2</td>\n",
              "      <td>9</td>\n",
              "      <td>7</td>\n",
              "      <td>8</td>\n",
              "    </tr>\n",
              "    <tr>\n",
              "      <th>4409</th>\n",
              "      <td>40</td>\n",
              "      <td>No</td>\n",
              "      <td>Travel_Rarely</td>\n",
              "      <td>Research &amp; Development</td>\n",
              "      <td>28</td>\n",
              "      <td>3</td>\n",
              "      <td>Medical</td>\n",
              "      <td>1</td>\n",
              "      <td>4410</td>\n",
              "      <td>Male</td>\n",
              "      <td>2</td>\n",
              "      <td>Laboratory Technician</td>\n",
              "      <td>Divorced</td>\n",
              "      <td>54680</td>\n",
              "      <td>0.0</td>\n",
              "      <td>Y</td>\n",
              "      <td>12</td>\n",
              "      <td>8</td>\n",
              "      <td>0</td>\n",
              "      <td>NaN</td>\n",
              "      <td>6</td>\n",
              "      <td>21</td>\n",
              "      <td>3</td>\n",
              "      <td>9</td>\n",
              "    </tr>\n",
              "  </tbody>\n",
              "</table>\n",
              "<p>4410 rows × 24 columns</p>\n",
              "</div>"
            ],
            "text/plain": [
              "      Age Attrition  ... YearsSinceLastPromotion YearsWithCurrManager\n",
              "0      51        No  ...                       0                    0\n",
              "1      31       Yes  ...                       1                    4\n",
              "2      32        No  ...                       0                    3\n",
              "3      38        No  ...                       7                    5\n",
              "4      32        No  ...                       0                    4\n",
              "...   ...       ...  ...                     ...                  ...\n",
              "4405   42        No  ...                       0                    2\n",
              "4406   29        No  ...                       0                    2\n",
              "4407   25        No  ...                       1                    2\n",
              "4408   42        No  ...                       7                    8\n",
              "4409   40        No  ...                       3                    9\n",
              "\n",
              "[4410 rows x 24 columns]"
            ]
          },
          "metadata": {
            "tags": []
          },
          "execution_count": 56
        }
      ]
    },
    {
      "cell_type": "code",
      "metadata": {
        "id": "uCMXpSwad0ma",
        "colab_type": "code",
        "colab": {
          "base_uri": "https://localhost:8080/",
          "height": 252
        },
        "outputId": "54125aa9-9365-47b1-c159-9c19455fd286"
      },
      "source": [
        "dataset.drop_duplicates\n",
        "dataset.dropna"
      ],
      "execution_count": 57,
      "outputs": [
        {
          "output_type": "execute_result",
          "data": {
            "text/plain": [
              "<bound method DataFrame.dropna of       Age Attrition  ... YearsSinceLastPromotion YearsWithCurrManager\n",
              "0      51        No  ...                       0                    0\n",
              "1      31       Yes  ...                       1                    4\n",
              "2      32        No  ...                       0                    3\n",
              "3      38        No  ...                       7                    5\n",
              "4      32        No  ...                       0                    4\n",
              "...   ...       ...  ...                     ...                  ...\n",
              "4405   42        No  ...                       0                    2\n",
              "4406   29        No  ...                       0                    2\n",
              "4407   25        No  ...                       1                    2\n",
              "4408   42        No  ...                       7                    8\n",
              "4409   40        No  ...                       3                    9\n",
              "\n",
              "[4410 rows x 24 columns]>"
            ]
          },
          "metadata": {
            "tags": []
          },
          "execution_count": 57
        }
      ]
    },
    {
      "cell_type": "code",
      "metadata": {
        "id": "irJq3Wp6cduA",
        "colab_type": "code",
        "colab": {
          "base_uri": "https://localhost:8080/",
          "height": 537
        },
        "outputId": "38c59125-eb57-4c15-b936-90858a61d16e"
      },
      "source": [
        "dataset.info()"
      ],
      "execution_count": 58,
      "outputs": [
        {
          "output_type": "stream",
          "text": [
            "<class 'pandas.core.frame.DataFrame'>\n",
            "RangeIndex: 4410 entries, 0 to 4409\n",
            "Data columns (total 24 columns):\n",
            " #   Column                   Non-Null Count  Dtype  \n",
            "---  ------                   --------------  -----  \n",
            " 0   Age                      4410 non-null   int64  \n",
            " 1   Attrition                4410 non-null   object \n",
            " 2   BusinessTravel           4410 non-null   object \n",
            " 3   Department               4410 non-null   object \n",
            " 4   DistanceFromHome         4410 non-null   int64  \n",
            " 5   Education                4410 non-null   int64  \n",
            " 6   EducationField           4410 non-null   object \n",
            " 7   EmployeeCount            4410 non-null   int64  \n",
            " 8   EmployeeID               4410 non-null   int64  \n",
            " 9   Gender                   4410 non-null   object \n",
            " 10  JobLevel                 4410 non-null   int64  \n",
            " 11  JobRole                  4410 non-null   object \n",
            " 12  MaritalStatus            4410 non-null   object \n",
            " 13  MonthlyIncome            4410 non-null   int64  \n",
            " 14  NumCompaniesWorked       4391 non-null   float64\n",
            " 15  Over18                   4410 non-null   object \n",
            " 16  PercentSalaryHike        4410 non-null   int64  \n",
            " 17  StandardHours            4410 non-null   int64  \n",
            " 18  StockOptionLevel         4410 non-null   int64  \n",
            " 19  TotalWorkingYears        4401 non-null   float64\n",
            " 20  TrainingTimesLastYear    4410 non-null   int64  \n",
            " 21  YearsAtCompany           4410 non-null   int64  \n",
            " 22  YearsSinceLastPromotion  4410 non-null   int64  \n",
            " 23  YearsWithCurrManager     4410 non-null   int64  \n",
            "dtypes: float64(2), int64(14), object(8)\n",
            "memory usage: 827.0+ KB\n"
          ],
          "name": "stdout"
        }
      ]
    },
    {
      "cell_type": "code",
      "metadata": {
        "id": "J7_ZNgTWdEVx",
        "colab_type": "code",
        "colab": {
          "base_uri": "https://localhost:8080/",
          "height": 580
        },
        "outputId": "b6ab4b9d-06e0-4230-f73d-474086cc82ab"
      },
      "source": [
        "dataset.drop_duplicates()"
      ],
      "execution_count": 59,
      "outputs": [
        {
          "output_type": "execute_result",
          "data": {
            "text/html": [
              "<div>\n",
              "<style scoped>\n",
              "    .dataframe tbody tr th:only-of-type {\n",
              "        vertical-align: middle;\n",
              "    }\n",
              "\n",
              "    .dataframe tbody tr th {\n",
              "        vertical-align: top;\n",
              "    }\n",
              "\n",
              "    .dataframe thead th {\n",
              "        text-align: right;\n",
              "    }\n",
              "</style>\n",
              "<table border=\"1\" class=\"dataframe\">\n",
              "  <thead>\n",
              "    <tr style=\"text-align: right;\">\n",
              "      <th></th>\n",
              "      <th>Age</th>\n",
              "      <th>Attrition</th>\n",
              "      <th>BusinessTravel</th>\n",
              "      <th>Department</th>\n",
              "      <th>DistanceFromHome</th>\n",
              "      <th>Education</th>\n",
              "      <th>EducationField</th>\n",
              "      <th>EmployeeCount</th>\n",
              "      <th>EmployeeID</th>\n",
              "      <th>Gender</th>\n",
              "      <th>JobLevel</th>\n",
              "      <th>JobRole</th>\n",
              "      <th>MaritalStatus</th>\n",
              "      <th>MonthlyIncome</th>\n",
              "      <th>NumCompaniesWorked</th>\n",
              "      <th>Over18</th>\n",
              "      <th>PercentSalaryHike</th>\n",
              "      <th>StandardHours</th>\n",
              "      <th>StockOptionLevel</th>\n",
              "      <th>TotalWorkingYears</th>\n",
              "      <th>TrainingTimesLastYear</th>\n",
              "      <th>YearsAtCompany</th>\n",
              "      <th>YearsSinceLastPromotion</th>\n",
              "      <th>YearsWithCurrManager</th>\n",
              "    </tr>\n",
              "  </thead>\n",
              "  <tbody>\n",
              "    <tr>\n",
              "      <th>0</th>\n",
              "      <td>51</td>\n",
              "      <td>No</td>\n",
              "      <td>Travel_Rarely</td>\n",
              "      <td>Sales</td>\n",
              "      <td>6</td>\n",
              "      <td>2</td>\n",
              "      <td>Life Sciences</td>\n",
              "      <td>1</td>\n",
              "      <td>1</td>\n",
              "      <td>Female</td>\n",
              "      <td>1</td>\n",
              "      <td>Healthcare Representative</td>\n",
              "      <td>Married</td>\n",
              "      <td>131160</td>\n",
              "      <td>1.0</td>\n",
              "      <td>Y</td>\n",
              "      <td>11</td>\n",
              "      <td>8</td>\n",
              "      <td>0</td>\n",
              "      <td>1.0</td>\n",
              "      <td>6</td>\n",
              "      <td>1</td>\n",
              "      <td>0</td>\n",
              "      <td>0</td>\n",
              "    </tr>\n",
              "    <tr>\n",
              "      <th>1</th>\n",
              "      <td>31</td>\n",
              "      <td>Yes</td>\n",
              "      <td>Travel_Frequently</td>\n",
              "      <td>Research &amp; Development</td>\n",
              "      <td>10</td>\n",
              "      <td>1</td>\n",
              "      <td>Life Sciences</td>\n",
              "      <td>1</td>\n",
              "      <td>2</td>\n",
              "      <td>Female</td>\n",
              "      <td>1</td>\n",
              "      <td>Research Scientist</td>\n",
              "      <td>Single</td>\n",
              "      <td>41890</td>\n",
              "      <td>0.0</td>\n",
              "      <td>Y</td>\n",
              "      <td>23</td>\n",
              "      <td>8</td>\n",
              "      <td>1</td>\n",
              "      <td>6.0</td>\n",
              "      <td>3</td>\n",
              "      <td>5</td>\n",
              "      <td>1</td>\n",
              "      <td>4</td>\n",
              "    </tr>\n",
              "    <tr>\n",
              "      <th>2</th>\n",
              "      <td>32</td>\n",
              "      <td>No</td>\n",
              "      <td>Travel_Frequently</td>\n",
              "      <td>Research &amp; Development</td>\n",
              "      <td>17</td>\n",
              "      <td>4</td>\n",
              "      <td>Other</td>\n",
              "      <td>1</td>\n",
              "      <td>3</td>\n",
              "      <td>Male</td>\n",
              "      <td>4</td>\n",
              "      <td>Sales Executive</td>\n",
              "      <td>Married</td>\n",
              "      <td>193280</td>\n",
              "      <td>1.0</td>\n",
              "      <td>Y</td>\n",
              "      <td>15</td>\n",
              "      <td>8</td>\n",
              "      <td>3</td>\n",
              "      <td>5.0</td>\n",
              "      <td>2</td>\n",
              "      <td>5</td>\n",
              "      <td>0</td>\n",
              "      <td>3</td>\n",
              "    </tr>\n",
              "    <tr>\n",
              "      <th>3</th>\n",
              "      <td>38</td>\n",
              "      <td>No</td>\n",
              "      <td>Non-Travel</td>\n",
              "      <td>Research &amp; Development</td>\n",
              "      <td>2</td>\n",
              "      <td>5</td>\n",
              "      <td>Life Sciences</td>\n",
              "      <td>1</td>\n",
              "      <td>4</td>\n",
              "      <td>Male</td>\n",
              "      <td>3</td>\n",
              "      <td>Human Resources</td>\n",
              "      <td>Married</td>\n",
              "      <td>83210</td>\n",
              "      <td>3.0</td>\n",
              "      <td>Y</td>\n",
              "      <td>11</td>\n",
              "      <td>8</td>\n",
              "      <td>3</td>\n",
              "      <td>13.0</td>\n",
              "      <td>5</td>\n",
              "      <td>8</td>\n",
              "      <td>7</td>\n",
              "      <td>5</td>\n",
              "    </tr>\n",
              "    <tr>\n",
              "      <th>4</th>\n",
              "      <td>32</td>\n",
              "      <td>No</td>\n",
              "      <td>Travel_Rarely</td>\n",
              "      <td>Research &amp; Development</td>\n",
              "      <td>10</td>\n",
              "      <td>1</td>\n",
              "      <td>Medical</td>\n",
              "      <td>1</td>\n",
              "      <td>5</td>\n",
              "      <td>Male</td>\n",
              "      <td>1</td>\n",
              "      <td>Sales Executive</td>\n",
              "      <td>Single</td>\n",
              "      <td>23420</td>\n",
              "      <td>4.0</td>\n",
              "      <td>Y</td>\n",
              "      <td>12</td>\n",
              "      <td>8</td>\n",
              "      <td>2</td>\n",
              "      <td>9.0</td>\n",
              "      <td>2</td>\n",
              "      <td>6</td>\n",
              "      <td>0</td>\n",
              "      <td>4</td>\n",
              "    </tr>\n",
              "    <tr>\n",
              "      <th>...</th>\n",
              "      <td>...</td>\n",
              "      <td>...</td>\n",
              "      <td>...</td>\n",
              "      <td>...</td>\n",
              "      <td>...</td>\n",
              "      <td>...</td>\n",
              "      <td>...</td>\n",
              "      <td>...</td>\n",
              "      <td>...</td>\n",
              "      <td>...</td>\n",
              "      <td>...</td>\n",
              "      <td>...</td>\n",
              "      <td>...</td>\n",
              "      <td>...</td>\n",
              "      <td>...</td>\n",
              "      <td>...</td>\n",
              "      <td>...</td>\n",
              "      <td>...</td>\n",
              "      <td>...</td>\n",
              "      <td>...</td>\n",
              "      <td>...</td>\n",
              "      <td>...</td>\n",
              "      <td>...</td>\n",
              "      <td>...</td>\n",
              "    </tr>\n",
              "    <tr>\n",
              "      <th>4405</th>\n",
              "      <td>42</td>\n",
              "      <td>No</td>\n",
              "      <td>Travel_Rarely</td>\n",
              "      <td>Research &amp; Development</td>\n",
              "      <td>5</td>\n",
              "      <td>4</td>\n",
              "      <td>Medical</td>\n",
              "      <td>1</td>\n",
              "      <td>4406</td>\n",
              "      <td>Female</td>\n",
              "      <td>1</td>\n",
              "      <td>Research Scientist</td>\n",
              "      <td>Single</td>\n",
              "      <td>60290</td>\n",
              "      <td>3.0</td>\n",
              "      <td>Y</td>\n",
              "      <td>17</td>\n",
              "      <td>8</td>\n",
              "      <td>1</td>\n",
              "      <td>10.0</td>\n",
              "      <td>5</td>\n",
              "      <td>3</td>\n",
              "      <td>0</td>\n",
              "      <td>2</td>\n",
              "    </tr>\n",
              "    <tr>\n",
              "      <th>4406</th>\n",
              "      <td>29</td>\n",
              "      <td>No</td>\n",
              "      <td>Travel_Rarely</td>\n",
              "      <td>Research &amp; Development</td>\n",
              "      <td>2</td>\n",
              "      <td>4</td>\n",
              "      <td>Medical</td>\n",
              "      <td>1</td>\n",
              "      <td>4407</td>\n",
              "      <td>Male</td>\n",
              "      <td>1</td>\n",
              "      <td>Laboratory Technician</td>\n",
              "      <td>Divorced</td>\n",
              "      <td>26790</td>\n",
              "      <td>2.0</td>\n",
              "      <td>Y</td>\n",
              "      <td>15</td>\n",
              "      <td>8</td>\n",
              "      <td>0</td>\n",
              "      <td>10.0</td>\n",
              "      <td>2</td>\n",
              "      <td>3</td>\n",
              "      <td>0</td>\n",
              "      <td>2</td>\n",
              "    </tr>\n",
              "    <tr>\n",
              "      <th>4407</th>\n",
              "      <td>25</td>\n",
              "      <td>No</td>\n",
              "      <td>Travel_Rarely</td>\n",
              "      <td>Research &amp; Development</td>\n",
              "      <td>25</td>\n",
              "      <td>2</td>\n",
              "      <td>Life Sciences</td>\n",
              "      <td>1</td>\n",
              "      <td>4408</td>\n",
              "      <td>Male</td>\n",
              "      <td>2</td>\n",
              "      <td>Sales Executive</td>\n",
              "      <td>Married</td>\n",
              "      <td>37020</td>\n",
              "      <td>0.0</td>\n",
              "      <td>Y</td>\n",
              "      <td>20</td>\n",
              "      <td>8</td>\n",
              "      <td>0</td>\n",
              "      <td>5.0</td>\n",
              "      <td>4</td>\n",
              "      <td>4</td>\n",
              "      <td>1</td>\n",
              "      <td>2</td>\n",
              "    </tr>\n",
              "    <tr>\n",
              "      <th>4408</th>\n",
              "      <td>42</td>\n",
              "      <td>No</td>\n",
              "      <td>Travel_Rarely</td>\n",
              "      <td>Sales</td>\n",
              "      <td>18</td>\n",
              "      <td>2</td>\n",
              "      <td>Medical</td>\n",
              "      <td>1</td>\n",
              "      <td>4409</td>\n",
              "      <td>Male</td>\n",
              "      <td>1</td>\n",
              "      <td>Laboratory Technician</td>\n",
              "      <td>Divorced</td>\n",
              "      <td>23980</td>\n",
              "      <td>0.0</td>\n",
              "      <td>Y</td>\n",
              "      <td>14</td>\n",
              "      <td>8</td>\n",
              "      <td>1</td>\n",
              "      <td>10.0</td>\n",
              "      <td>2</td>\n",
              "      <td>9</td>\n",
              "      <td>7</td>\n",
              "      <td>8</td>\n",
              "    </tr>\n",
              "    <tr>\n",
              "      <th>4409</th>\n",
              "      <td>40</td>\n",
              "      <td>No</td>\n",
              "      <td>Travel_Rarely</td>\n",
              "      <td>Research &amp; Development</td>\n",
              "      <td>28</td>\n",
              "      <td>3</td>\n",
              "      <td>Medical</td>\n",
              "      <td>1</td>\n",
              "      <td>4410</td>\n",
              "      <td>Male</td>\n",
              "      <td>2</td>\n",
              "      <td>Laboratory Technician</td>\n",
              "      <td>Divorced</td>\n",
              "      <td>54680</td>\n",
              "      <td>0.0</td>\n",
              "      <td>Y</td>\n",
              "      <td>12</td>\n",
              "      <td>8</td>\n",
              "      <td>0</td>\n",
              "      <td>NaN</td>\n",
              "      <td>6</td>\n",
              "      <td>21</td>\n",
              "      <td>3</td>\n",
              "      <td>9</td>\n",
              "    </tr>\n",
              "  </tbody>\n",
              "</table>\n",
              "<p>4410 rows × 24 columns</p>\n",
              "</div>"
            ],
            "text/plain": [
              "      Age Attrition  ... YearsSinceLastPromotion YearsWithCurrManager\n",
              "0      51        No  ...                       0                    0\n",
              "1      31       Yes  ...                       1                    4\n",
              "2      32        No  ...                       0                    3\n",
              "3      38        No  ...                       7                    5\n",
              "4      32        No  ...                       0                    4\n",
              "...   ...       ...  ...                     ...                  ...\n",
              "4405   42        No  ...                       0                    2\n",
              "4406   29        No  ...                       0                    2\n",
              "4407   25        No  ...                       1                    2\n",
              "4408   42        No  ...                       7                    8\n",
              "4409   40        No  ...                       3                    9\n",
              "\n",
              "[4410 rows x 24 columns]"
            ]
          },
          "metadata": {
            "tags": []
          },
          "execution_count": 59
        }
      ]
    },
    {
      "cell_type": "markdown",
      "metadata": {
        "id": "WWlXhWSgnhYd",
        "colab_type": "text"
      },
      "source": [
        "### Summary of above data store in Dataframe: <br> \n",
        "Variables : <br>\n",
        "**Continous**: (Int and Float datatypes) <br>\n",
        " Ex: Age, DistanceFromHome, MonthlyIncome, NumCompaniesWorked, PercentSalaryHike, StandardHours, StockOptionLevel,TotalWorkingYears, TrainingTimesLastYear, YearsAtCompany YearsSinceLastPromotion, YearsWithCurrManager <br>\n",
        "**Categorical**:<br>\n",
        " Ex: Attrition, BusinessTravel, Department,EducationField , Gender, JobRole\n",
        "### Continous variables : Age, MonthlyIncome, YearsAtCompany are selected for assessment"
      ]
    },
    {
      "cell_type": "markdown",
      "metadata": {
        "id": "ZAFfNAvUgFyc",
        "colab_type": "text"
      },
      "source": [
        "## **Measures of Central tendency & Measures of Dispersion:**"
      ]
    },
    {
      "cell_type": "code",
      "metadata": {
        "id": "q5Lskb6WhK3b",
        "colab_type": "code",
        "colab": {
          "base_uri": "https://localhost:8080/",
          "height": 302
        },
        "outputId": "63eb935b-3752-49cf-f4bf-7a08083d423c"
      },
      "source": [
        "# Mean of each variables in Dataframe\n",
        "dataset.mean()"
      ],
      "execution_count": 60,
      "outputs": [
        {
          "output_type": "execute_result",
          "data": {
            "text/plain": [
              "Age                           36.923810\n",
              "DistanceFromHome               9.192517\n",
              "Education                      2.912925\n",
              "EmployeeCount                  1.000000\n",
              "EmployeeID                  2205.500000\n",
              "JobLevel                       2.063946\n",
              "MonthlyIncome              65029.312925\n",
              "NumCompaniesWorked             2.694830\n",
              "PercentSalaryHike             15.209524\n",
              "StandardHours                  8.000000\n",
              "StockOptionLevel               0.793878\n",
              "TotalWorkingYears             11.279936\n",
              "TrainingTimesLastYear          2.799320\n",
              "YearsAtCompany                 7.008163\n",
              "YearsSinceLastPromotion        2.187755\n",
              "YearsWithCurrManager           4.123129\n",
              "dtype: float64"
            ]
          },
          "metadata": {
            "tags": []
          },
          "execution_count": 60
        }
      ]
    },
    {
      "cell_type": "code",
      "metadata": {
        "id": "LKM_wfNsv4Ik",
        "colab_type": "code",
        "colab": {
          "base_uri": "https://localhost:8080/",
          "height": 302
        },
        "outputId": "92e6fe66-fe83-43be-d8a3-66e76986d3f2"
      },
      "source": [
        "# Median of each variables in Dataframe\n",
        "dataset.median()"
      ],
      "execution_count": 61,
      "outputs": [
        {
          "output_type": "execute_result",
          "data": {
            "text/plain": [
              "Age                           36.0\n",
              "DistanceFromHome               7.0\n",
              "Education                      3.0\n",
              "EmployeeCount                  1.0\n",
              "EmployeeID                  2205.5\n",
              "JobLevel                       2.0\n",
              "MonthlyIncome              49190.0\n",
              "NumCompaniesWorked             2.0\n",
              "PercentSalaryHike             14.0\n",
              "StandardHours                  8.0\n",
              "StockOptionLevel               1.0\n",
              "TotalWorkingYears             10.0\n",
              "TrainingTimesLastYear          3.0\n",
              "YearsAtCompany                 5.0\n",
              "YearsSinceLastPromotion        1.0\n",
              "YearsWithCurrManager           3.0\n",
              "dtype: float64"
            ]
          },
          "metadata": {
            "tags": []
          },
          "execution_count": 61
        }
      ]
    },
    {
      "cell_type": "code",
      "metadata": {
        "id": "tt6fb3Vewcuj",
        "colab_type": "code",
        "colab": {
          "base_uri": "https://localhost:8080/",
          "height": 429
        },
        "outputId": "4a32a497-3f62-46b5-aba4-01c0cc8c3675"
      },
      "source": [
        "# Mode of each variables in Dataframe\n",
        "dataset.mode()"
      ],
      "execution_count": 62,
      "outputs": [
        {
          "output_type": "execute_result",
          "data": {
            "text/html": [
              "<div>\n",
              "<style scoped>\n",
              "    .dataframe tbody tr th:only-of-type {\n",
              "        vertical-align: middle;\n",
              "    }\n",
              "\n",
              "    .dataframe tbody tr th {\n",
              "        vertical-align: top;\n",
              "    }\n",
              "\n",
              "    .dataframe thead th {\n",
              "        text-align: right;\n",
              "    }\n",
              "</style>\n",
              "<table border=\"1\" class=\"dataframe\">\n",
              "  <thead>\n",
              "    <tr style=\"text-align: right;\">\n",
              "      <th></th>\n",
              "      <th>Age</th>\n",
              "      <th>Attrition</th>\n",
              "      <th>BusinessTravel</th>\n",
              "      <th>Department</th>\n",
              "      <th>DistanceFromHome</th>\n",
              "      <th>Education</th>\n",
              "      <th>EducationField</th>\n",
              "      <th>EmployeeCount</th>\n",
              "      <th>EmployeeID</th>\n",
              "      <th>Gender</th>\n",
              "      <th>JobLevel</th>\n",
              "      <th>JobRole</th>\n",
              "      <th>MaritalStatus</th>\n",
              "      <th>MonthlyIncome</th>\n",
              "      <th>NumCompaniesWorked</th>\n",
              "      <th>Over18</th>\n",
              "      <th>PercentSalaryHike</th>\n",
              "      <th>StandardHours</th>\n",
              "      <th>StockOptionLevel</th>\n",
              "      <th>TotalWorkingYears</th>\n",
              "      <th>TrainingTimesLastYear</th>\n",
              "      <th>YearsAtCompany</th>\n",
              "      <th>YearsSinceLastPromotion</th>\n",
              "      <th>YearsWithCurrManager</th>\n",
              "    </tr>\n",
              "  </thead>\n",
              "  <tbody>\n",
              "    <tr>\n",
              "      <th>0</th>\n",
              "      <td>35.0</td>\n",
              "      <td>No</td>\n",
              "      <td>Travel_Rarely</td>\n",
              "      <td>Research &amp; Development</td>\n",
              "      <td>2.0</td>\n",
              "      <td>3.0</td>\n",
              "      <td>Life Sciences</td>\n",
              "      <td>1.0</td>\n",
              "      <td>1</td>\n",
              "      <td>Male</td>\n",
              "      <td>1.0</td>\n",
              "      <td>Sales Executive</td>\n",
              "      <td>Married</td>\n",
              "      <td>23420.0</td>\n",
              "      <td>1.0</td>\n",
              "      <td>Y</td>\n",
              "      <td>11.0</td>\n",
              "      <td>8.0</td>\n",
              "      <td>0.0</td>\n",
              "      <td>10.0</td>\n",
              "      <td>2.0</td>\n",
              "      <td>5.0</td>\n",
              "      <td>0.0</td>\n",
              "      <td>2.0</td>\n",
              "    </tr>\n",
              "    <tr>\n",
              "      <th>1</th>\n",
              "      <td>NaN</td>\n",
              "      <td>NaN</td>\n",
              "      <td>NaN</td>\n",
              "      <td>NaN</td>\n",
              "      <td>NaN</td>\n",
              "      <td>NaN</td>\n",
              "      <td>NaN</td>\n",
              "      <td>NaN</td>\n",
              "      <td>2</td>\n",
              "      <td>NaN</td>\n",
              "      <td>NaN</td>\n",
              "      <td>NaN</td>\n",
              "      <td>NaN</td>\n",
              "      <td>NaN</td>\n",
              "      <td>NaN</td>\n",
              "      <td>NaN</td>\n",
              "      <td>NaN</td>\n",
              "      <td>NaN</td>\n",
              "      <td>NaN</td>\n",
              "      <td>NaN</td>\n",
              "      <td>NaN</td>\n",
              "      <td>NaN</td>\n",
              "      <td>NaN</td>\n",
              "      <td>NaN</td>\n",
              "    </tr>\n",
              "    <tr>\n",
              "      <th>2</th>\n",
              "      <td>NaN</td>\n",
              "      <td>NaN</td>\n",
              "      <td>NaN</td>\n",
              "      <td>NaN</td>\n",
              "      <td>NaN</td>\n",
              "      <td>NaN</td>\n",
              "      <td>NaN</td>\n",
              "      <td>NaN</td>\n",
              "      <td>3</td>\n",
              "      <td>NaN</td>\n",
              "      <td>NaN</td>\n",
              "      <td>NaN</td>\n",
              "      <td>NaN</td>\n",
              "      <td>NaN</td>\n",
              "      <td>NaN</td>\n",
              "      <td>NaN</td>\n",
              "      <td>NaN</td>\n",
              "      <td>NaN</td>\n",
              "      <td>NaN</td>\n",
              "      <td>NaN</td>\n",
              "      <td>NaN</td>\n",
              "      <td>NaN</td>\n",
              "      <td>NaN</td>\n",
              "      <td>NaN</td>\n",
              "    </tr>\n",
              "    <tr>\n",
              "      <th>3</th>\n",
              "      <td>NaN</td>\n",
              "      <td>NaN</td>\n",
              "      <td>NaN</td>\n",
              "      <td>NaN</td>\n",
              "      <td>NaN</td>\n",
              "      <td>NaN</td>\n",
              "      <td>NaN</td>\n",
              "      <td>NaN</td>\n",
              "      <td>4</td>\n",
              "      <td>NaN</td>\n",
              "      <td>NaN</td>\n",
              "      <td>NaN</td>\n",
              "      <td>NaN</td>\n",
              "      <td>NaN</td>\n",
              "      <td>NaN</td>\n",
              "      <td>NaN</td>\n",
              "      <td>NaN</td>\n",
              "      <td>NaN</td>\n",
              "      <td>NaN</td>\n",
              "      <td>NaN</td>\n",
              "      <td>NaN</td>\n",
              "      <td>NaN</td>\n",
              "      <td>NaN</td>\n",
              "      <td>NaN</td>\n",
              "    </tr>\n",
              "    <tr>\n",
              "      <th>4</th>\n",
              "      <td>NaN</td>\n",
              "      <td>NaN</td>\n",
              "      <td>NaN</td>\n",
              "      <td>NaN</td>\n",
              "      <td>NaN</td>\n",
              "      <td>NaN</td>\n",
              "      <td>NaN</td>\n",
              "      <td>NaN</td>\n",
              "      <td>5</td>\n",
              "      <td>NaN</td>\n",
              "      <td>NaN</td>\n",
              "      <td>NaN</td>\n",
              "      <td>NaN</td>\n",
              "      <td>NaN</td>\n",
              "      <td>NaN</td>\n",
              "      <td>NaN</td>\n",
              "      <td>NaN</td>\n",
              "      <td>NaN</td>\n",
              "      <td>NaN</td>\n",
              "      <td>NaN</td>\n",
              "      <td>NaN</td>\n",
              "      <td>NaN</td>\n",
              "      <td>NaN</td>\n",
              "      <td>NaN</td>\n",
              "    </tr>\n",
              "    <tr>\n",
              "      <th>...</th>\n",
              "      <td>...</td>\n",
              "      <td>...</td>\n",
              "      <td>...</td>\n",
              "      <td>...</td>\n",
              "      <td>...</td>\n",
              "      <td>...</td>\n",
              "      <td>...</td>\n",
              "      <td>...</td>\n",
              "      <td>...</td>\n",
              "      <td>...</td>\n",
              "      <td>...</td>\n",
              "      <td>...</td>\n",
              "      <td>...</td>\n",
              "      <td>...</td>\n",
              "      <td>...</td>\n",
              "      <td>...</td>\n",
              "      <td>...</td>\n",
              "      <td>...</td>\n",
              "      <td>...</td>\n",
              "      <td>...</td>\n",
              "      <td>...</td>\n",
              "      <td>...</td>\n",
              "      <td>...</td>\n",
              "      <td>...</td>\n",
              "    </tr>\n",
              "    <tr>\n",
              "      <th>4405</th>\n",
              "      <td>NaN</td>\n",
              "      <td>NaN</td>\n",
              "      <td>NaN</td>\n",
              "      <td>NaN</td>\n",
              "      <td>NaN</td>\n",
              "      <td>NaN</td>\n",
              "      <td>NaN</td>\n",
              "      <td>NaN</td>\n",
              "      <td>4406</td>\n",
              "      <td>NaN</td>\n",
              "      <td>NaN</td>\n",
              "      <td>NaN</td>\n",
              "      <td>NaN</td>\n",
              "      <td>NaN</td>\n",
              "      <td>NaN</td>\n",
              "      <td>NaN</td>\n",
              "      <td>NaN</td>\n",
              "      <td>NaN</td>\n",
              "      <td>NaN</td>\n",
              "      <td>NaN</td>\n",
              "      <td>NaN</td>\n",
              "      <td>NaN</td>\n",
              "      <td>NaN</td>\n",
              "      <td>NaN</td>\n",
              "    </tr>\n",
              "    <tr>\n",
              "      <th>4406</th>\n",
              "      <td>NaN</td>\n",
              "      <td>NaN</td>\n",
              "      <td>NaN</td>\n",
              "      <td>NaN</td>\n",
              "      <td>NaN</td>\n",
              "      <td>NaN</td>\n",
              "      <td>NaN</td>\n",
              "      <td>NaN</td>\n",
              "      <td>4407</td>\n",
              "      <td>NaN</td>\n",
              "      <td>NaN</td>\n",
              "      <td>NaN</td>\n",
              "      <td>NaN</td>\n",
              "      <td>NaN</td>\n",
              "      <td>NaN</td>\n",
              "      <td>NaN</td>\n",
              "      <td>NaN</td>\n",
              "      <td>NaN</td>\n",
              "      <td>NaN</td>\n",
              "      <td>NaN</td>\n",
              "      <td>NaN</td>\n",
              "      <td>NaN</td>\n",
              "      <td>NaN</td>\n",
              "      <td>NaN</td>\n",
              "    </tr>\n",
              "    <tr>\n",
              "      <th>4407</th>\n",
              "      <td>NaN</td>\n",
              "      <td>NaN</td>\n",
              "      <td>NaN</td>\n",
              "      <td>NaN</td>\n",
              "      <td>NaN</td>\n",
              "      <td>NaN</td>\n",
              "      <td>NaN</td>\n",
              "      <td>NaN</td>\n",
              "      <td>4408</td>\n",
              "      <td>NaN</td>\n",
              "      <td>NaN</td>\n",
              "      <td>NaN</td>\n",
              "      <td>NaN</td>\n",
              "      <td>NaN</td>\n",
              "      <td>NaN</td>\n",
              "      <td>NaN</td>\n",
              "      <td>NaN</td>\n",
              "      <td>NaN</td>\n",
              "      <td>NaN</td>\n",
              "      <td>NaN</td>\n",
              "      <td>NaN</td>\n",
              "      <td>NaN</td>\n",
              "      <td>NaN</td>\n",
              "      <td>NaN</td>\n",
              "    </tr>\n",
              "    <tr>\n",
              "      <th>4408</th>\n",
              "      <td>NaN</td>\n",
              "      <td>NaN</td>\n",
              "      <td>NaN</td>\n",
              "      <td>NaN</td>\n",
              "      <td>NaN</td>\n",
              "      <td>NaN</td>\n",
              "      <td>NaN</td>\n",
              "      <td>NaN</td>\n",
              "      <td>4409</td>\n",
              "      <td>NaN</td>\n",
              "      <td>NaN</td>\n",
              "      <td>NaN</td>\n",
              "      <td>NaN</td>\n",
              "      <td>NaN</td>\n",
              "      <td>NaN</td>\n",
              "      <td>NaN</td>\n",
              "      <td>NaN</td>\n",
              "      <td>NaN</td>\n",
              "      <td>NaN</td>\n",
              "      <td>NaN</td>\n",
              "      <td>NaN</td>\n",
              "      <td>NaN</td>\n",
              "      <td>NaN</td>\n",
              "      <td>NaN</td>\n",
              "    </tr>\n",
              "    <tr>\n",
              "      <th>4409</th>\n",
              "      <td>NaN</td>\n",
              "      <td>NaN</td>\n",
              "      <td>NaN</td>\n",
              "      <td>NaN</td>\n",
              "      <td>NaN</td>\n",
              "      <td>NaN</td>\n",
              "      <td>NaN</td>\n",
              "      <td>NaN</td>\n",
              "      <td>4410</td>\n",
              "      <td>NaN</td>\n",
              "      <td>NaN</td>\n",
              "      <td>NaN</td>\n",
              "      <td>NaN</td>\n",
              "      <td>NaN</td>\n",
              "      <td>NaN</td>\n",
              "      <td>NaN</td>\n",
              "      <td>NaN</td>\n",
              "      <td>NaN</td>\n",
              "      <td>NaN</td>\n",
              "      <td>NaN</td>\n",
              "      <td>NaN</td>\n",
              "      <td>NaN</td>\n",
              "      <td>NaN</td>\n",
              "      <td>NaN</td>\n",
              "    </tr>\n",
              "  </tbody>\n",
              "</table>\n",
              "<p>4410 rows × 24 columns</p>\n",
              "</div>"
            ],
            "text/plain": [
              "       Age Attrition  ... YearsSinceLastPromotion YearsWithCurrManager\n",
              "0     35.0        No  ...                     0.0                  2.0\n",
              "1      NaN       NaN  ...                     NaN                  NaN\n",
              "2      NaN       NaN  ...                     NaN                  NaN\n",
              "3      NaN       NaN  ...                     NaN                  NaN\n",
              "4      NaN       NaN  ...                     NaN                  NaN\n",
              "...    ...       ...  ...                     ...                  ...\n",
              "4405   NaN       NaN  ...                     NaN                  NaN\n",
              "4406   NaN       NaN  ...                     NaN                  NaN\n",
              "4407   NaN       NaN  ...                     NaN                  NaN\n",
              "4408   NaN       NaN  ...                     NaN                  NaN\n",
              "4409   NaN       NaN  ...                     NaN                  NaN\n",
              "\n",
              "[4410 rows x 24 columns]"
            ]
          },
          "metadata": {
            "tags": []
          },
          "execution_count": 62
        }
      ]
    },
    {
      "cell_type": "markdown",
      "metadata": {
        "id": "iPWCx6wXwozU",
        "colab_type": "text"
      },
      "source": [
        "### Summary (**Description of Selected Variables**): "
      ]
    },
    {
      "cell_type": "code",
      "metadata": {
        "id": "QZ2w-u6sgaQQ",
        "colab_type": "code",
        "colab": {
          "base_uri": "https://localhost:8080/",
          "height": 277
        },
        "outputId": "723c4e8c-b0fb-46f2-c614-e032c70f7cb2"
      },
      "source": [
        "# Descripition of selected variables \n",
        "datasetb = dataset[['Age','MonthlyIncome','YearsAtCompany']].describe()\n",
        "datasetb"
      ],
      "execution_count": 63,
      "outputs": [
        {
          "output_type": "execute_result",
          "data": {
            "text/html": [
              "<div>\n",
              "<style scoped>\n",
              "    .dataframe tbody tr th:only-of-type {\n",
              "        vertical-align: middle;\n",
              "    }\n",
              "\n",
              "    .dataframe tbody tr th {\n",
              "        vertical-align: top;\n",
              "    }\n",
              "\n",
              "    .dataframe thead th {\n",
              "        text-align: right;\n",
              "    }\n",
              "</style>\n",
              "<table border=\"1\" class=\"dataframe\">\n",
              "  <thead>\n",
              "    <tr style=\"text-align: right;\">\n",
              "      <th></th>\n",
              "      <th>Age</th>\n",
              "      <th>MonthlyIncome</th>\n",
              "      <th>YearsAtCompany</th>\n",
              "    </tr>\n",
              "  </thead>\n",
              "  <tbody>\n",
              "    <tr>\n",
              "      <th>count</th>\n",
              "      <td>4410.000000</td>\n",
              "      <td>4410.000000</td>\n",
              "      <td>4410.000000</td>\n",
              "    </tr>\n",
              "    <tr>\n",
              "      <th>mean</th>\n",
              "      <td>36.923810</td>\n",
              "      <td>65029.312925</td>\n",
              "      <td>7.008163</td>\n",
              "    </tr>\n",
              "    <tr>\n",
              "      <th>std</th>\n",
              "      <td>9.133301</td>\n",
              "      <td>47068.888559</td>\n",
              "      <td>6.125135</td>\n",
              "    </tr>\n",
              "    <tr>\n",
              "      <th>min</th>\n",
              "      <td>18.000000</td>\n",
              "      <td>10090.000000</td>\n",
              "      <td>0.000000</td>\n",
              "    </tr>\n",
              "    <tr>\n",
              "      <th>25%</th>\n",
              "      <td>30.000000</td>\n",
              "      <td>29110.000000</td>\n",
              "      <td>3.000000</td>\n",
              "    </tr>\n",
              "    <tr>\n",
              "      <th>50%</th>\n",
              "      <td>36.000000</td>\n",
              "      <td>49190.000000</td>\n",
              "      <td>5.000000</td>\n",
              "    </tr>\n",
              "    <tr>\n",
              "      <th>75%</th>\n",
              "      <td>43.000000</td>\n",
              "      <td>83800.000000</td>\n",
              "      <td>9.000000</td>\n",
              "    </tr>\n",
              "    <tr>\n",
              "      <th>max</th>\n",
              "      <td>60.000000</td>\n",
              "      <td>199990.000000</td>\n",
              "      <td>40.000000</td>\n",
              "    </tr>\n",
              "  </tbody>\n",
              "</table>\n",
              "</div>"
            ],
            "text/plain": [
              "               Age  MonthlyIncome  YearsAtCompany\n",
              "count  4410.000000    4410.000000     4410.000000\n",
              "mean     36.923810   65029.312925        7.008163\n",
              "std       9.133301   47068.888559        6.125135\n",
              "min      18.000000   10090.000000        0.000000\n",
              "25%      30.000000   29110.000000        3.000000\n",
              "50%      36.000000   49190.000000        5.000000\n",
              "75%      43.000000   83800.000000        9.000000\n",
              "max      60.000000  199990.000000       40.000000"
            ]
          },
          "metadata": {
            "tags": []
          },
          "execution_count": 63
        }
      ]
    },
    {
      "cell_type": "markdown",
      "metadata": {
        "id": "gOGGIom8xXjq",
        "colab_type": "text"
      },
      "source": [
        "## Visualization :\n"
      ]
    },
    {
      "cell_type": "code",
      "metadata": {
        "id": "AbCDM1qeyRTo",
        "colab_type": "code",
        "colab": {}
      },
      "source": [
        "import matplotlib.pyplot as plt\n"
      ],
      "execution_count": 64,
      "outputs": []
    },
    {
      "cell_type": "code",
      "metadata": {
        "id": "EWs8d6i6xhI2",
        "colab_type": "code",
        "colab": {
          "base_uri": "https://localhost:8080/",
          "height": 399
        },
        "outputId": "9c76a493-d853-49fe-d475-de0cca53d7fb"
      },
      "source": [
        "box_plot = dataset.Age\n",
        "\n",
        "plt.boxplot(box_plot)"
      ],
      "execution_count": 65,
      "outputs": [
        {
          "output_type": "execute_result",
          "data": {
            "text/plain": [
              "{'boxes': [<matplotlib.lines.Line2D at 0x7f9577dbb860>],\n",
              " 'caps': [<matplotlib.lines.Line2D at 0x7f9577db02b0>,\n",
              "  <matplotlib.lines.Line2D at 0x7f9577db0630>],\n",
              " 'fliers': [<matplotlib.lines.Line2D at 0x7f9577db0d30>],\n",
              " 'means': [],\n",
              " 'medians': [<matplotlib.lines.Line2D at 0x7f9577db09b0>],\n",
              " 'whiskers': [<matplotlib.lines.Line2D at 0x7f9577dbbb70>,\n",
              "  <matplotlib.lines.Line2D at 0x7f9577dbbef0>]}"
            ]
          },
          "metadata": {
            "tags": []
          },
          "execution_count": 65
        },
        {
          "output_type": "display_data",
          "data": {
            "image/png": "[encoded data removed]",
            "text/plain": [
              "<Figure size 432x288 with 1 Axes>"
            ]
          },
          "metadata": {
            "tags": [],
            "needs_background": "light"
          }
        }
      ]
    },
    {
      "cell_type": "code",
      "metadata": {
        "id": "Ol1rRdkGzBIf",
        "colab_type": "code",
        "colab": {
          "base_uri": "https://localhost:8080/",
          "height": 399
        },
        "outputId": "c25a3d82-8397-47a4-c971-ba53ce26a80d"
      },
      "source": [
        "box_plot = dataset.MonthlyIncome\n",
        "\n",
        "plt.boxplot(box_plot)"
      ],
      "execution_count": 66,
      "outputs": [
        {
          "output_type": "execute_result",
          "data": {
            "text/plain": [
              "{'boxes': [<matplotlib.lines.Line2D at 0x7f9577e15278>],\n",
              " 'caps': [<matplotlib.lines.Line2D at 0x7f9577e15c88>,\n",
              "  <matplotlib.lines.Line2D at 0x7f9577d71048>],\n",
              " 'fliers': [<matplotlib.lines.Line2D at 0x7f9577d71748>],\n",
              " 'means': [],\n",
              " 'medians': [<matplotlib.lines.Line2D at 0x7f9577d713c8>],\n",
              " 'whiskers': [<matplotlib.lines.Line2D at 0x7f9577e15588>,\n",
              "  <matplotlib.lines.Line2D at 0x7f9577e15908>]}"
            ]
          },
          "metadata": {
            "tags": []
          },
          "execution_count": 66
        },
        {
          "output_type": "display_data",
          "data": {
            "image/png": "[encoded data removed]",
            "text/plain": [
              "<Figure size 432x288 with 1 Axes>"
            ]
          },
          "metadata": {
            "tags": [],
            "needs_background": "light"
          }
        }
      ]
    },
    {
      "cell_type": "code",
      "metadata": {
        "id": "vCtb-zgPzDqE",
        "colab_type": "code",
        "colab": {
          "base_uri": "https://localhost:8080/",
          "height": 399
        },
        "outputId": "952d4409-a612-46b6-ec64-9725fff5d1d7"
      },
      "source": [
        "box_plot=dataset.YearsAtCompany\n",
        "plt.boxplot(box_plot)"
      ],
      "execution_count": 67,
      "outputs": [
        {
          "output_type": "execute_result",
          "data": {
            "text/plain": [
              "{'boxes': [<matplotlib.lines.Line2D at 0x7f9577d41ba8>],\n",
              " 'caps': [<matplotlib.lines.Line2D at 0x7f9577d4e5f8>,\n",
              "  <matplotlib.lines.Line2D at 0x7f9577d4e978>],\n",
              " 'fliers': [<matplotlib.lines.Line2D at 0x7f9577d580b8>],\n",
              " 'means': [],\n",
              " 'medians': [<matplotlib.lines.Line2D at 0x7f9577d4ecf8>],\n",
              " 'whiskers': [<matplotlib.lines.Line2D at 0x7f9577d41eb8>,\n",
              "  <matplotlib.lines.Line2D at 0x7f9577d4e278>]}"
            ]
          },
          "metadata": {
            "tags": []
          },
          "execution_count": 67
        },
        {
          "output_type": "display_data",
          "data": {
            "image/png": "[encoded data removed]",
            "text/plain": [
              "<Figure size 432x288 with 1 Axes>"
            ]
          },
          "metadata": {
            "tags": [],
            "needs_background": "light"
          }
        }
      ]
    },
    {
      "cell_type": "code",
      "metadata": {
        "id": "TtgR9ehJx2pX",
        "colab_type": "code",
        "colab": {
          "base_uri": "https://localhost:8080/",
          "height": 318
        },
        "outputId": "ad537af7-8537-4075-f921-82bde048b3b7"
      },
      "source": [
        "age = dataset.Age\n",
        "years = dataset.YearsAtCompany\n",
        "\n",
        "df=pd.DataFrame({'x': age, 'y': years})\n",
        "\n",
        "# plot\n",
        "\n",
        "plt.plot( 'x', 'y', data=df, linestyle='none', marker='o')\n",
        "plt.show()\n"
      ],
      "execution_count": 68,
      "outputs": [
        {
          "output_type": "stream",
          "text": [
            "/usr/local/lib/python3.6/dist-packages/ipykernel_launcher.py:8: RuntimeWarning: Second argument 'y' is ambiguous: could be a format string but is in 'data'; using as data.  If it was intended as data, set the format string to an empty string to suppress this warning.  If it was intended as a format string, explicitly pass the x-values as well.  Alternatively, rename the entry in 'data'.\n",
            "  \n"
          ],
          "name": "stderr"
        },
        {
          "output_type": "display_data",
          "data": {
            "image/png": "[encoded data removed]",
            "text/plain": [
              "<Figure size 432x288 with 1 Axes>"
            ]
          },
          "metadata": {
            "tags": [],
            "needs_background": "light"
          }
        }
      ]
    },
    {
      "cell_type": "markdown",
      "metadata": {
        "id": "wzICaWdt2Wux",
        "colab_type": "text"
      },
      "source": [
        "### Removal of Outliers"
      ]
    },
    {
      "cell_type": "code",
      "metadata": {
        "id": "h09KJL7w3O3l",
        "colab_type": "code",
        "colab": {}
      },
      "source": [
        "dataset1 = dataset[dataset['MonthlyIncome'] < 150000]\n",
        "dataset1 = dataset1[dataset1['YearsAtCompany']< 16]"
      ],
      "execution_count": 69,
      "outputs": []
    },
    {
      "cell_type": "code",
      "metadata": {
        "id": "7jbxNKDALy5t",
        "colab_type": "code",
        "colab": {
          "base_uri": "https://localhost:8080/",
          "height": 84
        },
        "outputId": "e0686082-a8e4-4ccf-b660-a703e6e051a8"
      },
      "source": [
        "#Skewness\n",
        "print(\"Skewness of:\")\n",
        "print(\"Age: \", dataset1['Age'].skew())\n",
        "print(\"Monthly Income: \", dataset1['MonthlyIncome'].skew())\n",
        "print(\"YearsAtCompany: \", dataset1['YearsAtCompany'].skew())"
      ],
      "execution_count": 70,
      "outputs": [
        {
          "output_type": "stream",
          "text": [
            "Skewness of:\n",
            "Age:  0.5297204318783744\n",
            "Monthly Income:  1.0899628190201052\n",
            "YearsAtCompany:  0.5368307656137211\n"
          ],
          "name": "stdout"
        }
      ]
    },
    {
      "cell_type": "code",
      "metadata": {
        "id": "l1Kpy-oCP6Tz",
        "colab_type": "code",
        "colab": {
          "base_uri": "https://localhost:8080/",
          "height": 84
        },
        "outputId": "77417486-03d5-43d8-a831-98bc97e925d5"
      },
      "source": [
        "# Kurtosis\n",
        "\n",
        "from scipy.stats import kurtosis\n",
        "print(\"Kurtosis of:\")\n",
        "print(\"Age: \", dataset1['Age'].kurtosis())\n",
        "print(\"Monthly Income: \", dataset1['MonthlyIncome'].kurtosis())\n",
        "print(\"YearsAtCompany: \", dataset1['YearsAtCompany'].kurtosis())"
      ],
      "execution_count": 71,
      "outputs": [
        {
          "output_type": "stream",
          "text": [
            "Kurtosis of:\n",
            "Age:  -0.28389422731936476\n",
            "Monthly Income:  0.46531482138359603\n",
            "YearsAtCompany:  -0.45906817722417026\n"
          ],
          "name": "stdout"
        }
      ]
    },
    {
      "cell_type": "markdown",
      "metadata": {
        "id": "mYBmg23j_F2d",
        "colab_type": "text"
      },
      "source": [
        "## **Observations from Descriptive Statistics:**\n",
        "\n",
        "\n",
        "*   Mean age of Employees is 36 and there is no outliers in Age. Standard deviation is also less than 10 years. Hence, many of the Employees are mid 30's\n",
        "Age: positive skewed and lyptokurtic\n",
        "\n",
        "*   Mean Monthly Income of Employees is around 65k. Standard deviations is very high compared to mean salary. There are many outliers in this aspect. Outliers are above 150000 salary.\n",
        "Monthly Income: positive skewed and lyptokurtic\n",
        "\n",
        "*   The average years of employees service in the company is 7 years and SD is around 6 years. there are many outliers in this aspects also like above 16 years.\n",
        "Monthly Income: positive skewed and platykurtic"
      ]
    },
    {
      "cell_type": "code",
      "metadata": {
        "id": "fZZp1twjbMbh",
        "colab_type": "code",
        "colab": {
          "base_uri": "https://localhost:8080/",
          "height": 580
        },
        "outputId": "524d557d-c136-450c-9111-e604abb2bb00"
      },
      "source": [
        "dataset.replace(('Yes', 'No'), (1, 0), inplace=True)\n",
        "dataset.replace(('Male', 'Female'), (1, 0), inplace=True)\n",
        "dataset"
      ],
      "execution_count": 72,
      "outputs": [
        {
          "output_type": "execute_result",
          "data": {
            "text/html": [
              "<div>\n",
              "<style scoped>\n",
              "    .dataframe tbody tr th:only-of-type {\n",
              "        vertical-align: middle;\n",
              "    }\n",
              "\n",
              "    .dataframe tbody tr th {\n",
              "        vertical-align: top;\n",
              "    }\n",
              "\n",
              "    .dataframe thead th {\n",
              "        text-align: right;\n",
              "    }\n",
              "</style>\n",
              "<table border=\"1\" class=\"dataframe\">\n",
              "  <thead>\n",
              "    <tr style=\"text-align: right;\">\n",
              "      <th></th>\n",
              "      <th>Age</th>\n",
              "      <th>Attrition</th>\n",
              "      <th>BusinessTravel</th>\n",
              "      <th>Department</th>\n",
              "      <th>DistanceFromHome</th>\n",
              "      <th>Education</th>\n",
              "      <th>EducationField</th>\n",
              "      <th>EmployeeCount</th>\n",
              "      <th>EmployeeID</th>\n",
              "      <th>Gender</th>\n",
              "      <th>JobLevel</th>\n",
              "      <th>JobRole</th>\n",
              "      <th>MaritalStatus</th>\n",
              "      <th>MonthlyIncome</th>\n",
              "      <th>NumCompaniesWorked</th>\n",
              "      <th>Over18</th>\n",
              "      <th>PercentSalaryHike</th>\n",
              "      <th>StandardHours</th>\n",
              "      <th>StockOptionLevel</th>\n",
              "      <th>TotalWorkingYears</th>\n",
              "      <th>TrainingTimesLastYear</th>\n",
              "      <th>YearsAtCompany</th>\n",
              "      <th>YearsSinceLastPromotion</th>\n",
              "      <th>YearsWithCurrManager</th>\n",
              "    </tr>\n",
              "  </thead>\n",
              "  <tbody>\n",
              "    <tr>\n",
              "      <th>0</th>\n",
              "      <td>51</td>\n",
              "      <td>0</td>\n",
              "      <td>Travel_Rarely</td>\n",
              "      <td>Sales</td>\n",
              "      <td>6</td>\n",
              "      <td>2</td>\n",
              "      <td>Life Sciences</td>\n",
              "      <td>1</td>\n",
              "      <td>1</td>\n",
              "      <td>0</td>\n",
              "      <td>1</td>\n",
              "      <td>Healthcare Representative</td>\n",
              "      <td>Married</td>\n",
              "      <td>131160</td>\n",
              "      <td>1.0</td>\n",
              "      <td>Y</td>\n",
              "      <td>11</td>\n",
              "      <td>8</td>\n",
              "      <td>0</td>\n",
              "      <td>1.0</td>\n",
              "      <td>6</td>\n",
              "      <td>1</td>\n",
              "      <td>0</td>\n",
              "      <td>0</td>\n",
              "    </tr>\n",
              "    <tr>\n",
              "      <th>1</th>\n",
              "      <td>31</td>\n",
              "      <td>1</td>\n",
              "      <td>Travel_Frequently</td>\n",
              "      <td>Research &amp; Development</td>\n",
              "      <td>10</td>\n",
              "      <td>1</td>\n",
              "      <td>Life Sciences</td>\n",
              "      <td>1</td>\n",
              "      <td>2</td>\n",
              "      <td>0</td>\n",
              "      <td>1</td>\n",
              "      <td>Research Scientist</td>\n",
              "      <td>Single</td>\n",
              "      <td>41890</td>\n",
              "      <td>0.0</td>\n",
              "      <td>Y</td>\n",
              "      <td>23</td>\n",
              "      <td>8</td>\n",
              "      <td>1</td>\n",
              "      <td>6.0</td>\n",
              "      <td>3</td>\n",
              "      <td>5</td>\n",
              "      <td>1</td>\n",
              "      <td>4</td>\n",
              "    </tr>\n",
              "    <tr>\n",
              "      <th>2</th>\n",
              "      <td>32</td>\n",
              "      <td>0</td>\n",
              "      <td>Travel_Frequently</td>\n",
              "      <td>Research &amp; Development</td>\n",
              "      <td>17</td>\n",
              "      <td>4</td>\n",
              "      <td>Other</td>\n",
              "      <td>1</td>\n",
              "      <td>3</td>\n",
              "      <td>1</td>\n",
              "      <td>4</td>\n",
              "      <td>Sales Executive</td>\n",
              "      <td>Married</td>\n",
              "      <td>193280</td>\n",
              "      <td>1.0</td>\n",
              "      <td>Y</td>\n",
              "      <td>15</td>\n",
              "      <td>8</td>\n",
              "      <td>3</td>\n",
              "      <td>5.0</td>\n",
              "      <td>2</td>\n",
              "      <td>5</td>\n",
              "      <td>0</td>\n",
              "      <td>3</td>\n",
              "    </tr>\n",
              "    <tr>\n",
              "      <th>3</th>\n",
              "      <td>38</td>\n",
              "      <td>0</td>\n",
              "      <td>Non-Travel</td>\n",
              "      <td>Research &amp; Development</td>\n",
              "      <td>2</td>\n",
              "      <td>5</td>\n",
              "      <td>Life Sciences</td>\n",
              "      <td>1</td>\n",
              "      <td>4</td>\n",
              "      <td>1</td>\n",
              "      <td>3</td>\n",
              "      <td>Human Resources</td>\n",
              "      <td>Married</td>\n",
              "      <td>83210</td>\n",
              "      <td>3.0</td>\n",
              "      <td>Y</td>\n",
              "      <td>11</td>\n",
              "      <td>8</td>\n",
              "      <td>3</td>\n",
              "      <td>13.0</td>\n",
              "      <td>5</td>\n",
              "      <td>8</td>\n",
              "      <td>7</td>\n",
              "      <td>5</td>\n",
              "    </tr>\n",
              "    <tr>\n",
              "      <th>4</th>\n",
              "      <td>32</td>\n",
              "      <td>0</td>\n",
              "      <td>Travel_Rarely</td>\n",
              "      <td>Research &amp; Development</td>\n",
              "      <td>10</td>\n",
              "      <td>1</td>\n",
              "      <td>Medical</td>\n",
              "      <td>1</td>\n",
              "      <td>5</td>\n",
              "      <td>1</td>\n",
              "      <td>1</td>\n",
              "      <td>Sales Executive</td>\n",
              "      <td>Single</td>\n",
              "      <td>23420</td>\n",
              "      <td>4.0</td>\n",
              "      <td>Y</td>\n",
              "      <td>12</td>\n",
              "      <td>8</td>\n",
              "      <td>2</td>\n",
              "      <td>9.0</td>\n",
              "      <td>2</td>\n",
              "      <td>6</td>\n",
              "      <td>0</td>\n",
              "      <td>4</td>\n",
              "    </tr>\n",
              "    <tr>\n",
              "      <th>...</th>\n",
              "      <td>...</td>\n",
              "      <td>...</td>\n",
              "      <td>...</td>\n",
              "      <td>...</td>\n",
              "      <td>...</td>\n",
              "      <td>...</td>\n",
              "      <td>...</td>\n",
              "      <td>...</td>\n",
              "      <td>...</td>\n",
              "      <td>...</td>\n",
              "      <td>...</td>\n",
              "      <td>...</td>\n",
              "      <td>...</td>\n",
              "      <td>...</td>\n",
              "      <td>...</td>\n",
              "      <td>...</td>\n",
              "      <td>...</td>\n",
              "      <td>...</td>\n",
              "      <td>...</td>\n",
              "      <td>...</td>\n",
              "      <td>...</td>\n",
              "      <td>...</td>\n",
              "      <td>...</td>\n",
              "      <td>...</td>\n",
              "    </tr>\n",
              "    <tr>\n",
              "      <th>4405</th>\n",
              "      <td>42</td>\n",
              "      <td>0</td>\n",
              "      <td>Travel_Rarely</td>\n",
              "      <td>Research &amp; Development</td>\n",
              "      <td>5</td>\n",
              "      <td>4</td>\n",
              "      <td>Medical</td>\n",
              "      <td>1</td>\n",
              "      <td>4406</td>\n",
              "      <td>0</td>\n",
              "      <td>1</td>\n",
              "      <td>Research Scientist</td>\n",
              "      <td>Single</td>\n",
              "      <td>60290</td>\n",
              "      <td>3.0</td>\n",
              "      <td>Y</td>\n",
              "      <td>17</td>\n",
              "      <td>8</td>\n",
              "      <td>1</td>\n",
              "      <td>10.0</td>\n",
              "      <td>5</td>\n",
              "      <td>3</td>\n",
              "      <td>0</td>\n",
              "      <td>2</td>\n",
              "    </tr>\n",
              "    <tr>\n",
              "      <th>4406</th>\n",
              "      <td>29</td>\n",
              "      <td>0</td>\n",
              "      <td>Travel_Rarely</td>\n",
              "      <td>Research &amp; Development</td>\n",
              "      <td>2</td>\n",
              "      <td>4</td>\n",
              "      <td>Medical</td>\n",
              "      <td>1</td>\n",
              "      <td>4407</td>\n",
              "      <td>1</td>\n",
              "      <td>1</td>\n",
              "      <td>Laboratory Technician</td>\n",
              "      <td>Divorced</td>\n",
              "      <td>26790</td>\n",
              "      <td>2.0</td>\n",
              "      <td>Y</td>\n",
              "      <td>15</td>\n",
              "      <td>8</td>\n",
              "      <td>0</td>\n",
              "      <td>10.0</td>\n",
              "      <td>2</td>\n",
              "      <td>3</td>\n",
              "      <td>0</td>\n",
              "      <td>2</td>\n",
              "    </tr>\n",
              "    <tr>\n",
              "      <th>4407</th>\n",
              "      <td>25</td>\n",
              "      <td>0</td>\n",
              "      <td>Travel_Rarely</td>\n",
              "      <td>Research &amp; Development</td>\n",
              "      <td>25</td>\n",
              "      <td>2</td>\n",
              "      <td>Life Sciences</td>\n",
              "      <td>1</td>\n",
              "      <td>4408</td>\n",
              "      <td>1</td>\n",
              "      <td>2</td>\n",
              "      <td>Sales Executive</td>\n",
              "      <td>Married</td>\n",
              "      <td>37020</td>\n",
              "      <td>0.0</td>\n",
              "      <td>Y</td>\n",
              "      <td>20</td>\n",
              "      <td>8</td>\n",
              "      <td>0</td>\n",
              "      <td>5.0</td>\n",
              "      <td>4</td>\n",
              "      <td>4</td>\n",
              "      <td>1</td>\n",
              "      <td>2</td>\n",
              "    </tr>\n",
              "    <tr>\n",
              "      <th>4408</th>\n",
              "      <td>42</td>\n",
              "      <td>0</td>\n",
              "      <td>Travel_Rarely</td>\n",
              "      <td>Sales</td>\n",
              "      <td>18</td>\n",
              "      <td>2</td>\n",
              "      <td>Medical</td>\n",
              "      <td>1</td>\n",
              "      <td>4409</td>\n",
              "      <td>1</td>\n",
              "      <td>1</td>\n",
              "      <td>Laboratory Technician</td>\n",
              "      <td>Divorced</td>\n",
              "      <td>23980</td>\n",
              "      <td>0.0</td>\n",
              "      <td>Y</td>\n",
              "      <td>14</td>\n",
              "      <td>8</td>\n",
              "      <td>1</td>\n",
              "      <td>10.0</td>\n",
              "      <td>2</td>\n",
              "      <td>9</td>\n",
              "      <td>7</td>\n",
              "      <td>8</td>\n",
              "    </tr>\n",
              "    <tr>\n",
              "      <th>4409</th>\n",
              "      <td>40</td>\n",
              "      <td>0</td>\n",
              "      <td>Travel_Rarely</td>\n",
              "      <td>Research &amp; Development</td>\n",
              "      <td>28</td>\n",
              "      <td>3</td>\n",
              "      <td>Medical</td>\n",
              "      <td>1</td>\n",
              "      <td>4410</td>\n",
              "      <td>1</td>\n",
              "      <td>2</td>\n",
              "      <td>Laboratory Technician</td>\n",
              "      <td>Divorced</td>\n",
              "      <td>54680</td>\n",
              "      <td>0.0</td>\n",
              "      <td>Y</td>\n",
              "      <td>12</td>\n",
              "      <td>8</td>\n",
              "      <td>0</td>\n",
              "      <td>NaN</td>\n",
              "      <td>6</td>\n",
              "      <td>21</td>\n",
              "      <td>3</td>\n",
              "      <td>9</td>\n",
              "    </tr>\n",
              "  </tbody>\n",
              "</table>\n",
              "<p>4410 rows × 24 columns</p>\n",
              "</div>"
            ],
            "text/plain": [
              "      Age  Attrition  ... YearsSinceLastPromotion YearsWithCurrManager\n",
              "0      51          0  ...                       0                    0\n",
              "1      31          1  ...                       1                    4\n",
              "2      32          0  ...                       0                    3\n",
              "3      38          0  ...                       7                    5\n",
              "4      32          0  ...                       0                    4\n",
              "...   ...        ...  ...                     ...                  ...\n",
              "4405   42          0  ...                       0                    2\n",
              "4406   29          0  ...                       0                    2\n",
              "4407   25          0  ...                       1                    2\n",
              "4408   42          0  ...                       7                    8\n",
              "4409   40          0  ...                       3                    9\n",
              "\n",
              "[4410 rows x 24 columns]"
            ]
          },
          "metadata": {
            "tags": []
          },
          "execution_count": 72
        }
      ]
    },
    {
      "cell_type": "markdown",
      "metadata": {
        "id": "aBuEqiv8ymFO",
        "colab_type": "text"
      },
      "source": [
        "# 2. Inferential statistical Analysis:"
      ]
    },
    {
      "cell_type": "markdown",
      "metadata": {
        "id": "8-E1Ua9NttS9",
        "colab_type": "text"
      },
      "source": [
        "# **Checking correlation among the variables affecting the Attrition**"
      ]
    },
    {
      "cell_type": "markdown",
      "metadata": {
        "id": "WOGHGUo0txnM",
        "colab_type": "text"
      },
      "source": [
        "## **Observation 1** <br>\n",
        "Null Hypothesis: There is no significant correlation between Attrition and Age of Associates  <br> \n",
        "Ho: rho = 0"
      ]
    },
    {
      "cell_type": "code",
      "metadata": {
        "id": "ALM-J8Y_t0m8",
        "colab_type": "code",
        "colab": {
          "base_uri": "https://localhost:8080/",
          "height": 84
        },
        "outputId": "33ad1fc7-ea12-42a1-fb82-215c00717820"
      },
      "source": [
        "from scipy.stats import pearsonr\n",
        "\n",
        "stats,p = pearsonr(dataset.Attrition,dataset.Age)\n",
        "\n",
        "print(\"stats = \",stats,\"p =\",p)\n",
        "\n",
        "print(\"Conculsion:\")\n",
        "\n",
        "if p<0.05:\n",
        "  print(\"p<0.05, Null Hypothesis is rejected! \\n There is significant correlation between Attrition and Age\")\n",
        "else:\n",
        "  print(\"p>0.05, Null Hypothesis is accepted! \\n There is no significant correlation between Attrition and Age\")"
      ],
      "execution_count": 95,
      "outputs": [
        {
          "output_type": "stream",
          "text": [
            "stats =  -0.1583986795409671 p = 5.1265982193780794e-26\n",
            "Conculsion:\n",
            "p<0.05, Null Hypothesis is rejected! \n",
            " There is significant correlation between Attrition and Age\n"
          ],
          "name": "stdout"
        }
      ]
    },
    {
      "cell_type": "markdown",
      "metadata": {
        "id": "nWUN_1hdt6uE",
        "colab_type": "text"
      },
      "source": [
        "## **Observation 2** <br>\n",
        "Null Hypothesis: There is no significant correlation between Attrition and Gender of Associates  <br> \n",
        "Ho: rho = 0"
      ]
    },
    {
      "cell_type": "code",
      "metadata": {
        "id": "s3hWC7ort83x",
        "colab_type": "code",
        "colab": {
          "base_uri": "https://localhost:8080/",
          "height": 84
        },
        "outputId": "117c9910-40cd-4ef5-a4ea-88150d49d9bf"
      },
      "source": [
        "from scipy.stats import pearsonr\n",
        "\n",
        "stats,p = pearsonr(dataset.Attrition,dataset.Gender)\n",
        "\n",
        "print(\"stats = \",stats,\"p =\",p)\n",
        "\n",
        "print(\"Conculsion:\")\n",
        "\n",
        "if p<0.05:\n",
        "  print(\"p<0.05, Null Hypothesis is rejected! \\n There is significant correlation between Attrition and Gender\")\n",
        "else:\n",
        "  print(\"p>0.05, Null Hypothesis is accepted! \\n There is no significant correlation between Attrition and Gender\")"
      ],
      "execution_count": 73,
      "outputs": [
        {
          "output_type": "stream",
          "text": [
            "stats =  0.018125078877010255 p = 0.22881970951795952\n",
            "Conculsion:\n",
            "p>0.05, Null Hypothesis is accepted! \n",
            " There is no significant correlation between Attrition and Gender\n"
          ],
          "name": "stdout"
        }
      ]
    },
    {
      "cell_type": "markdown",
      "metadata": {
        "id": "RWSldUvquCiG",
        "colab_type": "text"
      },
      "source": [
        "## **Observation 3** <br>\n",
        "Null Hypothesis: There is no significant correlation between Attrition and Monthly Income of Associates  <br> \n",
        "Ho: rho = 0"
      ]
    },
    {
      "cell_type": "code",
      "metadata": {
        "id": "Axg3JRLft_BE",
        "colab_type": "code",
        "colab": {
          "base_uri": "https://localhost:8080/",
          "height": 84
        },
        "outputId": "abe7d243-5dce-4ac9-80c2-a28a56b6639c"
      },
      "source": [
        "from scipy.stats import pearsonr\n",
        "\n",
        "stats,p = pearsonr(dataset.Attrition,dataset.MonthlyIncome)\n",
        "\n",
        "print(\"stats = \",stats,\"p =\",p)\n",
        "\n",
        "print(\"Conculsion:\")\n",
        "\n",
        "if p<0.05:\n",
        "  print(\"p<0.05, Null Hypothesis is rejected! \\n There is significant correlation between Attrition and Monthly Income\")\n",
        "else:\n",
        "  print(\"p>0.05, Null Hypothesis is accepted! \\n There is no significant correlation between Attrition and Monthly Income\")"
      ],
      "execution_count": 74,
      "outputs": [
        {
          "output_type": "stream",
          "text": [
            "stats =  -0.03117628169811501 p = 0.03842748490600132\n",
            "Conculsion:\n",
            "p<0.05, Null Hypothesis is rejected! \n",
            " There is significant correlation between Attrition and Monthly Income\n"
          ],
          "name": "stdout"
        }
      ]
    },
    {
      "cell_type": "code",
      "metadata": {
        "id": "cMwHJSNUwcXp",
        "colab_type": "code",
        "colab": {}
      },
      "source": [
        "dataset = dataset[~dataset['TotalWorkingYears'].isin(['NaN'])]\n",
        "dataset = dataset[~dataset['NumCompaniesWorked'].isin(['NaN'])]"
      ],
      "execution_count": 75,
      "outputs": []
    },
    {
      "cell_type": "markdown",
      "metadata": {
        "id": "hgGCJ1cFt5L0",
        "colab_type": "text"
      },
      "source": [
        "## **Observation 4** <br>\n",
        "Null Hypothesis: There is no significant correlation between Attrition and Total working years of Associates  <br> \n",
        "Ho: rho = 0"
      ]
    },
    {
      "cell_type": "code",
      "metadata": {
        "id": "GIsPiAodt0OG",
        "colab_type": "code",
        "colab": {
          "base_uri": "https://localhost:8080/",
          "height": 84
        },
        "outputId": "fe6f7255-4175-4dcb-d74a-282fed4ca890"
      },
      "source": [
        "from scipy.stats import pearsonr\n",
        "\n",
        "\n",
        "\n",
        "stats,p = pearsonr(dataset.Attrition,dataset.TotalWorkingYears)\n",
        "\n",
        "print(\"stats = \",stats,\"p =\",p)\n",
        "\n",
        "print(\"Conculsion:\")\n",
        "\n",
        "if p<0.05:\n",
        "  print(\"p<0.05, Null Hypothesis is rejected! \\n There is significant correlation between Attrition and TotalWorkingYears\")\n",
        "else:\n",
        "  print(\"p>0.05, Null Hypothesis is accepted! \\n There is no significant correlation between Attrition and TotalWorkingYears\")"
      ],
      "execution_count": 76,
      "outputs": [
        {
          "output_type": "stream",
          "text": [
            "stats =  -0.16966991684723912 p = 1.1645434967091854e-29\n",
            "Conculsion:\n",
            "p<0.05, Null Hypothesis is rejected! \n",
            " There is significant correlation between Attrition and TotalWorkingYears\n"
          ],
          "name": "stdout"
        }
      ]
    },
    {
      "cell_type": "markdown",
      "metadata": {
        "id": "FlbMnZIvwBg2",
        "colab_type": "text"
      },
      "source": [
        "## **Observation 5** <br>\n",
        "Null Hypothesis: There is no significant correlation between Attrition and YearsAtCompany\t of Associates  <br> \n",
        "Ho: rho = 0"
      ]
    },
    {
      "cell_type": "code",
      "metadata": {
        "id": "IoOGlGSKv-Zd",
        "colab_type": "code",
        "colab": {
          "base_uri": "https://localhost:8080/",
          "height": 84
        },
        "outputId": "a13f072a-23cb-451b-a5aa-55f48e9f4a44"
      },
      "source": [
        "from scipy.stats import pearsonr\n",
        "\n",
        "stats,p = pearsonr(dataset.Attrition,dataset.YearsAtCompany)\n",
        "\n",
        "print(\"stats = \",stats,\"p =\",p)\n",
        "\n",
        "print(\"Conculsion:\")\n",
        "\n",
        "if p<0.05:\n",
        "  print(\"p<0.05, Null Hypothesis is rejected! \\n There is significant correlation between Attrition and YearsAtCompany\")\n",
        "else:\n",
        "  print(\"p>0.05, Null Hypothesis is accepted! \\n There is no significant correlation between Attrition and YearsAtCompany\")"
      ],
      "execution_count": 77,
      "outputs": [
        {
          "output_type": "stream",
          "text": [
            "stats =  -0.13300261842521535 p = 9.476118084840815e-19\n",
            "Conculsion:\n",
            "p<0.05, Null Hypothesis is rejected! \n",
            " There is significant correlation between Attrition and YearsAtCompany\n"
          ],
          "name": "stdout"
        }
      ]
    },
    {
      "cell_type": "markdown",
      "metadata": {
        "id": "GIwJkDNyxF8t",
        "colab_type": "text"
      },
      "source": [
        "## **Observation 6** <br>\n",
        "Null Hypothesis: There is no significant correlation between Attrition and TrainingTimesLastYear\t of Associates  <br> \n",
        "Ho: rho = 0"
      ]
    },
    {
      "cell_type": "code",
      "metadata": {
        "id": "4yPt7eIaxLe1",
        "colab_type": "code",
        "colab": {
          "base_uri": "https://localhost:8080/",
          "height": 84
        },
        "outputId": "6f91829b-0d40-416e-b14f-9c6a97338f32"
      },
      "source": [
        "from scipy.stats import pearsonr\n",
        "\n",
        "stats,p = pearsonr(dataset.Attrition,dataset.TrainingTimesLastYear)\n",
        "\n",
        "print(\"stats = \",stats,\"p =\",p)\n",
        "\n",
        "print(\"Conculsion:\")\n",
        "\n",
        "if p<0.05:\n",
        "  print(\"p<0.05, Null Hypothesis is rejected! \\n There is significant correlation between Attrition and TrainingTimesLastYear\")\n",
        "else:\n",
        "  print(\"p>0.05, Null Hypothesis is accepted! \\n There is no significant correlation between Attrition and TrainingTimesLastYear\")"
      ],
      "execution_count": 78,
      "outputs": [
        {
          "output_type": "stream",
          "text": [
            "stats =  -0.04758573693081715 p = 0.0016276603635466457\n",
            "Conculsion:\n",
            "p<0.05, Null Hypothesis is rejected! \n",
            " There is significant correlation between Attrition and TrainingTimesLastYear\n"
          ],
          "name": "stdout"
        }
      ]
    },
    {
      "cell_type": "markdown",
      "metadata": {
        "id": "_RUyypy1x6cX",
        "colab_type": "text"
      },
      "source": [
        "## **Observation 7** <br>\n",
        "Null Hypothesis: There is no significant correlation between Attrition and YearsSinceLastPromotion of Associates  <br> \n",
        "Ho: rho = 0"
      ]
    },
    {
      "cell_type": "code",
      "metadata": {
        "id": "23TT5YFRx-qA",
        "colab_type": "code",
        "colab": {
          "base_uri": "https://localhost:8080/",
          "height": 84
        },
        "outputId": "d41c9287-0011-4187-cbe2-092f03dcbd1d"
      },
      "source": [
        "from scipy.stats import pearsonr\n",
        "\n",
        "stats,p = pearsonr(dataset.Attrition,dataset.YearsSinceLastPromotion)\n",
        "\n",
        "print(\"stats = \",stats,\"p =\",p)\n",
        "\n",
        "print(\"Conculsion:\")\n",
        "\n",
        "if p<0.05:\n",
        "  print(\"p<0.05, Null Hypothesis is rejected! \\n There is significant correlation between Attrition and YearsSinceLastPromotion\")\n",
        "else:\n",
        "  print(\"p>0.05, Null Hypothesis is accepted! \\n There is no significant correlation between Attrition and YearsSinceLastPromotion\")"
      ],
      "execution_count": 79,
      "outputs": [
        {
          "output_type": "stream",
          "text": [
            "stats =  -0.03142315056330998 p = 0.03752293607394324\n",
            "Conculsion:\n",
            "p<0.05, Null Hypothesis is rejected! \n",
            " There is significant correlation between Attrition and YearsSinceLastPromotion\n"
          ],
          "name": "stdout"
        }
      ]
    },
    {
      "cell_type": "markdown",
      "metadata": {
        "id": "Uy0Epb3MyIY2",
        "colab_type": "text"
      },
      "source": [
        "## **Observation 8** <br>\n",
        "Null Hypothesis: There is no significant correlation between Attrition and YearsWithCurrManager of Associates  <br> \n",
        "Ho: rho = 0"
      ]
    },
    {
      "cell_type": "code",
      "metadata": {
        "id": "2nN1-YtVyLl1",
        "colab_type": "code",
        "colab": {
          "base_uri": "https://localhost:8080/",
          "height": 84
        },
        "outputId": "ae94d00a-75c2-4639-fa57-8f24e9f1f74b"
      },
      "source": [
        "from scipy.stats import pearsonr\n",
        "\n",
        "stats,p = pearsonr(dataset.Attrition,dataset.YearsWithCurrManager)\n",
        "\n",
        "print(\"stats = \",stats,\"p =\",p)\n",
        "\n",
        "print(\"Conculsion:\")\n",
        "\n",
        "if p<0.05:\n",
        "  print(\"p<0.05, Null Hypothesis is rejected! \\n There is significant correlation between Attrition and YearsWithCurrManager\")\n",
        "else:\n",
        "  print(\"p>0.05, Null Hypothesis is accepted! \\n There is no significant correlation between Attrition and YearsWithCurrManager\")"
      ],
      "execution_count": 80,
      "outputs": [
        {
          "output_type": "stream",
          "text": [
            "stats =  -0.15469153690287285 p = 7.105369646772844e-25\n",
            "Conculsion:\n",
            "p<0.05, Null Hypothesis is rejected! \n",
            " There is significant correlation between Attrition and YearsWithCurrManager\n"
          ],
          "name": "stdout"
        }
      ]
    },
    {
      "cell_type": "markdown",
      "metadata": {
        "id": "WWJ3oL7SyXfd",
        "colab_type": "text"
      },
      "source": [
        "## **Observation 9** <br>\n",
        "Null Hypothesis: There is no significant correlation between Attrition and Number of Companies Worked of Associates  <br> \n",
        "Ho: rho = 0"
      ]
    },
    {
      "cell_type": "code",
      "metadata": {
        "id": "bOy5aN_yybSp",
        "colab_type": "code",
        "colab": {
          "base_uri": "https://localhost:8080/",
          "height": 84
        },
        "outputId": "668a1776-dcb3-4bcc-8c0d-6d55f40c996f"
      },
      "source": [
        "from scipy.stats import pearsonr\n",
        "\n",
        "stats,p = pearsonr(dataset.Attrition,dataset.NumCompaniesWorked)\n",
        "\n",
        "print(\"stats = \",stats,\"p =\",p)\n",
        "\n",
        "print(\"Conculsion:\")\n",
        "\n",
        "if p<0.05:\n",
        "  print(\"p<0.05, Null Hypothesis is rejected! \\n There is significant correlation between Attrition and Number of Companies Worked\")\n",
        "else:\n",
        "  print(\"p>0.05, Null Hypothesis is accepted! \\n There is no significant correlation between Attrition and Number of Companies Worked\")"
      ],
      "execution_count": 81,
      "outputs": [
        {
          "output_type": "stream",
          "text": [
            "stats =  0.042830567244720834 p = 0.004572057121622929\n",
            "Conculsion:\n",
            "p<0.05, Null Hypothesis is rejected! \n",
            " There is significant correlation between Attrition and Number of Companies Worked\n"
          ],
          "name": "stdout"
        }
      ]
    },
    {
      "cell_type": "markdown",
      "metadata": {
        "id": "OZT_RWodyoAn",
        "colab_type": "text"
      },
      "source": [
        "## **Observation 10** <br>\n",
        "Null Hypothesis: There is no significant correlation between Attrition and Distance From Home of Associates  <br> \n",
        "Ho: rho = 0"
      ]
    },
    {
      "cell_type": "code",
      "metadata": {
        "id": "EInHfSSoyo-z",
        "colab_type": "code",
        "colab": {
          "base_uri": "https://localhost:8080/",
          "height": 84
        },
        "outputId": "e9a00d4a-61c2-4672-e7bd-4c8472231c63"
      },
      "source": [
        "from scipy.stats import pearsonr\n",
        "\n",
        "stats,p = pearsonr(dataset.Attrition,dataset.DistanceFromHome)\n",
        "\n",
        "print(\"stats = \",stats,\"p =\",p)\n",
        "\n",
        "print(\"Conculsion:\")\n",
        "\n",
        "if p<0.05:\n",
        "  print(\"p<0.05, Null Hypothesis is rejected! \\n There is significant correlation between Attrition and Distance From Home\")\n",
        "else:\n",
        "  print(\"p>0.05, Null Hypothesis is accepted! \\n There is no significant correlation between Attrition and Distance From Home\")"
      ],
      "execution_count": 82,
      "outputs": [
        {
          "output_type": "stream",
          "text": [
            "stats =  -0.009448638515156291 p = 0.5317715668018396\n",
            "Conculsion:\n",
            "p>0.05, Null Hypothesis is accepted! \n",
            " There is no significant correlation between Attrition and Distance From Home\n"
          ],
          "name": "stdout"
        }
      ]
    },
    {
      "cell_type": "markdown",
      "metadata": {
        "id": "4jxADvLdvBLe",
        "colab_type": "text"
      },
      "source": [
        "# **Hypothesis Testing**"
      ]
    },
    {
      "cell_type": "markdown",
      "metadata": {
        "id": "URRJ4ixrQA84",
        "colab_type": "text"
      },
      "source": [
        "###  Sorting the Attrition data:"
      ]
    },
    {
      "cell_type": "code",
      "metadata": {
        "id": "EKxPXy8UQFO_",
        "colab_type": "code",
        "colab": {}
      },
      "source": [
        "dfyes = pd.read_excel('general_data_Attrition_Yes.xlsx',sheet_name=0)\n",
        "dfno = pd.read_excel('general_data_Attrition_No.xlsx',sheet_name=0)"
      ],
      "execution_count": 88,
      "outputs": []
    },
    {
      "cell_type": "code",
      "metadata": {
        "id": "_l_Tt9Mwddlu",
        "colab_type": "code",
        "colab": {}
      },
      "source": [
        "dfsingle = pd.read_excel('general_data_Single.xlsx',sheet_name=0)\n",
        "dfmarried = pd.read_excel('general_data_Married.xlsx',sheet_name=0)\n",
        "dfdivorce = pd.read_excel('general_data_Divorced.xlsx',sheet_name=0)"
      ],
      "execution_count": 89,
      "outputs": []
    },
    {
      "cell_type": "code",
      "metadata": {
        "id": "e-HidSg8i62W",
        "colab_type": "code",
        "colab": {}
      },
      "source": [
        "dfmale = pd.read_excel('general_data_Male.xlsx',sheet_name=0)\n",
        "dffemale = pd.read_excel('general_data_Female.xlsx',sheet_name=0)"
      ],
      "execution_count": 90,
      "outputs": []
    },
    {
      "cell_type": "markdown",
      "metadata": {
        "id": "rRkArsayh5at",
        "colab_type": "text"
      },
      "source": [
        "## **Non parametric Hypothesis**"
      ]
    },
    {
      "cell_type": "markdown",
      "metadata": {
        "id": "JapkZK5ykIDr",
        "colab_type": "text"
      },
      "source": [
        "## **Wilcoxon Test** <br>\n",
        "(Comparision of two paried samples) <br>\n",
        "There is no chance to perform subject test since there are no independent samples in it."
      ]
    },
    {
      "cell_type": "markdown",
      "metadata": {
        "id": "nRwbbJgjsajm",
        "colab_type": "text"
      },
      "source": [
        "## **Friedman Test** <br>\n",
        "(Comparision of more than two paired samples) <br>\n",
        "There is no chance to perform subject test since there are no independent samples in it.  <br> "
      ]
    },
    {
      "cell_type": "markdown",
      "metadata": {
        "id": "Z52jkqBI6bsJ",
        "colab_type": "text"
      },
      "source": [
        "## **Mann-Whitney Test** <br>\n",
        "(Comparision of two independent samples)  <br>\n",
        "\n",
        "Null Hypothesis: There is no significant difference in Annual Incomes with Attrition- Yes and Attrition-No\n",
        "\n",
        "Alternate Hypothesis: There is significant difference in Annual Incomes with Attrition- Yes and Attrition-No\n"
      ]
    },
    {
      "cell_type": "code",
      "metadata": {
        "id": "ZmzrlxWCTxoW",
        "colab_type": "code",
        "colab": {
          "base_uri": "https://localhost:8080/",
          "height": 84
        },
        "outputId": "dffb2b83-a62b-464e-89c2-463ce7015eec"
      },
      "source": [
        "from scipy.stats import mannwhitneyu\n",
        "stat,p = mannwhitneyu(dfyes.MonthlyIncome,dfno.MonthlyIncome)\n",
        "\n",
        "print(\"stat = \",stat,\"p =\",p)\n",
        "\n",
        "print(\"Conculsion:\")\n",
        "\n",
        "if p<0.05:\n",
        "  print(\"p<0.05, Null Hypothesis is rejected! \\n There is significant difference in Annual Incomes with Attrition- Yes and Attrition-No\")\n",
        "else:\n",
        "  print(\"p>0.05, Null Hypothesis is accepted! \\n There is no significant difference in Annual Incomes with Attrition- Yes and Attrition-No\")"
      ],
      "execution_count": 91,
      "outputs": [
        {
          "output_type": "stream",
          "text": [
            "stat =  1264900.5 p = 0.053577283839938566\n",
            "Conculsion:\n",
            "p>0.05, Null Hypothesis is accepted! \n",
            " There is no significant difference in Annual Incomes with Attrition- Yes and Attrition-No\n"
          ],
          "name": "stdout"
        }
      ]
    },
    {
      "cell_type": "markdown",
      "metadata": {
        "id": "Gir9h04ftVk9",
        "colab_type": "text"
      },
      "source": [
        "## **Kurskhal-wallis Test** <br>\n",
        "(Comparision of more than two independent samples)  <br>\n",
        "\n",
        "Null Hypothesis: There is no significant difference in Distance from Home\n",
        " with marital status (Married, single and Divorced associates)\n",
        "\n",
        "Alternate Hypothesis: There is significant difference in Distance from Home with marital status (Married, single and Divorced associates)"
      ]
    },
    {
      "cell_type": "code",
      "metadata": {
        "id": "aZ9qke9TdU5w",
        "colab_type": "code",
        "colab": {
          "base_uri": "https://localhost:8080/",
          "height": 84
        },
        "outputId": "35bd83a6-42c7-4628-df85-33feae327608"
      },
      "source": [
        "from scipy.stats import kruskal\n",
        "\n",
        "stat,p =kruskal(dfsingle.DistanceFromHome,dfmarried.DistanceFromHome,dfdivorce.DistanceFromHome)\n",
        "\n",
        "print(\"stat = \",stat,\"p =\",p)\n",
        "\n",
        "print(\"Conculsion:\")\n",
        "\n",
        "if p<0.05:\n",
        "  print(\"p<0.05, Null Hypothesis is rejected! \\n There is significant difference in Distance from Home with marital status (Married, single and Divorced associates)\")\n",
        "else:\n",
        "  print(\"p>0.05, Null Hypothesis is accepted! \\n There is no significant difference in Distance from Home with marital status (Married, single and Divorced associates)\")"
      ],
      "execution_count": 92,
      "outputs": [
        {
          "output_type": "stream",
          "text": [
            "stat =  9.467930759090601 p = 0.008791540035126109\n",
            "Conculsion:\n",
            "p<0.05, Null Hypothesis is rejected! \n",
            " There is significant difference in Distance from Home with marital status (Married, single and Divorced associates)\n"
          ],
          "name": "stdout"
        }
      ]
    },
    {
      "cell_type": "markdown",
      "metadata": {
        "id": "RH27TWxA7OZv",
        "colab_type": "text"
      },
      "source": [
        "## **Chi- square Test** <br>\n",
        "(Checking dependency of 3 categorical variables) <br>\n",
        "Null Hypothesis: There is no significant dependency between Attrition and Gender of Associates  <br> \n",
        "\n",
        "Alternate Hypothesis: There is significant dependency between Attrition and Gender of Associates  <br> "
      ]
    },
    {
      "cell_type": "code",
      "metadata": {
        "id": "dZJBZupqtV9n",
        "colab_type": "code",
        "colab": {
          "base_uri": "https://localhost:8080/",
          "height": 84
        },
        "outputId": "5d7130a9-4392-4e16-b841-0ddbd0d03395"
      },
      "source": [
        "from scipy.stats import chi2_contingency\n",
        "\n",
        "chitable = pd.crosstab(dfmale.Attrition,dffemale.Attrition)\n",
        "stats,p,dof,expected = chi2_contingency(chitable)\n",
        "\n",
        "print(\"stats = \",stats,\"p =\",p)\n",
        "\n",
        "print(\"Conculsion:\")\n",
        "\n",
        "if p<0.05:\n",
        "  print(\"p<0.05, Null Hypothesis is rejected! \\n There is significant dependency between Attrition and Gender of Associates\")\n",
        "else:\n",
        "  print(\"p>0.05, Null Hypothesis is accepted! \\n There is no significant dependency between Attrition and Gender of Associates\")"
      ],
      "execution_count": 93,
      "outputs": [
        {
          "output_type": "stream",
          "text": [
            "stats =  4402.608354144141 p = 0.0\n",
            "Conculsion:\n",
            "p<0.05, Null Hypothesis is rejected! \n",
            " There is significant dependency between Attrition and Gender of Associates\n"
          ],
          "name": "stdout"
        }
      ]
    },
    {
      "cell_type": "markdown",
      "metadata": {
        "id": "nDis5BCH71h3",
        "colab_type": "text"
      },
      "source": [
        "## **Parametric Test:**"
      ]
    },
    {
      "cell_type": "markdown",
      "metadata": {
        "colab_type": "text",
        "id": "m48bIgYlvasp"
      },
      "source": [
        "## **Two sample independent t test** <br>\n",
        "(Compare the mean of two independent samples)\n",
        "\n",
        "Null Hypothesis: There is no significant differences in the Distance From Home between attrition (Y) and attirition (N)  <br> \n",
        "\n",
        "Alternate Hypothesis: There is significant differences in the Distance From Home between attrition (Y) and attirition (N)  <br> "
      ]
    },
    {
      "cell_type": "code",
      "metadata": {
        "id": "kPWOkpqsnUwR",
        "colab_type": "code",
        "colab": {
          "base_uri": "https://localhost:8080/",
          "height": 84
        },
        "outputId": "bba3bc2f-95a4-4d30-d358-a7d659ed9617"
      },
      "source": [
        "from scipy.stats import ttest_ind\n",
        "stats, p = ttest_ind(dfyes.MonthlyIncome,dfno.MonthlyIncome)\n",
        "\n",
        "print(\"stats = \",stats,\"p =\",p)\n",
        "\n",
        "print(\"Conculsion:\")\n",
        "\n",
        "if p<0.05:\n",
        "  print(\"p<0.05, Null Hypothesis is rejected! \\n There is significant difference in Distance From Home with Attrition- Yes and Attrition-No\")\n",
        "else:\n",
        "  print(\"p>0.05, Null Hypothesis is accepted! \\n There is no significant difference in Distance From Home with Attrition- Yes and Attrition-No\")"
      ],
      "execution_count": 94,
      "outputs": [
        {
          "output_type": "stream",
          "text": [
            "stats =  -2.0708863763619316 p = 0.03842748490605113\n",
            "Conculsion:\n",
            "p<0.05, Null Hypothesis is rejected! \n",
            " There is significant difference in Distance From Home with Attrition- Yes and Attrition-No\n"
          ],
          "name": "stdout"
        }
      ]
    },
    {
      "cell_type": "markdown",
      "metadata": {
        "id": "7Nl8YAQJ1FWj",
        "colab_type": "text"
      },
      "source": [
        "#**Summary**: "
      ]
    },
    {
      "cell_type": "markdown",
      "metadata": {
        "id": "4GxbSTKn9lYe",
        "colab_type": "text"
      },
      "source": [
        "•\tThere are many outliers observed in Monthly Income and Years at Company, but Age of associates is evenly distributed. <br>\n",
        "•\tCorrelation Hypothesis testing results shows that there is significant correlation between Age, Income, Total Working years, Year at company, Training times last year, Years since last promotion, Years with current manager, Number of companies worked. <br>\n",
        "and there is no Correlation with Gender and Distance from Home. <br>\n",
        "•\tThrough, Hypothesis testing it is observed that there is no significant difference in Annual Incomes in Associates with and without Attrition. However, there is significant dependency between gender and Attrition.<br>\n",
        "•\tUsing parametric test, it is observed that there is significant difference in Distance from Home in Associates with and without Attrition.<br>\n"
      ]
    },
    {
      "cell_type": "code",
      "metadata": {
        "id": "rssH14Pe9qA6",
        "colab_type": "code",
        "colab": {}
      },
      "source": [
        ""
      ],
      "execution_count": null,
      "outputs": []
    }
  ]
}