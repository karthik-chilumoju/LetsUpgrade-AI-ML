{
 "cells": [
  {
   "cell_type": "markdown",
   "metadata": {},
   "source": [
    "### Question 1:\n",
    "Assuming that we have some email addresses in the \"username@companyname.com\" format, please write program to print the company name of a given email address. Both user names and company names are composed of letters only."
   ]
  },
  {
   "cell_type": "code",
   "execution_count": 20,
   "metadata": {},
   "outputs": [
    {
     "name": "stdout",
     "output_type": "stream",
     "text": [
      "Please enter a Email ID containing letters only:\n",
      " steve.jobs@apple.com\n",
      "company name: \n",
      " apple\n"
     ]
    }
   ],
   "source": [
    "str = input(\"Please enter a Email ID containing letters only:\\n \")\n",
    "\n",
    "str1 = str.split('@')\n",
    "\n",
    "str2 = str1[1].split('.')\n",
    "\n",
    "comp = str2[0]\n",
    "print(\"company name: \\n {}\".format(comp))"
   ]
  },
  {
   "cell_type": "markdown",
   "metadata": {},
   "source": [
    "### Question 2:\n",
    "Write a program that accepts a comma-separated sequence of words as input and prints the words in a comma\n",
    "separated sequence after sorting them alphabetically."
   ]
  },
  {
   "cell_type": "code",
   "execution_count": 40,
   "metadata": {},
   "outputs": [
    {
     "name": "stdout",
     "output_type": "stream",
     "text": [
      "Enter the Sequence words with comma serpartion: \n",
      "india,france,england,italy\n",
      "Sorted words:\n",
      "england,france,india,italy,"
     ]
    }
   ],
   "source": [
    "ip = input(\"Enter the Sequence words with comma serpartion: \\n\").split(\",\")\n",
    "                                                                       \n",
    "ip.sort()\n",
    "print(\"Sorted words:\")\n",
    "for i in ip:\n",
    "    print(i,end=(\",\"))"
   ]
  },
  {
   "cell_type": "markdown",
   "metadata": {},
   "source": [
    "### Question 3:\n",
    "Create your own Jupyter Notebook for Sets."
   ]
  },
  {
   "cell_type": "code",
   "execution_count": 37,
   "metadata": {},
   "outputs": [
    {
     "name": "stdout",
     "output_type": "stream",
     "text": [
      "{'cherry', 'banana', 'apple'}\n"
     ]
    }
   ],
   "source": [
    "# A set is a collection which is unordered and unindexed. \n",
    "# In Python sets are written with curly brackets.\n",
    "# Sets are immutable\n",
    "\n",
    "set = {\"apple\",\"banana\",\"cherry\"}\n",
    "print(set)"
   ]
  },
  {
   "cell_type": "code",
   "execution_count": 41,
   "metadata": {},
   "outputs": [
    {
     "name": "stdout",
     "output_type": "stream",
     "text": [
      "cherry\n",
      "banana\n",
      "apple\n"
     ]
    }
   ],
   "source": [
    "# Accessing items in the set\n",
    "\n",
    "for x in set:\n",
    "    print(x)"
   ]
  },
  {
   "cell_type": "code",
   "execution_count": 42,
   "metadata": {},
   "outputs": [
    {
     "name": "stdout",
     "output_type": "stream",
     "text": [
      "{'cherry', 'orange', 'banana', 'apple'}\n"
     ]
    }
   ],
   "source": [
    "# Adding items\n",
    "\n",
    "set = {\"apple\", \"banana\", \"cherry\"}\n",
    "\n",
    "set.add(\"orange\")\n",
    "\n",
    "print(set)"
   ]
  },
  {
   "cell_type": "code",
   "execution_count": 55,
   "metadata": {},
   "outputs": [
    {
     "name": "stdout",
     "output_type": "stream",
     "text": [
      "{'orange', 'banana', 'mango', 'apple', 'cherry', 'grapes'}\n",
      "6\n",
      "{'orange', 'mango', 'apple', 'cherry', 'grapes'}\n",
      "{'orange', 'mango', 'apple', 'cherry', 'grapes'}\n",
      "orange\n",
      "{'mango', 'apple', 'cherry', 'grapes'}\n",
      "set()\n",
      "{1, 'c', 2, 3, 'a', 'b'}\n"
     ]
    },
    {
     "ename": "NameError",
     "evalue": "name 'set1' is not defined",
     "output_type": "error",
     "traceback": [
      "\u001b[1;31m---------------------------------------------------------------------------\u001b[0m",
      "\u001b[1;31mNameError\u001b[0m                                 Traceback (most recent call last)",
      "\u001b[1;32m<ipython-input-55-5d904d4d8a33>\u001b[0m in \u001b[0;36m<module>\u001b[1;34m\u001b[0m\n\u001b[0;32m     39\u001b[0m \u001b[1;33m\u001b[0m\u001b[0m\n\u001b[0;32m     40\u001b[0m \u001b[1;32mdel\u001b[0m \u001b[0mset1\u001b[0m\u001b[1;33m\u001b[0m\u001b[1;33m\u001b[0m\u001b[0m\n\u001b[1;32m---> 41\u001b[1;33m \u001b[0mprint\u001b[0m\u001b[1;33m(\u001b[0m\u001b[0mset1\u001b[0m\u001b[1;33m)\u001b[0m\u001b[1;33m\u001b[0m\u001b[1;33m\u001b[0m\u001b[0m\n\u001b[0m",
      "\u001b[1;31mNameError\u001b[0m: name 'set1' is not defined"
     ]
    }
   ],
   "source": [
    "# Adding multiple items to set\n",
    "\n",
    "set = {\"apple\", \"banana\", \"cherry\"}\n",
    "\n",
    "set.update([\"orange\", \"mango\", \"grapes\"])\n",
    "\n",
    "print(set)\n",
    "\n",
    "# length of a set\n",
    "print(len(set))\n",
    "\n",
    "# remove item\n",
    "set.remove(\"banana\")\n",
    "print(set)\n",
    "\n",
    "# remove item will raise an error if item to be removed does not exist\n",
    "# hence discard function is used.\n",
    "set.discard(\"banana\")\n",
    "print(set)\n",
    "\n",
    "# to remove the last item in Set\n",
    "x = set.pop()\n",
    "print(x)\n",
    "print(set)\n",
    "\n",
    "# empty the set\n",
    "set.clear()\n",
    "print(set)\n",
    "\n",
    "# join the two sets\n",
    "\n",
    "set1 = {\"a\", \"b\" , \"c\"}\n",
    "set2 = {1, 2, 3}\n",
    "\n",
    "set3 = set1.union(set2)\n",
    "print(set3)\n",
    "\n",
    "# to delete the set use del keyword\n",
    "\n",
    "del set1\n",
    "print(set1)\n",
    "\n",
    "# Error \"name 'set1' is not defined\" results !!!!"
   ]
  },
  {
   "cell_type": "markdown",
   "metadata": {},
   "source": [
    "### Question 4:\n",
    "Given a list of n-1 numbers ranging from 1 to n, your task is to find the missing number. There are no duplicates."
   ]
  },
  {
   "cell_type": "code",
   "execution_count": 41,
   "metadata": {},
   "outputs": [
    {
     "name": "stdout",
     "output_type": "stream",
     "text": [
      "List of numbers: 1 2 4 6 3 7 8\n",
      "Missing number in the series is:  5\n"
     ]
    }
   ],
   "source": [
    "l = '1 2 4 6 3 7 8'\n",
    "print(\"List of numbers:\",l)\n",
    "\n",
    "l = l.split(\" \")\n",
    "l = [int(i) for i in l] \n",
    "\n",
    "n = max(l)\n",
    "\n",
    "suma = (n*(n+1))/2\n",
    "sumn = 0\n",
    "\n",
    "for i in l:\n",
    "    sumn = sumn+i\n",
    "\n",
    "miss = int(suma-sumn)\n",
    "\n",
    "print(\"Missing number in the series is: \",miss)\n"
   ]
  },
  {
   "cell_type": "markdown",
   "metadata": {},
   "source": [
    "### Question 5:\n",
    "With a given list L, write a program to print this list L after removing all duplicate values with original order reserved."
   ]
  },
  {
   "cell_type": "code",
   "execution_count": 1,
   "metadata": {},
   "outputs": [
    {
     "name": "stdout",
     "output_type": "stream",
     "text": [
      "Please enter set of numbers:12 24 35 24 88 120 155 88 120 155\n",
      "Sorted numbers without duplicates:\n",
      "12 24 35 88 120 155 "
     ]
    }
   ],
   "source": [
    "ip = input(\"Please enter set of numbers:\")\n",
    "\n",
    "l = ip.split(\" \")\n",
    "\n",
    "length1 = len(l)\n",
    "\n",
    "for i in range(0,length1):\n",
    "    l[i] = int(l[i])\n",
    "\n",
    "l.sort()\n",
    "\n",
    "l2 = []\n",
    "\n",
    "for i in l:\n",
    "    \n",
    "    if i not in l2: \n",
    "            l2.append(i) \n",
    "\n",
    "print(\"Sorted numbers without duplicates:\")\n",
    "\n",
    "length2 = len(l2)\n",
    "\n",
    "for i in range(0,length2):\n",
    "    print(l2[i],end=\" \")"
   ]
  }
 ],
 "metadata": {
  "kernelspec": {
   "display_name": "Python 3",
   "language": "python",
   "name": "python3"
  },
  "language_info": {
   "codemirror_mode": {
    "name": "ipython",
    "version": 3
   },
   "file_extension": ".py",
   "mimetype": "text/x-python",
   "name": "python",
   "nbconvert_exporter": "python",
   "pygments_lexer": "ipython3",
   "version": "3.7.6"
  }
 },
 "nbformat": 4,
 "nbformat_minor": 4
}
