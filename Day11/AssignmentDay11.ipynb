{
  "nbformat": 4,
  "nbformat_minor": 0,
  "metadata": {
    "colab": {
      "name": "AssignmentDay11.ipynb",
      "provenance": [],
      "collapsed_sections": [
        "JapkZK5ykIDr",
        "nRwbbJgjsajm",
        "Gir9h04ftVk9",
        "hgGCJ1cFt5L0",
        "FlbMnZIvwBg2",
        "GIwJkDNyxF8t",
        "_RUyypy1x6cX",
        "Uy0Epb3MyIY2",
        "WWJ3oL7SyXfd",
        "OZT_RWodyoAn"
      ],
      "toc_visible": true
    },
    "kernelspec": {
      "name": "python3",
      "display_name": "Python 3"
    }
  },
  "cells": [
    {
      "cell_type": "code",
      "metadata": {
        "id": "i-77NXf5fJ4L",
        "colab_type": "code",
        "colab": {}
      },
      "source": [
        "import pandas as pd\n",
        "import numpy as np\n",
        "import matplotlib.pyplot as plt"
      ],
      "execution_count": null,
      "outputs": []
    },
    {
      "cell_type": "code",
      "metadata": {
        "id": "mytKPJvOfnjY",
        "colab_type": "code",
        "colab": {
          "base_uri": "https://localhost:8080/",
          "height": 537
        },
        "outputId": "602cb2bf-ef83-404e-e5d7-24a0708d1ca9"
      },
      "source": [
        "dataset = pd.read_csv(\"general_data.csv\")\n",
        "dataset.info()"
      ],
      "execution_count": null,
      "outputs": [
        {
          "output_type": "stream",
          "text": [
            "<class 'pandas.core.frame.DataFrame'>\n",
            "RangeIndex: 4410 entries, 0 to 4409\n",
            "Data columns (total 24 columns):\n",
            " #   Column                   Non-Null Count  Dtype  \n",
            "---  ------                   --------------  -----  \n",
            " 0   Age                      4410 non-null   int64  \n",
            " 1   Attrition                4410 non-null   object \n",
            " 2   BusinessTravel           4410 non-null   object \n",
            " 3   Department               4410 non-null   object \n",
            " 4   DistanceFromHome         4410 non-null   int64  \n",
            " 5   Education                4410 non-null   int64  \n",
            " 6   EducationField           4410 non-null   object \n",
            " 7   EmployeeCount            4410 non-null   int64  \n",
            " 8   EmployeeID               4410 non-null   int64  \n",
            " 9   Gender                   4410 non-null   object \n",
            " 10  JobLevel                 4410 non-null   int64  \n",
            " 11  JobRole                  4410 non-null   object \n",
            " 12  MaritalStatus            4410 non-null   object \n",
            " 13  MonthlyIncome            4410 non-null   int64  \n",
            " 14  NumCompaniesWorked       4391 non-null   float64\n",
            " 15  Over18                   4410 non-null   object \n",
            " 16  PercentSalaryHike        4410 non-null   int64  \n",
            " 17  StandardHours            4410 non-null   int64  \n",
            " 18  StockOptionLevel         4410 non-null   int64  \n",
            " 19  TotalWorkingYears        4401 non-null   float64\n",
            " 20  TrainingTimesLastYear    4410 non-null   int64  \n",
            " 21  YearsAtCompany           4410 non-null   int64  \n",
            " 22  YearsSinceLastPromotion  4410 non-null   int64  \n",
            " 23  YearsWithCurrManager     4410 non-null   int64  \n",
            "dtypes: float64(2), int64(14), object(8)\n",
            "memory usage: 827.0+ KB\n"
          ],
          "name": "stdout"
        }
      ]
    },
    {
      "cell_type": "markdown",
      "metadata": {
        "id": "9CDePFfQfXkL",
        "colab_type": "text"
      },
      "source": [
        "# Dataset and Data preparation:"
      ]
    },
    {
      "cell_type": "code",
      "metadata": {
        "id": "iA6RqlvrgKGr",
        "colab_type": "code",
        "colab": {
          "base_uri": "https://localhost:8080/",
          "height": 252
        },
        "outputId": "975692e4-e354-4743-f425-8199590162c1"
      },
      "source": [
        "dataset.dropna"
      ],
      "execution_count": null,
      "outputs": [
        {
          "output_type": "execute_result",
          "data": {
            "text/plain": [
              "<bound method DataFrame.dropna of       Age Attrition  ... YearsSinceLastPromotion YearsWithCurrManager\n",
              "0      51        No  ...                       0                    0\n",
              "1      31       Yes  ...                       1                    4\n",
              "2      32        No  ...                       0                    3\n",
              "3      38        No  ...                       7                    5\n",
              "4      32        No  ...                       0                    4\n",
              "...   ...       ...  ...                     ...                  ...\n",
              "4405   42        No  ...                       0                    2\n",
              "4406   29        No  ...                       0                    2\n",
              "4407   25        No  ...                       1                    2\n",
              "4408   42        No  ...                       7                    8\n",
              "4409   40        No  ...                       3                    9\n",
              "\n",
              "[4410 rows x 24 columns]>"
            ]
          },
          "metadata": {
            "tags": []
          },
          "execution_count": 34
        }
      ]
    },
    {
      "cell_type": "code",
      "metadata": {
        "id": "Fy42q6NZgU9v",
        "colab_type": "code",
        "colab": {
          "base_uri": "https://localhost:8080/",
          "height": 252
        },
        "outputId": "d3d5422a-0da5-45b1-a909-b6088f69c9a3"
      },
      "source": [
        "dataset.drop_duplicates"
      ],
      "execution_count": null,
      "outputs": [
        {
          "output_type": "execute_result",
          "data": {
            "text/plain": [
              "<bound method DataFrame.drop_duplicates of       Age Attrition  ... YearsSinceLastPromotion YearsWithCurrManager\n",
              "0      51        No  ...                       0                    0\n",
              "1      31       Yes  ...                       1                    4\n",
              "2      32        No  ...                       0                    3\n",
              "3      38        No  ...                       7                    5\n",
              "4      32        No  ...                       0                    4\n",
              "...   ...       ...  ...                     ...                  ...\n",
              "4405   42        No  ...                       0                    2\n",
              "4406   29        No  ...                       0                    2\n",
              "4407   25        No  ...                       1                    2\n",
              "4408   42        No  ...                       7                    8\n",
              "4409   40        No  ...                       3                    9\n",
              "\n",
              "[4410 rows x 24 columns]>"
            ]
          },
          "metadata": {
            "tags": []
          },
          "execution_count": 35
        }
      ]
    },
    {
      "cell_type": "code",
      "metadata": {
        "id": "fxgj61yBuU89",
        "colab_type": "code",
        "colab": {}
      },
      "source": [
        "dataset = dataset[~dataset['TotalWorkingYears'].isin(['NaN'])]\n",
        "dataset = dataset[~dataset['NumCompaniesWorked'].isin(['NaN'])]"
      ],
      "execution_count": null,
      "outputs": []
    },
    {
      "cell_type": "code",
      "metadata": {
        "id": "YYchmTZiiI6C",
        "colab_type": "code",
        "colab": {
          "base_uri": "https://localhost:8080/",
          "height": 277
        },
        "outputId": "941cc7cb-328d-4d92-9c37-314227a5338a"
      },
      "source": [
        "summary= dataset[['Age','DistanceFromHome','MonthlyIncome','StandardHours','PercentSalaryHike','TotalWorkingYears','NumCompaniesWorked','TrainingTimesLastYear','YearsSinceLastPromotion','YearsWithCurrManager','YearsAtCompany']].describe()\n",
        "summary"
      ],
      "execution_count": null,
      "outputs": [
        {
          "output_type": "execute_result",
          "data": {
            "text/html": [
              "<div>\n",
              "<style scoped>\n",
              "    .dataframe tbody tr th:only-of-type {\n",
              "        vertical-align: middle;\n",
              "    }\n",
              "\n",
              "    .dataframe tbody tr th {\n",
              "        vertical-align: top;\n",
              "    }\n",
              "\n",
              "    .dataframe thead th {\n",
              "        text-align: right;\n",
              "    }\n",
              "</style>\n",
              "<table border=\"1\" class=\"dataframe\">\n",
              "  <thead>\n",
              "    <tr style=\"text-align: right;\">\n",
              "      <th></th>\n",
              "      <th>Age</th>\n",
              "      <th>DistanceFromHome</th>\n",
              "      <th>MonthlyIncome</th>\n",
              "      <th>StandardHours</th>\n",
              "      <th>PercentSalaryHike</th>\n",
              "      <th>TotalWorkingYears</th>\n",
              "      <th>NumCompaniesWorked</th>\n",
              "      <th>TrainingTimesLastYear</th>\n",
              "      <th>YearsSinceLastPromotion</th>\n",
              "      <th>YearsWithCurrManager</th>\n",
              "      <th>YearsAtCompany</th>\n",
              "    </tr>\n",
              "  </thead>\n",
              "  <tbody>\n",
              "    <tr>\n",
              "      <th>count</th>\n",
              "      <td>4401.000000</td>\n",
              "      <td>4401.000000</td>\n",
              "      <td>4401.000000</td>\n",
              "      <td>4401.0</td>\n",
              "      <td>4401.000000</td>\n",
              "      <td>4401.000000</td>\n",
              "      <td>4382.000000</td>\n",
              "      <td>4401.000000</td>\n",
              "      <td>4401.000000</td>\n",
              "      <td>4401.000000</td>\n",
              "      <td>4401.000000</td>\n",
              "    </tr>\n",
              "    <tr>\n",
              "      <th>mean</th>\n",
              "      <td>36.920473</td>\n",
              "      <td>9.190184</td>\n",
              "      <td>65029.057032</td>\n",
              "      <td>8.0</td>\n",
              "      <td>15.207453</td>\n",
              "      <td>11.279936</td>\n",
              "      <td>2.693291</td>\n",
              "      <td>2.798228</td>\n",
              "      <td>2.188366</td>\n",
              "      <td>4.122927</td>\n",
              "      <td>7.003636</td>\n",
              "    </tr>\n",
              "    <tr>\n",
              "      <th>std</th>\n",
              "      <td>9.139377</td>\n",
              "      <td>8.102578</td>\n",
              "      <td>47076.746976</td>\n",
              "      <td>0.0</td>\n",
              "      <td>3.659222</td>\n",
              "      <td>7.782222</td>\n",
              "      <td>2.497832</td>\n",
              "      <td>1.288483</td>\n",
              "      <td>3.221407</td>\n",
              "      <td>3.568056</td>\n",
              "      <td>6.123315</td>\n",
              "    </tr>\n",
              "    <tr>\n",
              "      <th>min</th>\n",
              "      <td>18.000000</td>\n",
              "      <td>1.000000</td>\n",
              "      <td>10090.000000</td>\n",
              "      <td>8.0</td>\n",
              "      <td>11.000000</td>\n",
              "      <td>0.000000</td>\n",
              "      <td>0.000000</td>\n",
              "      <td>0.000000</td>\n",
              "      <td>0.000000</td>\n",
              "      <td>0.000000</td>\n",
              "      <td>0.000000</td>\n",
              "    </tr>\n",
              "    <tr>\n",
              "      <th>25%</th>\n",
              "      <td>30.000000</td>\n",
              "      <td>2.000000</td>\n",
              "      <td>29110.000000</td>\n",
              "      <td>8.0</td>\n",
              "      <td>12.000000</td>\n",
              "      <td>6.000000</td>\n",
              "      <td>1.000000</td>\n",
              "      <td>2.000000</td>\n",
              "      <td>0.000000</td>\n",
              "      <td>2.000000</td>\n",
              "      <td>3.000000</td>\n",
              "    </tr>\n",
              "    <tr>\n",
              "      <th>50%</th>\n",
              "      <td>36.000000</td>\n",
              "      <td>7.000000</td>\n",
              "      <td>49080.000000</td>\n",
              "      <td>8.0</td>\n",
              "      <td>14.000000</td>\n",
              "      <td>10.000000</td>\n",
              "      <td>2.000000</td>\n",
              "      <td>3.000000</td>\n",
              "      <td>1.000000</td>\n",
              "      <td>3.000000</td>\n",
              "      <td>5.000000</td>\n",
              "    </tr>\n",
              "    <tr>\n",
              "      <th>75%</th>\n",
              "      <td>43.000000</td>\n",
              "      <td>14.000000</td>\n",
              "      <td>83800.000000</td>\n",
              "      <td>8.0</td>\n",
              "      <td>18.000000</td>\n",
              "      <td>15.000000</td>\n",
              "      <td>4.000000</td>\n",
              "      <td>3.000000</td>\n",
              "      <td>3.000000</td>\n",
              "      <td>7.000000</td>\n",
              "      <td>9.000000</td>\n",
              "    </tr>\n",
              "    <tr>\n",
              "      <th>max</th>\n",
              "      <td>60.000000</td>\n",
              "      <td>29.000000</td>\n",
              "      <td>199990.000000</td>\n",
              "      <td>8.0</td>\n",
              "      <td>25.000000</td>\n",
              "      <td>40.000000</td>\n",
              "      <td>9.000000</td>\n",
              "      <td>6.000000</td>\n",
              "      <td>15.000000</td>\n",
              "      <td>17.000000</td>\n",
              "      <td>40.000000</td>\n",
              "    </tr>\n",
              "  </tbody>\n",
              "</table>\n",
              "</div>"
            ],
            "text/plain": [
              "               Age  DistanceFromHome  ...  YearsWithCurrManager  YearsAtCompany\n",
              "count  4401.000000       4401.000000  ...           4401.000000     4401.000000\n",
              "mean     36.920473          9.190184  ...              4.122927        7.003636\n",
              "std       9.139377          8.102578  ...              3.568056        6.123315\n",
              "min      18.000000          1.000000  ...              0.000000        0.000000\n",
              "25%      30.000000          2.000000  ...              2.000000        3.000000\n",
              "50%      36.000000          7.000000  ...              3.000000        5.000000\n",
              "75%      43.000000         14.000000  ...              7.000000        9.000000\n",
              "max      60.000000         29.000000  ...             17.000000       40.000000\n",
              "\n",
              "[8 rows x 11 columns]"
            ]
          },
          "metadata": {
            "tags": []
          },
          "execution_count": 37
        }
      ]
    },
    {
      "cell_type": "code",
      "metadata": {
        "id": "yjKln0vRq5nH",
        "colab_type": "code",
        "colab": {
          "base_uri": "https://localhost:8080/",
          "height": 664
        },
        "outputId": "8ded46a3-4363-4ff7-fc76-426137daf0f7"
      },
      "source": [
        "dataset.replace(('Yes', 'No'), (1, 0), inplace=True)\n",
        "dataset.replace(('Male', 'Female'), (1, 0), inplace=True)\n",
        "dataset"
      ],
      "execution_count": null,
      "outputs": [
        {
          "output_type": "stream",
          "text": [
            "/usr/local/lib/python3.6/dist-packages/pandas/core/frame.py:4172: SettingWithCopyWarning: \n",
            "A value is trying to be set on a copy of a slice from a DataFrame\n",
            "\n",
            "See the caveats in the documentation: https://pandas.pydata.org/pandas-docs/stable/user_guide/indexing.html#returning-a-view-versus-a-copy\n",
            "  method=method,\n"
          ],
          "name": "stderr"
        },
        {
          "output_type": "execute_result",
          "data": {
            "text/html": [
              "<div>\n",
              "<style scoped>\n",
              "    .dataframe tbody tr th:only-of-type {\n",
              "        vertical-align: middle;\n",
              "    }\n",
              "\n",
              "    .dataframe tbody tr th {\n",
              "        vertical-align: top;\n",
              "    }\n",
              "\n",
              "    .dataframe thead th {\n",
              "        text-align: right;\n",
              "    }\n",
              "</style>\n",
              "<table border=\"1\" class=\"dataframe\">\n",
              "  <thead>\n",
              "    <tr style=\"text-align: right;\">\n",
              "      <th></th>\n",
              "      <th>Age</th>\n",
              "      <th>Attrition</th>\n",
              "      <th>BusinessTravel</th>\n",
              "      <th>Department</th>\n",
              "      <th>DistanceFromHome</th>\n",
              "      <th>Education</th>\n",
              "      <th>EducationField</th>\n",
              "      <th>EmployeeCount</th>\n",
              "      <th>EmployeeID</th>\n",
              "      <th>Gender</th>\n",
              "      <th>JobLevel</th>\n",
              "      <th>JobRole</th>\n",
              "      <th>MaritalStatus</th>\n",
              "      <th>MonthlyIncome</th>\n",
              "      <th>NumCompaniesWorked</th>\n",
              "      <th>Over18</th>\n",
              "      <th>PercentSalaryHike</th>\n",
              "      <th>StandardHours</th>\n",
              "      <th>StockOptionLevel</th>\n",
              "      <th>TotalWorkingYears</th>\n",
              "      <th>TrainingTimesLastYear</th>\n",
              "      <th>YearsAtCompany</th>\n",
              "      <th>YearsSinceLastPromotion</th>\n",
              "      <th>YearsWithCurrManager</th>\n",
              "    </tr>\n",
              "  </thead>\n",
              "  <tbody>\n",
              "    <tr>\n",
              "      <th>0</th>\n",
              "      <td>51</td>\n",
              "      <td>0</td>\n",
              "      <td>Travel_Rarely</td>\n",
              "      <td>Sales</td>\n",
              "      <td>6</td>\n",
              "      <td>2</td>\n",
              "      <td>Life Sciences</td>\n",
              "      <td>1</td>\n",
              "      <td>1</td>\n",
              "      <td>0</td>\n",
              "      <td>1</td>\n",
              "      <td>Healthcare Representative</td>\n",
              "      <td>Married</td>\n",
              "      <td>131160</td>\n",
              "      <td>1.0</td>\n",
              "      <td>Y</td>\n",
              "      <td>11</td>\n",
              "      <td>8</td>\n",
              "      <td>0</td>\n",
              "      <td>1.0</td>\n",
              "      <td>6</td>\n",
              "      <td>1</td>\n",
              "      <td>0</td>\n",
              "      <td>0</td>\n",
              "    </tr>\n",
              "    <tr>\n",
              "      <th>1</th>\n",
              "      <td>31</td>\n",
              "      <td>1</td>\n",
              "      <td>Travel_Frequently</td>\n",
              "      <td>Research &amp; Development</td>\n",
              "      <td>10</td>\n",
              "      <td>1</td>\n",
              "      <td>Life Sciences</td>\n",
              "      <td>1</td>\n",
              "      <td>2</td>\n",
              "      <td>0</td>\n",
              "      <td>1</td>\n",
              "      <td>Research Scientist</td>\n",
              "      <td>Single</td>\n",
              "      <td>41890</td>\n",
              "      <td>0.0</td>\n",
              "      <td>Y</td>\n",
              "      <td>23</td>\n",
              "      <td>8</td>\n",
              "      <td>1</td>\n",
              "      <td>6.0</td>\n",
              "      <td>3</td>\n",
              "      <td>5</td>\n",
              "      <td>1</td>\n",
              "      <td>4</td>\n",
              "    </tr>\n",
              "    <tr>\n",
              "      <th>2</th>\n",
              "      <td>32</td>\n",
              "      <td>0</td>\n",
              "      <td>Travel_Frequently</td>\n",
              "      <td>Research &amp; Development</td>\n",
              "      <td>17</td>\n",
              "      <td>4</td>\n",
              "      <td>Other</td>\n",
              "      <td>1</td>\n",
              "      <td>3</td>\n",
              "      <td>1</td>\n",
              "      <td>4</td>\n",
              "      <td>Sales Executive</td>\n",
              "      <td>Married</td>\n",
              "      <td>193280</td>\n",
              "      <td>1.0</td>\n",
              "      <td>Y</td>\n",
              "      <td>15</td>\n",
              "      <td>8</td>\n",
              "      <td>3</td>\n",
              "      <td>5.0</td>\n",
              "      <td>2</td>\n",
              "      <td>5</td>\n",
              "      <td>0</td>\n",
              "      <td>3</td>\n",
              "    </tr>\n",
              "    <tr>\n",
              "      <th>3</th>\n",
              "      <td>38</td>\n",
              "      <td>0</td>\n",
              "      <td>Non-Travel</td>\n",
              "      <td>Research &amp; Development</td>\n",
              "      <td>2</td>\n",
              "      <td>5</td>\n",
              "      <td>Life Sciences</td>\n",
              "      <td>1</td>\n",
              "      <td>4</td>\n",
              "      <td>1</td>\n",
              "      <td>3</td>\n",
              "      <td>Human Resources</td>\n",
              "      <td>Married</td>\n",
              "      <td>83210</td>\n",
              "      <td>3.0</td>\n",
              "      <td>Y</td>\n",
              "      <td>11</td>\n",
              "      <td>8</td>\n",
              "      <td>3</td>\n",
              "      <td>13.0</td>\n",
              "      <td>5</td>\n",
              "      <td>8</td>\n",
              "      <td>7</td>\n",
              "      <td>5</td>\n",
              "    </tr>\n",
              "    <tr>\n",
              "      <th>4</th>\n",
              "      <td>32</td>\n",
              "      <td>0</td>\n",
              "      <td>Travel_Rarely</td>\n",
              "      <td>Research &amp; Development</td>\n",
              "      <td>10</td>\n",
              "      <td>1</td>\n",
              "      <td>Medical</td>\n",
              "      <td>1</td>\n",
              "      <td>5</td>\n",
              "      <td>1</td>\n",
              "      <td>1</td>\n",
              "      <td>Sales Executive</td>\n",
              "      <td>Single</td>\n",
              "      <td>23420</td>\n",
              "      <td>4.0</td>\n",
              "      <td>Y</td>\n",
              "      <td>12</td>\n",
              "      <td>8</td>\n",
              "      <td>2</td>\n",
              "      <td>9.0</td>\n",
              "      <td>2</td>\n",
              "      <td>6</td>\n",
              "      <td>0</td>\n",
              "      <td>4</td>\n",
              "    </tr>\n",
              "    <tr>\n",
              "      <th>...</th>\n",
              "      <td>...</td>\n",
              "      <td>...</td>\n",
              "      <td>...</td>\n",
              "      <td>...</td>\n",
              "      <td>...</td>\n",
              "      <td>...</td>\n",
              "      <td>...</td>\n",
              "      <td>...</td>\n",
              "      <td>...</td>\n",
              "      <td>...</td>\n",
              "      <td>...</td>\n",
              "      <td>...</td>\n",
              "      <td>...</td>\n",
              "      <td>...</td>\n",
              "      <td>...</td>\n",
              "      <td>...</td>\n",
              "      <td>...</td>\n",
              "      <td>...</td>\n",
              "      <td>...</td>\n",
              "      <td>...</td>\n",
              "      <td>...</td>\n",
              "      <td>...</td>\n",
              "      <td>...</td>\n",
              "      <td>...</td>\n",
              "    </tr>\n",
              "    <tr>\n",
              "      <th>4404</th>\n",
              "      <td>29</td>\n",
              "      <td>0</td>\n",
              "      <td>Travel_Rarely</td>\n",
              "      <td>Sales</td>\n",
              "      <td>4</td>\n",
              "      <td>3</td>\n",
              "      <td>Other</td>\n",
              "      <td>1</td>\n",
              "      <td>4405</td>\n",
              "      <td>0</td>\n",
              "      <td>2</td>\n",
              "      <td>Human Resources</td>\n",
              "      <td>Single</td>\n",
              "      <td>35390</td>\n",
              "      <td>1.0</td>\n",
              "      <td>Y</td>\n",
              "      <td>18</td>\n",
              "      <td>8</td>\n",
              "      <td>0</td>\n",
              "      <td>6.0</td>\n",
              "      <td>2</td>\n",
              "      <td>6</td>\n",
              "      <td>1</td>\n",
              "      <td>5</td>\n",
              "    </tr>\n",
              "    <tr>\n",
              "      <th>4405</th>\n",
              "      <td>42</td>\n",
              "      <td>0</td>\n",
              "      <td>Travel_Rarely</td>\n",
              "      <td>Research &amp; Development</td>\n",
              "      <td>5</td>\n",
              "      <td>4</td>\n",
              "      <td>Medical</td>\n",
              "      <td>1</td>\n",
              "      <td>4406</td>\n",
              "      <td>0</td>\n",
              "      <td>1</td>\n",
              "      <td>Research Scientist</td>\n",
              "      <td>Single</td>\n",
              "      <td>60290</td>\n",
              "      <td>3.0</td>\n",
              "      <td>Y</td>\n",
              "      <td>17</td>\n",
              "      <td>8</td>\n",
              "      <td>1</td>\n",
              "      <td>10.0</td>\n",
              "      <td>5</td>\n",
              "      <td>3</td>\n",
              "      <td>0</td>\n",
              "      <td>2</td>\n",
              "    </tr>\n",
              "    <tr>\n",
              "      <th>4406</th>\n",
              "      <td>29</td>\n",
              "      <td>0</td>\n",
              "      <td>Travel_Rarely</td>\n",
              "      <td>Research &amp; Development</td>\n",
              "      <td>2</td>\n",
              "      <td>4</td>\n",
              "      <td>Medical</td>\n",
              "      <td>1</td>\n",
              "      <td>4407</td>\n",
              "      <td>1</td>\n",
              "      <td>1</td>\n",
              "      <td>Laboratory Technician</td>\n",
              "      <td>Divorced</td>\n",
              "      <td>26790</td>\n",
              "      <td>2.0</td>\n",
              "      <td>Y</td>\n",
              "      <td>15</td>\n",
              "      <td>8</td>\n",
              "      <td>0</td>\n",
              "      <td>10.0</td>\n",
              "      <td>2</td>\n",
              "      <td>3</td>\n",
              "      <td>0</td>\n",
              "      <td>2</td>\n",
              "    </tr>\n",
              "    <tr>\n",
              "      <th>4407</th>\n",
              "      <td>25</td>\n",
              "      <td>0</td>\n",
              "      <td>Travel_Rarely</td>\n",
              "      <td>Research &amp; Development</td>\n",
              "      <td>25</td>\n",
              "      <td>2</td>\n",
              "      <td>Life Sciences</td>\n",
              "      <td>1</td>\n",
              "      <td>4408</td>\n",
              "      <td>1</td>\n",
              "      <td>2</td>\n",
              "      <td>Sales Executive</td>\n",
              "      <td>Married</td>\n",
              "      <td>37020</td>\n",
              "      <td>0.0</td>\n",
              "      <td>Y</td>\n",
              "      <td>20</td>\n",
              "      <td>8</td>\n",
              "      <td>0</td>\n",
              "      <td>5.0</td>\n",
              "      <td>4</td>\n",
              "      <td>4</td>\n",
              "      <td>1</td>\n",
              "      <td>2</td>\n",
              "    </tr>\n",
              "    <tr>\n",
              "      <th>4408</th>\n",
              "      <td>42</td>\n",
              "      <td>0</td>\n",
              "      <td>Travel_Rarely</td>\n",
              "      <td>Sales</td>\n",
              "      <td>18</td>\n",
              "      <td>2</td>\n",
              "      <td>Medical</td>\n",
              "      <td>1</td>\n",
              "      <td>4409</td>\n",
              "      <td>1</td>\n",
              "      <td>1</td>\n",
              "      <td>Laboratory Technician</td>\n",
              "      <td>Divorced</td>\n",
              "      <td>23980</td>\n",
              "      <td>0.0</td>\n",
              "      <td>Y</td>\n",
              "      <td>14</td>\n",
              "      <td>8</td>\n",
              "      <td>1</td>\n",
              "      <td>10.0</td>\n",
              "      <td>2</td>\n",
              "      <td>9</td>\n",
              "      <td>7</td>\n",
              "      <td>8</td>\n",
              "    </tr>\n",
              "  </tbody>\n",
              "</table>\n",
              "<p>4401 rows × 24 columns</p>\n",
              "</div>"
            ],
            "text/plain": [
              "      Age  Attrition  ... YearsSinceLastPromotion YearsWithCurrManager\n",
              "0      51          0  ...                       0                    0\n",
              "1      31          1  ...                       1                    4\n",
              "2      32          0  ...                       0                    3\n",
              "3      38          0  ...                       7                    5\n",
              "4      32          0  ...                       0                    4\n",
              "...   ...        ...  ...                     ...                  ...\n",
              "4404   29          0  ...                       1                    5\n",
              "4405   42          0  ...                       0                    2\n",
              "4406   29          0  ...                       0                    2\n",
              "4407   25          0  ...                       1                    2\n",
              "4408   42          0  ...                       7                    8\n",
              "\n",
              "[4401 rows x 24 columns]"
            ]
          },
          "metadata": {
            "tags": []
          },
          "execution_count": 38
        }
      ]
    },
    {
      "cell_type": "markdown",
      "metadata": {
        "id": "rRkArsayh5at",
        "colab_type": "text"
      },
      "source": [
        "# Correlation between Attrition and other variables:"
      ]
    },
    {
      "cell_type": "markdown",
      "metadata": {
        "id": "JapkZK5ykIDr",
        "colab_type": "text"
      },
      "source": [
        "# **Statement 1** <br>\n",
        "Null Hypothesis: There is no significant correlation between Attrition and Age of Associates  <br> \n",
        "Ho: rho = 0"
      ]
    },
    {
      "cell_type": "code",
      "metadata": {
        "id": "hU5VIm5YkG8m",
        "colab_type": "code",
        "colab": {
          "base_uri": "https://localhost:8080/"
        },
        "outputId": "35231967-a07f-4e07-d75c-8b87f1110ec8"
      },
      "source": [
        "from scipy.stats import pearsonr\n",
        "\n",
        "stats,p = pearsonr(dataset.Attrition,dataset.Age)\n",
        "\n",
        "print(\"stats = \",stats,\"p =\",p)\n",
        "\n",
        "print(\"Conculsion:\")\n",
        "\n",
        "if p<0.05:\n",
        "  print(\"p<0.05, Null Hypothesis is rejected! \\n There is significant correlation between Attrition and Age\")\n",
        "else:\n",
        "  print(\"p>0.05, Null Hypothesis is accepted! \\n There is no significant correlation between Attrition and Age\")"
      ],
      "execution_count": null,
      "outputs": [
        {
          "output_type": "stream",
          "text": [
            "stats =  -0.15939233186195254 p = 1.9586145691736838e-26\n",
            "Conculsion:\n",
            "p<0.05, Null Hypothesis is rejected! \n",
            " There is significant correlation between Attrition and Age\n"
          ],
          "name": "stdout"
        }
      ]
    },
    {
      "cell_type": "markdown",
      "metadata": {
        "id": "nRwbbJgjsajm",
        "colab_type": "text"
      },
      "source": [
        "# **Statement 2** <br>\n",
        "Null Hypothesis: There is no significant correlation between Attrition and Gender of Associates  <br> \n",
        "Ho: rho = 0"
      ]
    },
    {
      "cell_type": "code",
      "metadata": {
        "id": "IEbT1GeBqbxk",
        "colab_type": "code",
        "colab": {
          "base_uri": "https://localhost:8080/"
        },
        "outputId": "334aec67-b4a3-46ef-f650-fe1b54d6e1e6"
      },
      "source": [
        "from scipy.stats import pearsonr\n",
        "\n",
        "stats,p = pearsonr(dataset.Attrition,dataset.Gender)\n",
        "\n",
        "print(\"stats = \",stats,\"p =\",p)\n",
        "\n",
        "print(\"Conculsion:\")\n",
        "\n",
        "if p<0.05:\n",
        "  print(\"p<0.05, Null Hypothesis is rejected! \\n There is significant correlation between Attrition and Gender\")\n",
        "else:\n",
        "  print(\"p>0.05, Null Hypothesis is accepted! \\n There is no significant correlation between Attrition and Gender\")"
      ],
      "execution_count": null,
      "outputs": [
        {
          "output_type": "stream",
          "text": [
            "stats =  0.018541053456778932 p = 0.2187830949487431\n",
            "Conculsion:\n",
            "p>0.05, Null Hypothesis is accepted! \n",
            " There is no significant correlation between Attrition and Gender\n"
          ],
          "name": "stdout"
        }
      ]
    },
    {
      "cell_type": "markdown",
      "metadata": {
        "id": "Gir9h04ftVk9",
        "colab_type": "text"
      },
      "source": [
        "# **Statement 3** <br>\n",
        "Null Hypothesis: There is no significant correlation between Attrition and Monthly Income of Associates  <br> \n",
        "Ho: rho = 0"
      ]
    },
    {
      "cell_type": "code",
      "metadata": {
        "id": "dZJBZupqtV9n",
        "colab_type": "code",
        "colab": {
          "base_uri": "https://localhost:8080/"
        },
        "outputId": "658aa167-3f1c-4f5c-e690-97aa66f75aab"
      },
      "source": [
        "from scipy.stats import pearsonr\n",
        "\n",
        "stats,p = pearsonr(dataset.Attrition,dataset.MonthlyIncome)\n",
        "\n",
        "print(\"stats = \",stats,\"p =\",p)\n",
        "\n",
        "print(\"Conculsion:\")\n",
        "\n",
        "if p<0.05:\n",
        "  print(\"p<0.05, Null Hypothesis is rejected! \\n There is significant correlation between Attrition and Monthly Income\")\n",
        "else:\n",
        "  print(\"p>0.05, Null Hypothesis is accepted! \\n There is no significant correlation between Attrition and Monthly Income\")"
      ],
      "execution_count": null,
      "outputs": [
        {
          "output_type": "stream",
          "text": [
            "stats =  -0.030160293808460668 p = 0.045890862744719166\n",
            "Conculsion:\n",
            "p<0.05, Null Hypothesis is rejected! \n",
            " There is significant correlation between Attrition and Monthly Income\n"
          ],
          "name": "stdout"
        }
      ]
    },
    {
      "cell_type": "markdown",
      "metadata": {
        "id": "hgGCJ1cFt5L0",
        "colab_type": "text"
      },
      "source": [
        "# **Statement 4** <br>\n",
        "Null Hypothesis: There is no significant correlation between Attrition and Total working years of Associates  <br> \n",
        "Ho: rho = 0"
      ]
    },
    {
      "cell_type": "code",
      "metadata": {
        "id": "GIsPiAodt0OG",
        "colab_type": "code",
        "colab": {
          "base_uri": "https://localhost:8080/"
        },
        "outputId": "984833ba-387b-499e-af06-7a8aea5d0a4a"
      },
      "source": [
        "from scipy.stats import pearsonr\n",
        "\n",
        "stats,p = pearsonr(dataset.Attrition,dataset.TotalWorkingYears)\n",
        "\n",
        "print(\"stats = \",stats,\"p =\",p)\n",
        "\n",
        "print(\"Conculsion:\")\n",
        "\n",
        "if p<0.05:\n",
        "  print(\"p<0.05, Null Hypothesis is rejected! \\n There is significant correlation between Attrition and TotalWorkingYears\")\n",
        "else:\n",
        "  print(\"p>0.05, Null Hypothesis is accepted! \\n There is no significant correlation between Attrition and TotalWorkingYears\")"
      ],
      "execution_count": null,
      "outputs": [
        {
          "output_type": "stream",
          "text": [
            "stats =  -0.1703384631724549 p = 5.241246810641933e-30\n",
            "Conculsion:\n",
            "p<0.05, Null Hypothesis is rejected! \n",
            " There is significant correlation between Attrition and TotalWorkingYears\n"
          ],
          "name": "stdout"
        }
      ]
    },
    {
      "cell_type": "markdown",
      "metadata": {
        "id": "FlbMnZIvwBg2",
        "colab_type": "text"
      },
      "source": [
        "# **Statement 5** <br>\n",
        "Null Hypothesis: There is no significant correlation between Attrition and YearsAtCompany\t of Associates  <br> \n",
        "Ho: rho = 0"
      ]
    },
    {
      "cell_type": "code",
      "metadata": {
        "id": "IoOGlGSKv-Zd",
        "colab_type": "code",
        "colab": {
          "base_uri": "https://localhost:8080/"
        },
        "outputId": "9585865f-dd6a-4570-99b1-117ac84e4a2e"
      },
      "source": [
        "from scipy.stats import pearsonr\n",
        "\n",
        "stats,p = pearsonr(dataset.Attrition,dataset.YearsAtCompany)\n",
        "\n",
        "print(\"stats = \",stats,\"p =\",p)\n",
        "\n",
        "print(\"Conculsion:\")\n",
        "\n",
        "if p<0.05:\n",
        "  print(\"p<0.05, Null Hypothesis is rejected! \\n There is significant correlation between Attrition and YearsAtCompany\")\n",
        "else:\n",
        "  print(\"p>0.05, Null Hypothesis is accepted! \\n There is no significant correlation between Attrition and YearsAtCompany\")"
      ],
      "execution_count": null,
      "outputs": [
        {
          "output_type": "stream",
          "text": [
            "stats =  -0.13361591411199794 p = 5.509399739538274e-19\n",
            "Conculsion:\n",
            "p<0.05, Null Hypothesis is rejected! \n",
            " There is significant correlation between Attrition and YearsAtCompany\n"
          ],
          "name": "stdout"
        }
      ]
    },
    {
      "cell_type": "markdown",
      "metadata": {
        "id": "GIwJkDNyxF8t",
        "colab_type": "text"
      },
      "source": [
        "# **Statement 6** <br>\n",
        "Null Hypothesis: There is no significant correlation between Attrition and TrainingTimesLastYear\t of Associates  <br> \n",
        "Ho: rho = 0"
      ]
    },
    {
      "cell_type": "code",
      "metadata": {
        "id": "4yPt7eIaxLe1",
        "colab_type": "code",
        "colab": {
          "base_uri": "https://localhost:8080/"
        },
        "outputId": "ba8245d2-a4b2-4215-b43d-1a6ac648f936"
      },
      "source": [
        "from scipy.stats import pearsonr\n",
        "\n",
        "stats,p = pearsonr(dataset.Attrition,dataset.TrainingTimesLastYear)\n",
        "\n",
        "print(\"stats = \",stats,\"p =\",p)\n",
        "\n",
        "print(\"Conculsion:\")\n",
        "\n",
        "if p<0.05:\n",
        "  print(\"p<0.05, Null Hypothesis is rejected! \\n There is significant correlation between Attrition and TrainingTimesLastYear\")\n",
        "else:\n",
        "  print(\"p>0.05, Null Hypothesis is accepted! \\n There is no significant correlation between Attrition and TrainingTimesLastYear\")"
      ],
      "execution_count": null,
      "outputs": [
        {
          "output_type": "stream",
          "text": [
            "stats =  -0.04842780673840439 p = 0.0013104780323732396\n",
            "Conculsion:\n",
            "p<0.05, Null Hypothesis is rejected! \n",
            " There is significant correlation between Attrition and TrainingTimesLastYear\n"
          ],
          "name": "stdout"
        }
      ]
    },
    {
      "cell_type": "markdown",
      "metadata": {
        "id": "_RUyypy1x6cX",
        "colab_type": "text"
      },
      "source": [
        "# **Statement 7** <br>\n",
        "Null Hypothesis: There is no significant correlation between Attrition and YearsSinceLastPromotion of Associates  <br> \n",
        "Ho: rho = 0"
      ]
    },
    {
      "cell_type": "code",
      "metadata": {
        "id": "23TT5YFRx-qA",
        "colab_type": "code",
        "colab": {
          "base_uri": "https://localhost:8080/"
        },
        "outputId": "1e47c847-1a0c-4c4f-e2df-23adc8aab905"
      },
      "source": [
        "from scipy.stats import pearsonr\n",
        "\n",
        "stats,p = pearsonr(dataset.Attrition,dataset.YearsSinceLastPromotion)\n",
        "\n",
        "print(\"stats = \",stats,\"p =\",p)\n",
        "\n",
        "print(\"Conculsion:\")\n",
        "\n",
        "if p<0.05:\n",
        "  print(\"p<0.05, Null Hypothesis is rejected! \\n There is significant correlation between Attrition and YearsSinceLastPromotion\")\n",
        "else:\n",
        "  print(\"p>0.05, Null Hypothesis is accepted! \\n There is no significant correlation between Attrition and YearsSinceLastPromotion\")"
      ],
      "execution_count": null,
      "outputs": [
        {
          "output_type": "stream",
          "text": [
            "stats =  -0.03142315056330998 p = 0.03752293607394324\n",
            "Conculsion:\n",
            "p<0.05, Null Hypothesis is rejected! \n",
            " There is significant correlation between Attrition and YearsSinceLastPromotion\n"
          ],
          "name": "stdout"
        }
      ]
    },
    {
      "cell_type": "markdown",
      "metadata": {
        "id": "Uy0Epb3MyIY2",
        "colab_type": "text"
      },
      "source": [
        "# **Statement 8** <br>\n",
        "Null Hypothesis: There is no significant correlation between Attrition and YearsWithCurrManager of Associates  <br> \n",
        "Ho: rho = 0"
      ]
    },
    {
      "cell_type": "code",
      "metadata": {
        "id": "2nN1-YtVyLl1",
        "colab_type": "code",
        "colab": {
          "base_uri": "https://localhost:8080/"
        },
        "outputId": "4122048f-7078-4620-a9c7-57c5304c1800"
      },
      "source": [
        "from scipy.stats import pearsonr\n",
        "\n",
        "stats,p = pearsonr(dataset.Attrition,dataset.YearsWithCurrManager)\n",
        "\n",
        "print(\"stats = \",stats,\"p =\",p)\n",
        "\n",
        "print(\"Conculsion:\")\n",
        "\n",
        "if p<0.05:\n",
        "  print(\"p<0.05, Null Hypothesis is rejected! \\n There is significant correlation between Attrition and YearsWithCurrManager\")\n",
        "else:\n",
        "  print(\"p>0.05, Null Hypothesis is accepted! \\n There is no significant correlation between Attrition and YearsWithCurrManager\")"
      ],
      "execution_count": null,
      "outputs": [
        {
          "output_type": "stream",
          "text": [
            "stats =  -0.15469153690287285 p = 7.105369646772844e-25\n",
            "Conculsion:\n",
            "p<0.05, Null Hypothesis is rejected! \n",
            " There is significant correlation between Attrition and YearsWithCurrManager\n"
          ],
          "name": "stdout"
        }
      ]
    },
    {
      "cell_type": "markdown",
      "metadata": {
        "id": "WWJ3oL7SyXfd",
        "colab_type": "text"
      },
      "source": [
        "# **Statement 9** <br>\n",
        "Null Hypothesis: There is no significant correlation between Attrition and Number of Companies Worked of Associates  <br> \n",
        "Ho: rho = 0"
      ]
    },
    {
      "cell_type": "code",
      "metadata": {
        "id": "bOy5aN_yybSp",
        "colab_type": "code",
        "colab": {
          "base_uri": "https://localhost:8080/"
        },
        "outputId": "f0b88c1f-847a-40d0-9b58-76c61778606e"
      },
      "source": [
        "from scipy.stats import pearsonr\n",
        "\n",
        "stats,p = pearsonr(dataset.Attrition,dataset.NumCompaniesWorked)\n",
        "\n",
        "print(\"stats = \",stats,\"p =\",p)\n",
        "\n",
        "print(\"Conculsion:\")\n",
        "\n",
        "if p<0.05:\n",
        "  print(\"p<0.05, Null Hypothesis is rejected! \\n There is significant correlation between Attrition and Number of Companies Worked\")\n",
        "else:\n",
        "  print(\"p>0.05, Null Hypothesis is accepted! \\n There is no significant correlation between Attrition and Number of Companies Worked\")"
      ],
      "execution_count": null,
      "outputs": [
        {
          "output_type": "stream",
          "text": [
            "stats =  0.042830567244720834 p = 0.004572057121622929\n",
            "Conculsion:\n",
            "p<0.05, Null Hypothesis is rejected! \n",
            " There is significant correlation between Attrition and Number of Companies Worked\n"
          ],
          "name": "stdout"
        }
      ]
    },
    {
      "cell_type": "markdown",
      "metadata": {
        "id": "OZT_RWodyoAn",
        "colab_type": "text"
      },
      "source": [
        "# **Statement 10** <br>\n",
        "Null Hypothesis: There is no significant correlation between Attrition and Distance From Home of Associates  <br> \n",
        "Ho: rho = 0"
      ]
    },
    {
      "cell_type": "code",
      "metadata": {
        "id": "EInHfSSoyo-z",
        "colab_type": "code",
        "colab": {
          "base_uri": "https://localhost:8080/"
        },
        "outputId": "1b3fb963-661d-4d01-8626-05f002987fdc"
      },
      "source": [
        "from scipy.stats import pearsonr\n",
        "\n",
        "stats,p = pearsonr(dataset.Attrition,dataset.DistanceFromHome)\n",
        "\n",
        "print(\"stats = \",stats,\"p =\",p)\n",
        "\n",
        "print(\"Conculsion:\")\n",
        "\n",
        "if p<0.05:\n",
        "  print(\"p<0.05, Null Hypothesis is rejected! \\n There is significant correlation between Attrition and Distance From Home\")\n",
        "else:\n",
        "  print(\"p>0.05, Null Hypothesis is accepted! \\n There is no significant correlation between Attrition and Distance From Home\")"
      ],
      "execution_count": null,
      "outputs": [
        {
          "output_type": "stream",
          "text": [
            "stats =  -0.008608690771596579 p = 0.5680340915894816\n",
            "Conculsion:\n",
            "p>0.05, Null Hypothesis is accepted! \n",
            " There is no significant correlation between Attrition and Distance From Home\n"
          ],
          "name": "stdout"
        }
      ]
    },
    {
      "cell_type": "code",
      "metadata": {
        "id": "poV-ouRuzA8a",
        "colab_type": "code",
        "colab": {}
      },
      "source": [
        ""
      ],
      "execution_count": null,
      "outputs": []
    }
  ]
}