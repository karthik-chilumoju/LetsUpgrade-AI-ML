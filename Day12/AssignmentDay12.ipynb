{
  "nbformat": 4,
  "nbformat_minor": 0,
  "metadata": {
    "colab": {
      "name": "AssignmentDay12.ipynb",
      "provenance": [],
      "collapsed_sections": [
        "9CDePFfQfXkL",
        "URRJ4ixrQA84",
        "rRkArsayh5at",
        "nDis5BCH71h3"
      ]
    },
    "kernelspec": {
      "name": "python3",
      "display_name": "Python 3"
    }
  },
  "cells": [
    {
      "cell_type": "code",
      "metadata": {
        "id": "i-77NXf5fJ4L",
        "colab_type": "code",
        "colab": {}
      },
      "source": [
        "import pandas as pd\n",
        "import numpy as np\n",
        "import matplotlib.pyplot as plt"
      ],
      "execution_count": 36,
      "outputs": []
    },
    {
      "cell_type": "code",
      "metadata": {
        "id": "mytKPJvOfnjY",
        "colab_type": "code",
        "colab": {
          "base_uri": "https://localhost:8080/",
          "height": 544
        },
        "outputId": "5f4d2614-0a6d-431f-9455-b213ba384150"
      },
      "source": [
        "dataset = pd.read_csv(\"general_data.csv\")\n",
        "dataset.info()"
      ],
      "execution_count": 37,
      "outputs": [
        {
          "output_type": "stream",
          "text": [
            "<class 'pandas.core.frame.DataFrame'>\n",
            "RangeIndex: 4410 entries, 0 to 4409\n",
            "Data columns (total 24 columns):\n",
            " #   Column                   Non-Null Count  Dtype  \n",
            "---  ------                   --------------  -----  \n",
            " 0   Age                      4410 non-null   int64  \n",
            " 1   Attrition                4410 non-null   object \n",
            " 2   BusinessTravel           4410 non-null   object \n",
            " 3   Department               4410 non-null   object \n",
            " 4   DistanceFromHome         4410 non-null   int64  \n",
            " 5   Education                4410 non-null   int64  \n",
            " 6   EducationField           4410 non-null   object \n",
            " 7   EmployeeCount            4410 non-null   int64  \n",
            " 8   EmployeeID               4410 non-null   int64  \n",
            " 9   Gender                   4410 non-null   object \n",
            " 10  JobLevel                 4410 non-null   int64  \n",
            " 11  JobRole                  4410 non-null   object \n",
            " 12  MaritalStatus            4410 non-null   object \n",
            " 13  MonthlyIncome            4410 non-null   int64  \n",
            " 14  NumCompaniesWorked       4391 non-null   float64\n",
            " 15  Over18                   4410 non-null   object \n",
            " 16  PercentSalaryHike        4410 non-null   int64  \n",
            " 17  StandardHours            4410 non-null   int64  \n",
            " 18  StockOptionLevel         4410 non-null   int64  \n",
            " 19  TotalWorkingYears        4401 non-null   float64\n",
            " 20  TrainingTimesLastYear    4410 non-null   int64  \n",
            " 21  YearsAtCompany           4410 non-null   int64  \n",
            " 22  YearsSinceLastPromotion  4410 non-null   int64  \n",
            " 23  YearsWithCurrManager     4410 non-null   int64  \n",
            "dtypes: float64(2), int64(14), object(8)\n",
            "memory usage: 827.0+ KB\n"
          ],
          "name": "stdout"
        }
      ]
    },
    {
      "cell_type": "markdown",
      "metadata": {
        "id": "9CDePFfQfXkL",
        "colab_type": "text"
      },
      "source": [
        "# Dataset and Data preparation:"
      ]
    },
    {
      "cell_type": "code",
      "metadata": {
        "id": "iA6RqlvrgKGr",
        "colab_type": "code",
        "colab": {
          "base_uri": "https://localhost:8080/",
          "height": 255
        },
        "outputId": "770e90b2-4d8e-4cb8-dc12-3491b139b011"
      },
      "source": [
        "dataset.dropna"
      ],
      "execution_count": 38,
      "outputs": [
        {
          "output_type": "execute_result",
          "data": {
            "text/plain": [
              "<bound method DataFrame.dropna of       Age Attrition  ... YearsSinceLastPromotion YearsWithCurrManager\n",
              "0      51        No  ...                       0                    0\n",
              "1      31       Yes  ...                       1                    4\n",
              "2      32        No  ...                       0                    3\n",
              "3      38        No  ...                       7                    5\n",
              "4      32        No  ...                       0                    4\n",
              "...   ...       ...  ...                     ...                  ...\n",
              "4405   42        No  ...                       0                    2\n",
              "4406   29        No  ...                       0                    2\n",
              "4407   25        No  ...                       1                    2\n",
              "4408   42        No  ...                       7                    8\n",
              "4409   40        No  ...                       3                    9\n",
              "\n",
              "[4410 rows x 24 columns]>"
            ]
          },
          "metadata": {
            "tags": []
          },
          "execution_count": 38
        }
      ]
    },
    {
      "cell_type": "code",
      "metadata": {
        "id": "Fy42q6NZgU9v",
        "colab_type": "code",
        "colab": {
          "base_uri": "https://localhost:8080/",
          "height": 255
        },
        "outputId": "241ba629-e4a9-4361-ccda-6c29abbe1f45"
      },
      "source": [
        "dataset.drop_duplicates"
      ],
      "execution_count": 39,
      "outputs": [
        {
          "output_type": "execute_result",
          "data": {
            "text/plain": [
              "<bound method DataFrame.drop_duplicates of       Age Attrition  ... YearsSinceLastPromotion YearsWithCurrManager\n",
              "0      51        No  ...                       0                    0\n",
              "1      31       Yes  ...                       1                    4\n",
              "2      32        No  ...                       0                    3\n",
              "3      38        No  ...                       7                    5\n",
              "4      32        No  ...                       0                    4\n",
              "...   ...       ...  ...                     ...                  ...\n",
              "4405   42        No  ...                       0                    2\n",
              "4406   29        No  ...                       0                    2\n",
              "4407   25        No  ...                       1                    2\n",
              "4408   42        No  ...                       7                    8\n",
              "4409   40        No  ...                       3                    9\n",
              "\n",
              "[4410 rows x 24 columns]>"
            ]
          },
          "metadata": {
            "tags": []
          },
          "execution_count": 39
        }
      ]
    },
    {
      "cell_type": "code",
      "metadata": {
        "id": "fxgj61yBuU89",
        "colab_type": "code",
        "colab": {}
      },
      "source": [
        "dataset = dataset[~dataset['TotalWorkingYears'].isin(['NaN'])]\n",
        "dataset = dataset[~dataset['NumCompaniesWorked'].isin(['NaN'])]"
      ],
      "execution_count": 40,
      "outputs": []
    },
    {
      "cell_type": "code",
      "metadata": {
        "id": "YYchmTZiiI6C",
        "colab_type": "code",
        "colab": {
          "base_uri": "https://localhost:8080/",
          "height": 317
        },
        "outputId": "85134df9-8ff5-4b7a-beb5-2c29887f0cca"
      },
      "source": [
        "summary= dataset[['Age','DistanceFromHome','MonthlyIncome','StandardHours','PercentSalaryHike','TotalWorkingYears','NumCompaniesWorked','TrainingTimesLastYear','YearsSinceLastPromotion','YearsWithCurrManager','YearsAtCompany']].describe()\n",
        "summary"
      ],
      "execution_count": 41,
      "outputs": [
        {
          "output_type": "execute_result",
          "data": {
            "text/html": [
              "<div>\n",
              "<style scoped>\n",
              "    .dataframe tbody tr th:only-of-type {\n",
              "        vertical-align: middle;\n",
              "    }\n",
              "\n",
              "    .dataframe tbody tr th {\n",
              "        vertical-align: top;\n",
              "    }\n",
              "\n",
              "    .dataframe thead th {\n",
              "        text-align: right;\n",
              "    }\n",
              "</style>\n",
              "<table border=\"1\" class=\"dataframe\">\n",
              "  <thead>\n",
              "    <tr style=\"text-align: right;\">\n",
              "      <th></th>\n",
              "      <th>Age</th>\n",
              "      <th>DistanceFromHome</th>\n",
              "      <th>MonthlyIncome</th>\n",
              "      <th>StandardHours</th>\n",
              "      <th>PercentSalaryHike</th>\n",
              "      <th>TotalWorkingYears</th>\n",
              "      <th>NumCompaniesWorked</th>\n",
              "      <th>TrainingTimesLastYear</th>\n",
              "      <th>YearsSinceLastPromotion</th>\n",
              "      <th>YearsWithCurrManager</th>\n",
              "      <th>YearsAtCompany</th>\n",
              "    </tr>\n",
              "  </thead>\n",
              "  <tbody>\n",
              "    <tr>\n",
              "      <th>count</th>\n",
              "      <td>4382.000000</td>\n",
              "      <td>4382.000000</td>\n",
              "      <td>4382.000000</td>\n",
              "      <td>4382.0</td>\n",
              "      <td>4382.000000</td>\n",
              "      <td>4382.000000</td>\n",
              "      <td>4382.000000</td>\n",
              "      <td>4382.000000</td>\n",
              "      <td>4382.000000</td>\n",
              "      <td>4382.000000</td>\n",
              "      <td>4382.000000</td>\n",
              "    </tr>\n",
              "    <tr>\n",
              "      <th>mean</th>\n",
              "      <td>36.933364</td>\n",
              "      <td>9.198996</td>\n",
              "      <td>65061.702419</td>\n",
              "      <td>8.0</td>\n",
              "      <td>15.210634</td>\n",
              "      <td>11.290278</td>\n",
              "      <td>2.693291</td>\n",
              "      <td>2.798266</td>\n",
              "      <td>2.191693</td>\n",
              "      <td>4.126198</td>\n",
              "      <td>7.010497</td>\n",
              "    </tr>\n",
              "    <tr>\n",
              "      <th>std</th>\n",
              "      <td>9.137272</td>\n",
              "      <td>8.105396</td>\n",
              "      <td>47142.310175</td>\n",
              "      <td>0.0</td>\n",
              "      <td>3.663007</td>\n",
              "      <td>7.785717</td>\n",
              "      <td>2.497832</td>\n",
              "      <td>1.289402</td>\n",
              "      <td>3.224994</td>\n",
              "      <td>3.569674</td>\n",
              "      <td>6.129351</td>\n",
              "    </tr>\n",
              "    <tr>\n",
              "      <th>min</th>\n",
              "      <td>18.000000</td>\n",
              "      <td>1.000000</td>\n",
              "      <td>10090.000000</td>\n",
              "      <td>8.0</td>\n",
              "      <td>11.000000</td>\n",
              "      <td>0.000000</td>\n",
              "      <td>0.000000</td>\n",
              "      <td>0.000000</td>\n",
              "      <td>0.000000</td>\n",
              "      <td>0.000000</td>\n",
              "      <td>0.000000</td>\n",
              "    </tr>\n",
              "    <tr>\n",
              "      <th>25%</th>\n",
              "      <td>30.000000</td>\n",
              "      <td>2.000000</td>\n",
              "      <td>29110.000000</td>\n",
              "      <td>8.0</td>\n",
              "      <td>12.000000</td>\n",
              "      <td>6.000000</td>\n",
              "      <td>1.000000</td>\n",
              "      <td>2.000000</td>\n",
              "      <td>0.000000</td>\n",
              "      <td>2.000000</td>\n",
              "      <td>3.000000</td>\n",
              "    </tr>\n",
              "    <tr>\n",
              "      <th>50%</th>\n",
              "      <td>36.000000</td>\n",
              "      <td>7.000000</td>\n",
              "      <td>49190.000000</td>\n",
              "      <td>8.0</td>\n",
              "      <td>14.000000</td>\n",
              "      <td>10.000000</td>\n",
              "      <td>2.000000</td>\n",
              "      <td>3.000000</td>\n",
              "      <td>1.000000</td>\n",
              "      <td>3.000000</td>\n",
              "      <td>5.000000</td>\n",
              "    </tr>\n",
              "    <tr>\n",
              "      <th>75%</th>\n",
              "      <td>43.000000</td>\n",
              "      <td>14.000000</td>\n",
              "      <td>83790.000000</td>\n",
              "      <td>8.0</td>\n",
              "      <td>18.000000</td>\n",
              "      <td>15.000000</td>\n",
              "      <td>4.000000</td>\n",
              "      <td>3.000000</td>\n",
              "      <td>3.000000</td>\n",
              "      <td>7.000000</td>\n",
              "      <td>9.000000</td>\n",
              "    </tr>\n",
              "    <tr>\n",
              "      <th>max</th>\n",
              "      <td>60.000000</td>\n",
              "      <td>29.000000</td>\n",
              "      <td>199990.000000</td>\n",
              "      <td>8.0</td>\n",
              "      <td>25.000000</td>\n",
              "      <td>40.000000</td>\n",
              "      <td>9.000000</td>\n",
              "      <td>6.000000</td>\n",
              "      <td>15.000000</td>\n",
              "      <td>17.000000</td>\n",
              "      <td>40.000000</td>\n",
              "    </tr>\n",
              "  </tbody>\n",
              "</table>\n",
              "</div>"
            ],
            "text/plain": [
              "               Age  DistanceFromHome  ...  YearsWithCurrManager  YearsAtCompany\n",
              "count  4382.000000       4382.000000  ...           4382.000000     4382.000000\n",
              "mean     36.933364          9.198996  ...              4.126198        7.010497\n",
              "std       9.137272          8.105396  ...              3.569674        6.129351\n",
              "min      18.000000          1.000000  ...              0.000000        0.000000\n",
              "25%      30.000000          2.000000  ...              2.000000        3.000000\n",
              "50%      36.000000          7.000000  ...              3.000000        5.000000\n",
              "75%      43.000000         14.000000  ...              7.000000        9.000000\n",
              "max      60.000000         29.000000  ...             17.000000       40.000000\n",
              "\n",
              "[8 rows x 11 columns]"
            ]
          },
          "metadata": {
            "tags": []
          },
          "execution_count": 41
        }
      ]
    },
    {
      "cell_type": "markdown",
      "metadata": {
        "id": "URRJ4ixrQA84",
        "colab_type": "text"
      },
      "source": [
        "## Sorting the Attrition data:"
      ]
    },
    {
      "cell_type": "code",
      "metadata": {
        "id": "EKxPXy8UQFO_",
        "colab_type": "code",
        "colab": {}
      },
      "source": [
        "dfyes = pd.read_excel('general_data_Attrition_Yes.xlsx',sheet_name=0)\n",
        "dfno = pd.read_excel('general_data_Attrition_No.xlsx',sheet_name=0)"
      ],
      "execution_count": 42,
      "outputs": []
    },
    {
      "cell_type": "code",
      "metadata": {
        "id": "_l_Tt9Mwddlu",
        "colab_type": "code",
        "colab": {}
      },
      "source": [
        "dfsingle = pd.read_excel('general_data_Single.xlsx',sheet_name=0)\n",
        "dfmarried = pd.read_excel('general_data_Married.xlsx',sheet_name=0)\n",
        "dfdivorce = pd.read_excel('general_data_Divorced.xlsx',sheet_name=0)"
      ],
      "execution_count": 43,
      "outputs": []
    },
    {
      "cell_type": "code",
      "metadata": {
        "id": "e-HidSg8i62W",
        "colab_type": "code",
        "colab": {}
      },
      "source": [
        "dfmale = pd.read_excel('general_data_Male.xlsx',sheet_name=0)\n",
        "dffemale = pd.read_excel('general_data_Female.xlsx',sheet_name=0)"
      ],
      "execution_count": 44,
      "outputs": []
    },
    {
      "cell_type": "markdown",
      "metadata": {
        "id": "rRkArsayh5at",
        "colab_type": "text"
      },
      "source": [
        "# **Non parametric Hypothesis**"
      ]
    },
    {
      "cell_type": "markdown",
      "metadata": {
        "id": "JapkZK5ykIDr",
        "colab_type": "text"
      },
      "source": [
        "## **Wilcoxon Test** <br>\n",
        "(Comparision of two paried samples) <br>\n",
        "There is no chance to perform subject test since there are no independent samples in it."
      ]
    },
    {
      "cell_type": "markdown",
      "metadata": {
        "id": "nRwbbJgjsajm",
        "colab_type": "text"
      },
      "source": [
        "## **Friedman Test** <br>\n",
        "(Comparision of more than two paired samples) <br>\n",
        "There is no chance to perform subject test since there are no independent samples in it.  <br> "
      ]
    },
    {
      "cell_type": "markdown",
      "metadata": {
        "id": "Z52jkqBI6bsJ",
        "colab_type": "text"
      },
      "source": [
        "## **Mann-Whitney Test** <br>\n",
        "(Comparision of two independent samples)  <br>\n",
        "\n",
        "Null Hypothesis: There is no significant difference in Annual Incomes with Attrition- Yes and Attrition-No\n",
        "\n",
        "Alternate Hypothesis: There is significant difference in Annual Incomes with Attrition- Yes and Attrition-No\n"
      ]
    },
    {
      "cell_type": "code",
      "metadata": {
        "id": "ZmzrlxWCTxoW",
        "colab_type": "code",
        "colab": {
          "base_uri": "https://localhost:8080/",
          "height": 85
        },
        "outputId": "64131706-2a7e-48a4-f9c3-eb9a8f1d7f7a"
      },
      "source": [
        "from scipy.stats import mannwhitneyu\n",
        "stat,p = mannwhitneyu(dfyes.MonthlyIncome,dfno.MonthlyIncome)\n",
        "\n",
        "print(\"stat = \",stat,\"p =\",p)\n",
        "\n",
        "print(\"Conculsion:\")\n",
        "\n",
        "if p<0.05:\n",
        "  print(\"p<0.05, Null Hypothesis is rejected! \\n There is significant difference in Annual Incomes with Attrition- Yes and Attrition-No\")\n",
        "else:\n",
        "  print(\"p>0.05, Null Hypothesis is accepted! \\n There is no significant difference in Annual Incomes with Attrition- Yes and Attrition-No\")"
      ],
      "execution_count": 45,
      "outputs": [
        {
          "output_type": "stream",
          "text": [
            "stat =  1264900.5 p = 0.053577283839938566\n",
            "Conculsion:\n",
            "p>0.05, Null Hypothesis is accepted! \n",
            " There is no significant difference in Annual Incomes with Attrition- Yes and Attrition-No\n"
          ],
          "name": "stdout"
        }
      ]
    },
    {
      "cell_type": "markdown",
      "metadata": {
        "id": "Gir9h04ftVk9",
        "colab_type": "text"
      },
      "source": [
        "## **Kurskhal-wallis Test** <br>\n",
        "(Comparision of more than two independent samples)  <br>\n",
        "\n",
        "Null Hypothesis: There is no significant difference in Distance from Home\n",
        " with marital status (Married, single and Divorced associates)\n",
        "\n",
        "Alternate Hypothesis: There is significant difference in Distance from Home with marital status (Married, single and Divorced associates)"
      ]
    },
    {
      "cell_type": "code",
      "metadata": {
        "id": "aZ9qke9TdU5w",
        "colab_type": "code",
        "colab": {
          "base_uri": "https://localhost:8080/",
          "height": 85
        },
        "outputId": "39399d76-ab91-4551-b6aa-99f0494364f8"
      },
      "source": [
        "from scipy.stats import kruskal\n",
        "\n",
        "stat,p =kruskal(dfsingle.DistanceFromHome,dfmarried.DistanceFromHome,dfdivorce.DistanceFromHome)\n",
        "\n",
        "print(\"stat = \",stat,\"p =\",p)\n",
        "\n",
        "print(\"Conculsion:\")\n",
        "\n",
        "if p<0.05:\n",
        "  print(\"p<0.05, Null Hypothesis is rejected! \\n There is significant difference in Distance from Home with marital status (Married, single and Divorced associates)\")\n",
        "else:\n",
        "  print(\"p>0.05, Null Hypothesis is accepted! \\n There is no significant difference in Distance from Home with marital status (Married, single and Divorced associates)\")"
      ],
      "execution_count": 46,
      "outputs": [
        {
          "output_type": "stream",
          "text": [
            "stat =  9.467930759090601 p = 0.008791540035126109\n",
            "Conculsion:\n",
            "p<0.05, Null Hypothesis is rejected! \n",
            " There is significant difference in Distance from Home with marital status (Married, single and Divorced associates)\n"
          ],
          "name": "stdout"
        }
      ]
    },
    {
      "cell_type": "markdown",
      "metadata": {
        "id": "RH27TWxA7OZv",
        "colab_type": "text"
      },
      "source": [
        "## **Chi- square Test** <br>\n",
        "(Checking dependency of 3 categorical variables) <br>\n",
        "Null Hypothesis: There is no significant dependency between Attrition and Gender of Associates  <br> \n",
        "\n",
        "Alternate Hypothesis: There is significant dependency between Attrition and Gender of Associates  <br> "
      ]
    },
    {
      "cell_type": "code",
      "metadata": {
        "id": "dZJBZupqtV9n",
        "colab_type": "code",
        "colab": {
          "base_uri": "https://localhost:8080/",
          "height": 85
        },
        "outputId": "1d494102-ee3d-4445-92cb-97a12b7a7065"
      },
      "source": [
        "from scipy.stats import chi2_contingency\n",
        "\n",
        "chitable = pd.crosstab(dfmale.Attrition,dffemale.Attrition)\n",
        "stats,p,dof,expected = chi2_contingency(chitable)\n",
        "\n",
        "print(\"stats = \",stats,\"p =\",p)\n",
        "\n",
        "print(\"Conculsion:\")\n",
        "\n",
        "if p<0.05:\n",
        "  print(\"p<0.05, Null Hypothesis is rejected! \\n There is significant dependency between Attrition and Gender of Associates\")\n",
        "else:\n",
        "  print(\"p>0.05, Null Hypothesis is accepted! \\n There is no significant dependency between Attrition and Gender of Associates\")"
      ],
      "execution_count": 56,
      "outputs": [
        {
          "output_type": "stream",
          "text": [
            "stats =  4402.608354144141 p = 0.0\n",
            "Conculsion:\n",
            "p<0.05, Null Hypothesis is rejected! \n",
            " There is significant dependency between Attrition and Gender of Associates\n"
          ],
          "name": "stdout"
        }
      ]
    },
    {
      "cell_type": "markdown",
      "metadata": {
        "id": "nDis5BCH71h3",
        "colab_type": "text"
      },
      "source": [
        "# **Parametric Test:**"
      ]
    },
    {
      "cell_type": "markdown",
      "metadata": {
        "id": "GIwJkDNyxF8t",
        "colab_type": "text"
      },
      "source": [
        "## **Two sample independent t test** <br>\n",
        "(Compare the mean of two independent samples)\n",
        "\n",
        "Null Hypothesis: There is no significant differences in the Distance From Home between attrition (Y) and attirition (N)  <br> \n",
        "\n",
        "Alternate Hypothesis: There is significant differences in the Distance From Home between attrition (Y) and attirition (N)  <br> "
      ]
    },
    {
      "cell_type": "code",
      "metadata": {
        "id": "kPWOkpqsnUwR",
        "colab_type": "code",
        "colab": {
          "base_uri": "https://localhost:8080/",
          "height": 85
        },
        "outputId": "64ed422e-aab2-4497-c8d3-07d41e5a9f79"
      },
      "source": [
        "from scipy.stats import ttest_ind\n",
        "stats, p = ttest_ind(dfyes.MonthlyIncome,dfno.MonthlyIncome)\n",
        "\n",
        "print(\"stats = \",stats,\"p =\",p)\n",
        "\n",
        "print(\"Conculsion:\")\n",
        "\n",
        "if p<0.05:\n",
        "  print(\"p<0.05, Null Hypothesis is rejected! \\n There is significant difference in Distance From Home with Attrition- Yes and Attrition-No\")\n",
        "else:\n",
        "  print(\"p>0.05, Null Hypothesis is accepted! \\n There is no significant difference in Distance From Home with Attrition- Yes and Attrition-No\")"
      ],
      "execution_count": 61,
      "outputs": [
        {
          "output_type": "stream",
          "text": [
            "stats =  -2.0708863763619316 p = 0.03842748490605113\n",
            "Conculsion:\n",
            "p<0.05, Null Hypothesis is rejected! \n",
            " There is significant difference in Distance From Home with Attrition- Yes and Attrition-No\n"
          ],
          "name": "stdout"
        }
      ]
    }
  ]
}